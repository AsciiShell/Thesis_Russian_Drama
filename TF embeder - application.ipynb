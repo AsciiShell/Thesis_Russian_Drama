{
 "cells": [
  {
   "cell_type": "code",
   "execution_count": 1,
   "metadata": {},
   "outputs": [],
   "source": [
    "from collections import OrderedDict"
   ]
  },
  {
   "cell_type": "code",
   "execution_count": 2,
   "metadata": {},
   "outputs": [],
   "source": [
    "def find_by_key(some, key, curr_key=''):\n",
    "    type_of_some = type(some)\n",
    "    if key==curr_key:\n",
    "        return some\n",
    "    elif type_of_some == list:\n",
    "        return [find_by_key(s, key, curr_key='') for s in some]\n",
    "    elif type_of_some == type(OrderedDict([])):\n",
    "        return [find_by_key(some[curr_key], key, curr_key) for curr_key in some]\n",
    "    else:\n",
    "        return None\n",
    "    \n",
    "def flat_list_and_drop_None(some):\n",
    "    output = []\n",
    "    for s in some:\n",
    "        if type(s) == list:\n",
    "            output.extend(flat_list_and_drop_None(s))\n",
    "        else:\n",
    "            if s is not None:\n",
    "                output.append(s)\n",
    "    return output"
   ]
  },
  {
   "cell_type": "code",
   "execution_count": 236,
   "metadata": {
    "scrolled": true
   },
   "outputs": [
    {
     "data": {
      "text/plain": [
       "[('Benvolio',\n",
       "  \"I pray thee, good Mercutio, let's retire:\\nThe day is hot, the Capels are abroad,\\nAnd, if we meet, we shall not escape a brawl:\\nFor now, these hot days, is the mad blood stirring.\"),\n",
       " ('Mercutio',\n",
       "  'Thou art like one of these fellows that when he\\nenters the confines of a tavern claps me his\\nsword upon the table and says “God send me no\\nneed of thee!” and by the operation of the second\\ncup draws him on the drawer, when indeed there is no\\nneed.'),\n",
       " ('Benvolio', 'Am I like such a fellow?'),\n",
       " ('Mercutio',\n",
       "  'Come, come, thou art as hot a Jack in thy mood\\nas any in Italy, and as soon moved to be moody, and as\\nsoon moody to be moved.'),\n",
       " ('Benvolio', 'And what to?'),\n",
       " ('Mercutio',\n",
       "  'Nay, an there were two such, we should have none\\nshortly, for one would kill the other. Thou! why,\\nthou wilt quarrel with a man that hath a hair\\nmore, or a hair less, in his beard than thou\\nhast: thou wilt quarrel with a man for cracking\\nnuts, having no other reason but because thou\\nhast hazel eyes: what eye but such an eye would\\nspy out such a quarrel? Thy head is as full of\\nquarrels as an egg is full of meat, and yet thy\\nhead hath been beaten as addle as an egg for\\nquarrelling: thou hast quarrelled with a man for\\ncoughing in the street, because he hath wakened\\nthy dog that hath lain asleep in the sun: didst\\nthou not fall out with a tailor for wearing his\\nnew doublet before Easter? with another, for\\ntying his new shoes with old riband? and yet thou wilt\\ntutor me from quarrelling!'),\n",
       " ('Benvolio',\n",
       "  'An I were so apt to quarrel as thou art, any man\\nshould buy the fee-simple of my life for an hour and a\\nquarter.'),\n",
       " ('Mercutio', 'The fee-simple! O simple!'),\n",
       " ('Benvolio', 'By my head, here comes the Capulets.'),\n",
       " ('Mercutio', 'By my heel, I care not.'),\n",
       " ('Tybalt',\n",
       "  'Follow me close, for I will speak to them. Gentlemen,\\ngood den: a word with one of you.'),\n",
       " ('Mercutio',\n",
       "  'And but one word with one of us? couple it with\\nsomething; make it a word and a blow.'),\n",
       " ('Tybalt',\n",
       "  'You shall find me apt enough to that, sir, an you will\\ngive me occasion.'),\n",
       " ('Mercutio', 'Could you not take some occasion without giving?'),\n",
       " ('Tybalt', \"Mercutio, thou consort'st with Romeo, —\"),\n",
       " ('Mercutio',\n",
       "  \"Consort! what, dost thou make us minstrels? an\\nthou make minstrels of us, look to hear nothing\\nbut discords: here's my fiddlestick; here's that shall\\nmake you dance. 'Zounds, consort!\"),\n",
       " ('Benvolio',\n",
       "  'We talk here in the public haunt of men:\\nEither withdraw unto some private place,\\nOr reason coldly of your grievances,\\nOr else depart; here all eyes gaze on us.'),\n",
       " ('Mercutio',\n",
       "  \"Men's eyes were made to look, and let them gaze;\\nI will not budge for no man's pleasure, I.\"),\n",
       " ('Tybalt', 'Well, peace be with you, sir: here comes my man.'),\n",
       " ('Mercutio',\n",
       "  \"But I'll be hanged, sir, if he wear your livery:\\nMarry, go before to field, he'll be your follower;\\nYour worship in that sense may call him man.\"),\n",
       " ('Tybalt',\n",
       "  'Romeo, the love I bear thee can afford\\nNo better term than this, — thou art a villain.'),\n",
       " ('Romeo',\n",
       "  \"Tybalt, the reason that I have to love thee\\nDoth much excuse the appertaining rage\\nTo such a greeting: villain am I none;\\nTherefore farewell; I see thou know'st me not.\"),\n",
       " ('Tybalt',\n",
       "  'Boy, this shall not excuse the injuries\\nThat thou hast done me; therefore turn and draw.'),\n",
       " ('Romeo',\n",
       "  'I do protest, I never injured thee,\\nBut love thee better than thou canst devise,\\nTill thou shalt know the reason of my love:\\nAnd so, good Capulet, — which name I tender\\nAs dearly as mine own, — be satisfied.'),\n",
       " ('Mercutio',\n",
       "  'O calm, dishonourable, vile submission!\\nAlla stoccata carries it away.\\nTybalt, you rat-catcher, will you walk?'),\n",
       " ('Tybalt', 'What wouldst thou have with me?'),\n",
       " ('Mercutio',\n",
       "  'Good king of cats, nothing but one of your nine\\nlives; that I mean to make bold withal, and, as\\nyou shall use me hereafter, dry-beat the rest of\\nthe eight. Will you pluck your sword out of his\\npilcher by the ears? make haste, lest mine be about\\nyour ears ere it be out.'),\n",
       " ('Tybalt', 'I am for you.'),\n",
       " ('Romeo', 'Gentle Mercutio, put thy rapier up.'),\n",
       " ('Mercutio', 'Come, sir, your passado.'),\n",
       " ('Romeo',\n",
       "  'Draw, Benvolio; beat down their weapons.\\nGentlemen, for shame, forbear this outrage!\\nTybalt, Mercutio, the prince expressly hath\\nForbid this bandying in Verona streets:\\nHold, Tybalt! good Mercutio!'),\n",
       " ('Mercutio',\n",
       "  \"I am hurt.\\nA plague a' both houses! I am sped.\\nIs he gone, and hath nothing?\"),\n",
       " ('Benvolio', 'What, art thou hurt?'),\n",
       " ('Mercutio',\n",
       "  \"Ay, ay, a scratch, a scratch; marry, 'tis enough.\\nWhere is my page? Go, villain, fetch a surgeon.\"),\n",
       " ('Romeo', 'Courage, man; the hurt cannot be much.'),\n",
       " ('Mercutio',\n",
       "  \"No, 'tis not so deep as a well, nor so wide as\\na church-door; but 'tis enough, 'twill serve:\\nask for me to-morrow, and you shall find me a\\ngrave man. I am peppered, I warrant, for this\\nworld. A plague o' both your houses! 'Zounds, a\\ndog, a rat, a mouse, a cat, to scratch a man to\\ndeath! a braggart, a rogue, a villain, that fights\\nby the book of arithmetic! Why the devil came you\\nbetween us? I was hurt under your arm.\"),\n",
       " ('Romeo', 'I thought all for the best.'),\n",
       " ('Mercutio',\n",
       "  \"Help me into some house, Benvolio,\\nOr I shall faint. A plague a' both your houses!\\nThey have made worms' meat of me: I have it,\\nAnd soundly too: your houses!\"),\n",
       " ('Romeo',\n",
       "  \"This gentleman, the prince's near ally,\\nMy very friend, hath got this mortal hurt\\nIn my behalf; my reputation stained\\nWith Tybalt's slander, — Tybalt, that an hour\\nHath been my cousin! O sweet Juliet,\\nThy beauty hath made me effeminate\\nAnd in my temper softened valour's steel!\"),\n",
       " ('Benvolio',\n",
       "  'O Romeo, Romeo, brave Mercutio is dead!\\nThat gallant spirit hath aspired the clouds,\\nWhich too untimely here did scorn the earth.'),\n",
       " ('Romeo',\n",
       "  \"This day's black fate on more days doth depend;\\nThis but begins the woe others must end.\"),\n",
       " ('Benvolio', 'Here comes the furious Tybalt back again.'),\n",
       " ('Romeo',\n",
       "  \"Alive, in triumph! and Mercutio slain!\\nAway to heaven, respective lenity,\\nAnd fire-eyed fury be my conduct now!\\nNow, Tybalt, take the villain back again,\\nThat late thou gavest me; for Mercutio's soul\\nIs but a little way above our heads,\\nStaying for thine to keep him company:\\nEither thou, or I, or both, must go with him.\"),\n",
       " ('Tybalt',\n",
       "  'Thou, wretched boy, that didst consort him here,\\nShalt with him hence.'),\n",
       " ('Romeo', 'This shall determine that.'),\n",
       " ('Benvolio',\n",
       "  'Romeo, away, be gone!\\nThe citizens are up, and Tybalt slain.\\nStand not amazed: the prince will doom thee death,\\nIf thou art taken: hence, be gone, away!'),\n",
       " ('Romeo', \"O, I am fortune's fool!\"),\n",
       " ('Benvolio', 'Why dost thou stay?'),\n",
       " ('First Citizen',\n",
       "  'Which way ran he that killed Mercutio?\\nTybalt, that murderer, which way ran he?'),\n",
       " ('Benvolio', 'There lies that Tybalt.'),\n",
       " ('First Citizen',\n",
       "  \"Up, sir, go with me;\\nI charge thee in the prince's name, obey.\"),\n",
       " ('Escalus', 'Where are the vile beginners of this fray?'),\n",
       " ('Benvolio',\n",
       "  'O noble prince, I can discover all\\nThe unlucky manage of this fatal brawl:\\nThere lies the man, slain by young Romeo,\\nThat slew thy kinsman, brave Mercutio.'),\n",
       " ('Lady Capulet',\n",
       "  \"Tybalt, my cousin! O my brother's child!\\nO prince! O husband! O, the blood is spilt\\nOf my dear kinsman! Prince, as thou art true,\\nFor blood of ours, shed blood of Montague.\\nO cousin, cousin!\"),\n",
       " ('Escalus', 'Benvolio, who began this bloody fray?'),\n",
       " ('Benvolio',\n",
       "  \"Tybalt, here slain, whom Romeo's hand did slay;\\nRomeo that spoke him fair, bade him bethink\\nHow nice the quarrel was, and urged withal\\nYour high displeasure: all this uttered\\nWith gentle breath, calm look, knees humbly bowed,\\nCould not take truce with the unruly spleen\\nOf Tybalt deaf to peace, but that he tilts\\nWith piercing steel at bold Mercutio's breast,\\nWho, all as hot, turns deadly point to point,\\nAnd, with a martial scorn, with one hand beats\\nCold death aside, and with the other sends\\nIt back to Tybalt, whose dexterity\\nRetorts it: Romeo he cries aloud,\\n“Hold, friends! friends, part!” and, swifter than his tongue,\\nHis agile arm beats down their fatal points,\\nAnd 'twixt them rushes; underneath whose arm\\nAn envious thrust from Tybalt hit the life\\nOf stout Mercutio, and then Tybalt fled;\\nBut by and by comes back to Romeo,\\nWho had but newly entertained revenge,\\nAnd to't they go like lightning, for, ere I\\nCould draw to part them, was stout Tybalt slain,\\nAnd, as he fell, did Romeo turn and fly.\\nThis is the truth, or let Benvolio die.\"),\n",
       " ('Lady Capulet',\n",
       "  'He is a kinsman to the Montague;\\nAffection makes him false; he speaks not true:\\nSome twenty of them fought in this black strife,\\nAnd all those twenty could but kill one life.\\nI beg for justice, which thou, prince, must give;\\nRomeo slew Tybalt, Romeo must not live.'),\n",
       " ('Escalus',\n",
       "  'Romeo slew him, he slew Mercutio;\\nWho now the price of his dear blood doth owe?'),\n",
       " ('Montague',\n",
       "  \"Not Romeo, prince, he was Mercutio's friend;\\nHis fault concludes but what the law should end,\\nThe life of Tybalt.\"),\n",
       " ('Escalus',\n",
       "  \"And for that offence\\nImmediately we do exile him hence:\\nI have an interest in your hearts' proceeding,\\nMy blood for your rude brawls doth lie ableeding;\\nBut I'll amerce you with so strong a fine\\nThat you shall all repent the loss of mine:\\nI will be deaf to pleading and excuses;\\nNor tears nor prayers shall purchase out abuses:\\nTherefore use none: let Romeo hence in haste,\\nElse, when he is found, that hour is his last.\\nBear hence this body, and attend our will:\\nMercy but murders, pardoning those that kill.\")]"
      ]
     },
     "execution_count": 236,
     "metadata": {},
     "output_type": "execute_result"
    }
   ],
   "source": [
    "import xmltodict\n",
    "\n",
    "# macbeth.tei\n",
    "# romeo.tei.xml\n",
    "# bernarda.tei.xml\n",
    "# arrastrarse.tei.xml\n",
    "# magdalena.tei.xml\n",
    "with open('romeo.tei.xml', 'r') as f:\n",
    "    drama_tei = f.read()\n",
    "    '#text'\n",
    "\n",
    "drama = []\n",
    "\n",
    "for act in list(xmltodict.parse(drama_tei)['TEI']['text']['body']['div'])[2:]:\n",
    "    act_text = []\n",
    "    for scene in act['div']:\n",
    "        scene_text = []\n",
    "        for rep in scene['sp']:\n",
    "            try:\n",
    "                speaker = rep['speaker']\n",
    "    #             print(speaker)\n",
    "                parts_of_line = flat_list_and_drop_None(find_by_key(rep, '#text'))\n",
    "                line = '\\n'.join(parts_of_line)\n",
    "                if len(line) > 0:\n",
    "                    scene_text.append((speaker, line))\n",
    "            except:\n",
    "                pass\n",
    "        act_text.append(scene_text)\n",
    "    drama.append(act_text)\n",
    "\n",
    "romeo = drama\n",
    "romeo[0][0]"
   ]
  },
  {
   "cell_type": "code",
   "execution_count": 232,
   "metadata": {},
   "outputs": [
    {
     "data": {
      "text/plain": [
       "[[(OrderedDict([('@xml:id', 'spk-0015'),\n",
       "                ('w',\n",
       "                 OrderedDict([('@xml:id', 'fs-rom-0002610'),\n",
       "                              ('#text', 'SAMPSON')]))]),\n",
       "   'SAMPSON\\nGregory\\non\\nmy\\nword\\nwe’ll\\nnot\\ncarry\\ncoals\\n,\\n.'),\n",
       "  (OrderedDict([('@xml:id', 'spk-0016'),\n",
       "                ('w',\n",
       "                 OrderedDict([('@xml:id', 'fs-rom-0002790'),\n",
       "                              ('#text', 'GREGORY')]))]),\n",
       "   'GREGORY\\nNo\\nfor\\nthen\\nwe\\nshould\\nbe\\ncolliers\\n,\\n.'),\n",
       "  (OrderedDict([('@xml:id', 'spk-0017'),\n",
       "                ('w',\n",
       "                 OrderedDict([('@xml:id', 'fs-rom-0002950'),\n",
       "                              ('#text', 'SAMPSON')]))]),\n",
       "   'SAMPSON\\nI\\nmean\\nan\\nwe\\nbe\\nin\\ncholer\\nwe’ll\\ndraw\\n,\\n,\\n.'),\n",
       "  (OrderedDict([('@xml:id', 'spk-0018'),\n",
       "                ('w',\n",
       "                 OrderedDict([('@xml:id', 'fs-rom-0003160'),\n",
       "                              ('#text', 'GREGORY')]))]),\n",
       "   'GREGORY\\nAy\\nwhile\\nyou\\nlive\\ndraw\\nyour\\nneck\\nout\\nof\\ncollar\\n,\\n,\\n.'),\n",
       "  (OrderedDict([('@xml:id', 'spk-0020'),\n",
       "                ('w',\n",
       "                 OrderedDict([('@xml:id', 'fs-rom-0003380'),\n",
       "                              ('#text', 'SAMPSON')]))]),\n",
       "   'SAMPSON\\nI\\nstrike\\nquickly\\nbeing\\nmoved\\n,\\n.'),\n",
       "  (OrderedDict([('@xml:id', 'spk-0021'),\n",
       "                ('w',\n",
       "                 OrderedDict([('@xml:id', 'fs-rom-0003500'),\n",
       "                              ('#text', 'GREGORY')]))]),\n",
       "   'GREGORY\\nBut\\nthou\\nart\\nnot\\nquickly\\nmoved\\nto\\nstrike\\n.'),\n",
       "  (OrderedDict([('@xml:id', 'spk-0022'),\n",
       "                ('w',\n",
       "                 OrderedDict([('@xml:id', 'fs-rom-0003670'),\n",
       "                              ('#text', 'SAMPSON')]))]),\n",
       "   'SAMPSON\\nA\\ndog\\nof\\nthe\\nhouse\\nof\\nMontague\\nmoves\\nme\\n.'),\n",
       "  (OrderedDict([('@xml:id', 'spk-0023'),\n",
       "                ('w',\n",
       "                 OrderedDict([('@xml:id', 'fs-rom-0003860'),\n",
       "                              ('#text', 'GREGORY')]))]),\n",
       "   'GREGORY\\nTo\\nmove\\nis\\nto\\nstir\\nand\\nto\\nbe\\nvaliant\\nis\\nto\\nstand\\nTherefore\\nif\\nthou\\nart\\nmoved\\nthou\\nrunn’st\\naway\\n,\\n.\\n.'),\n",
       "  (OrderedDict([('@xml:id', 'spk-0026'),\n",
       "                ('w',\n",
       "                 OrderedDict([('@xml:id', 'fs-rom-0004270'),\n",
       "                              ('#text', 'SAMPSON')]))]),\n",
       "   'SAMPSON\\nA\\ndog\\nof\\nthat\\nhouse\\nshall\\nmove\\nme\\nto\\nstand\\nI\\nwill\\ntake\\nthe\\nwall\\nof\\nany\\nman\\nor\\nmaid\\nof\\nMontague’s\\n.\\n.'),\n",
       "  (OrderedDict([('@xml:id', 'spk-0028'),\n",
       "                ('w',\n",
       "                 OrderedDict([('@xml:id', 'fs-rom-0004720'),\n",
       "                              ('#text', 'GREGORY')]))]),\n",
       "   'GREGORY\\nThat\\nshows\\nthee\\na\\nweak\\nslave\\nfor\\nthe\\nweakest\\ngoes\\nto\\nthe\\nwall\\n,\\n.'),\n",
       "  (OrderedDict([('@xml:id', 'spk-0030'),\n",
       "                ('w',\n",
       "                 OrderedDict([('@xml:id', 'fs-rom-0004990'),\n",
       "                              ('#text', 'SAMPSON')]))]),\n",
       "   'SAMPSON\\n’Tis\\ntrue\\nand\\ntherefore\\nwomen\\nbeing\\nthe\\nweaker\\nvessels\\nare\\never\\nthrust\\nto\\nthe\\nwall\\nTherefore\\nI\\nwill\\npush\\nMontague’s\\nmen\\nfrom\\nthe\\nwall\\nand\\nthrust\\nhis\\nmaids\\nto\\nthe\\nwall\\n,\\n,\\n,\\n.\\n.'),\n",
       "  (OrderedDict([('@xml:id', 'spk-0034'),\n",
       "                ('w',\n",
       "                 OrderedDict([('@xml:id', 'fs-rom-0005630'),\n",
       "                              ('#text', 'GREGORY')]))]),\n",
       "   'GREGORY\\nThe\\nquarrel\\nis\\nbetween\\nour\\nmasters\\nand\\nus\\ntheir\\nmen\\n.'),\n",
       "  (OrderedDict([('@xml:id', 'spk-0036'),\n",
       "                ('w',\n",
       "                 OrderedDict([('@xml:id', 'fs-rom-0005830'),\n",
       "                              ('#text', 'SAMPSON')]))]),\n",
       "   'SAMPSON\\n’Tis\\nall\\none\\nI\\nwill\\nshow\\nmyself\\na\\ntyrant\\nWhen\\nI\\nhave\\nfought\\nwith\\nthe\\nmen\\nI\\nwill\\nbe\\ncivil\\nwith\\nthe\\nmaids\\nI\\nwill\\ncut\\noff\\ntheir\\nheads\\n.\\n.\\n,\\n;\\n.'),\n",
       "  (OrderedDict([('@xml:id', 'spk-0039'),\n",
       "                ('w',\n",
       "                 OrderedDict([('@xml:id', 'fs-rom-0006440'),\n",
       "                              ('#text', 'GREGORY')]))]),\n",
       "   'GREGORY\\nThe\\nheads\\nof\\nthe\\nmaids\\n?'),\n",
       "  (OrderedDict([('@xml:id', 'spk-0040'),\n",
       "                ('w',\n",
       "                 OrderedDict([('@xml:id', 'fs-rom-0006550'),\n",
       "                              ('#text', 'SAMPSON')]))]),\n",
       "   'SAMPSON\\nAy\\nthe\\nheads\\nof\\nthe\\nmaids\\nor\\ntheir\\nmaidenheads\\nTake\\nit\\nin\\nwhat\\nsense\\nthou\\nwilt\\n,\\n,\\n.\\n.'),\n",
       "  (OrderedDict([('@xml:id', 'spk-0042'),\n",
       "                ('w',\n",
       "                 OrderedDict([('@xml:id', 'fs-rom-0006900'),\n",
       "                              ('#text', 'GREGORY')]))]),\n",
       "   'GREGORY\\nThey\\nmust\\ntake\\nit\\nin\\nsense\\nthat\\nfeel\\nit\\n.'),\n",
       "  (OrderedDict([('@xml:id', 'spk-0043'),\n",
       "                ('w',\n",
       "                 OrderedDict([('@xml:id', 'fs-rom-0007090'),\n",
       "                              ('#text', 'SAMPSON')]))]),\n",
       "   'SAMPSON\\nMe\\nthey\\nshall\\nfeel\\nwhile\\nI\\nam\\nable\\nto\\nstand\\nand\\n’tis\\nknown\\nI\\nam\\na\\npretty\\npiece\\nof\\nflesh\\n,\\n.'),\n",
       "  (OrderedDict([('@xml:id', 'spk-0045'),\n",
       "                ('w',\n",
       "                 OrderedDict([('@xml:id', 'fs-rom-0007500'),\n",
       "                              ('#text', 'GREGORY')]))]),\n",
       "   'GREGORY\\n’Tis\\nwell\\nthou\\nart\\nnot\\nfish\\nif\\nthou\\nhadst\\nthou\\nhadst\\nbeen\\npoor-john\\nDraw\\nthy\\ntool\\nHere\\ncomes\\nof\\nthe\\nhouse\\nof\\nMontagues\\n;\\n,\\n.\\n.\\n.'),\n",
       "  (OrderedDict([('@xml:id', 'spk-0048'),\n",
       "                ('w',\n",
       "                 OrderedDict([('@xml:id', 'fs-rom-0008090'),\n",
       "                              ('#text', 'SAMPSON')]))]),\n",
       "   'SAMPSON\\nMy\\nnaked\\nweapon\\nis\\nout\\nQuarrel\\nI\\nwill\\nback\\nthee\\n.\\n,\\n.'),\n",
       "  (OrderedDict([('@xml:id', 'spk-0050'),\n",
       "                ('w',\n",
       "                 OrderedDict([('@xml:id', 'fs-rom-0008310'),\n",
       "                              ('#text', 'GREGORY')]))]),\n",
       "   'GREGORY\\nHow\\nTurn\\nthy\\nback\\nand\\nrun\\n?\\n?'),\n",
       "  (OrderedDict([('@xml:id', 'spk-0051'),\n",
       "                ('w',\n",
       "                 OrderedDict([('@xml:id', 'fs-rom-0008450'),\n",
       "                              ('#text', 'SAMPSON')]))]),\n",
       "   'SAMPSON\\nFear\\nme\\nnot\\n.'),\n",
       "  (OrderedDict([('@xml:id', 'spk-0052'),\n",
       "                ('w',\n",
       "                 OrderedDict([('@xml:id', 'fs-rom-0008520'),\n",
       "                              ('#text', 'GREGORY')]))]),\n",
       "   'GREGORY\\nNo\\nmarry\\nI\\nfear\\nthee\\n,\\n.\\n!'),\n",
       "  (OrderedDict([('@xml:id', 'spk-0053'),\n",
       "                ('w',\n",
       "                 OrderedDict([('@xml:id', 'fs-rom-0008650'),\n",
       "                              ('#text', 'SAMPSON')]))]),\n",
       "   'SAMPSON\\nLet\\nus\\ntake\\nthe\\nlaw\\nof\\nour\\nsides\\nlet\\nthem\\nbegin\\n;\\n.'),\n",
       "  (OrderedDict([('@xml:id', 'spk-0055'),\n",
       "                ('w',\n",
       "                 OrderedDict([('@xml:id', 'fs-rom-0008880'),\n",
       "                              ('#text', 'GREGORY')]))]),\n",
       "   'GREGORY\\nI\\nwill\\nfrown\\nas\\nI\\npass\\nby\\nand\\nlet\\nthem\\ntake\\nit\\nas\\nthey\\nlist\\n,\\n.'),\n",
       "  (OrderedDict([('@xml:id', 'spk-0057'),\n",
       "                ('w',\n",
       "                 OrderedDict([('@xml:id', 'fs-rom-0009190'),\n",
       "                              ('#text', 'SAMPSON')]))]),\n",
       "   'SAMPSON\\nNay\\nas\\nthey\\ndare\\nI\\nwill\\nbite\\nmy\\nthumb\\nat\\nthem\\nwhich\\nis\\ndisgrace\\nto\\nthem\\nif\\nthey\\nbear\\nit\\n,\\n.\\n,\\n.'),\n",
       "  (OrderedDict([('@xml:id', 'spk-0059'),\n",
       "                ('w',\n",
       "                 OrderedDict([('@xml:id', 'fs-rom-0009700'),\n",
       "                              ('#text', 'ABRAM')]))]),\n",
       "   'ABRAM\\nDo\\nyou\\nbite\\nyour\\nthumb\\nat\\nus\\nsir\\n,\\n?'),\n",
       "  (OrderedDict([('@xml:id', 'spk-0060'),\n",
       "                ('w',\n",
       "                 OrderedDict([('@xml:id', 'fs-rom-0009880'),\n",
       "                              ('#text', 'SAMPSON')]))]),\n",
       "   'SAMPSON\\nI\\ndo\\nbite\\nmy\\nthumb\\nsir\\n,\\n.'),\n",
       "  (OrderedDict([('@xml:id', 'spk-0061'),\n",
       "                ('w',\n",
       "                 OrderedDict([('@xml:id', 'fs-rom-0010020'),\n",
       "                              ('#text', 'ABRAM')]))]),\n",
       "   'ABRAM\\nDo\\nyou\\nbite\\nyour\\nthumb\\nat\\nus\\nsir\\n,\\n?'),\n",
       "  (OrderedDict([('@xml:id', 'spk-0062'),\n",
       "                ('w',\n",
       "                 OrderedDict([('@xml:id', 'fs-rom-0010200'),\n",
       "                              ('#text', 'SAMPSON')]))]),\n",
       "   'SAMPSON\\n,\\naside\\nto\\nGregory\\nIs\\nthe\\nlaw\\nof\\nour\\nside\\nif\\nI\\nsay\\nAy\\n“\\n”\\n?'),\n",
       "  (OrderedDict([('@xml:id', 'spk-0064'),\n",
       "                ('w',\n",
       "                 OrderedDict([('@xml:id', 'fs-rom-0010470'),\n",
       "                              ('#text', 'GREGORY')]))]),\n",
       "   'GREGORY\\n,\\naside\\nto\\nSampson\\nNo\\n.'),\n",
       "  (OrderedDict([('@xml:id', 'spk-0065'),\n",
       "                ('w',\n",
       "                 OrderedDict([('@xml:id', 'fs-rom-0010570'),\n",
       "                              ('#text', 'SAMPSON')]))]),\n",
       "   'SAMPSON\\nNo\\nsir\\nI\\ndo\\nnot\\nbite\\nmy\\nthumb\\nat\\nyou\\nsir\\nbut\\nI\\nbite\\nmy\\nthumb\\nsir\\n,\\n,\\n,\\n,\\n,\\n.'),\n",
       "  (OrderedDict([('@xml:id', 'spk-0067'),\n",
       "                ('w',\n",
       "                 OrderedDict([('@xml:id', 'fs-rom-0010960'),\n",
       "                              ('#text', 'GREGORY')]))]),\n",
       "   'GREGORY\\nDo\\nyou\\nquarrel\\nsir\\n,\\n?'),\n",
       "  (OrderedDict([('@xml:id', 'spk-0068'),\n",
       "                ('w',\n",
       "                 OrderedDict([('@xml:id', 'fs-rom-0011060'),\n",
       "                              ('#text', 'ABRAM')]))]),\n",
       "   'ABRAM\\nQuarrel\\nsir\\nNo\\nsir\\n,\\n?\\n,\\n.'),\n",
       "  (OrderedDict([('@xml:id', 'spk-0069'),\n",
       "                ('w',\n",
       "                 OrderedDict([('@xml:id', 'fs-rom-0011180'),\n",
       "                              ('#text', 'SAMPSON')]))]),\n",
       "   'SAMPSON\\nBut\\nif\\nyou\\ndo\\nsir\\nI\\nam\\nfor\\nyou\\nI\\nserve\\nas\\ngood\\na\\nman\\nas\\nyou\\n,\\n,\\n.\\n.'),\n",
       "  (OrderedDict([('@xml:id', 'spk-0071'),\n",
       "                ('w',\n",
       "                 OrderedDict([('@xml:id', 'fs-rom-0011550'),\n",
       "                              ('#text', 'ABRAM')]))]),\n",
       "   'ABRAM\\nNo\\nbetter\\n.'),\n",
       "  (OrderedDict([('@xml:id', 'spk-0072'),\n",
       "                ('w',\n",
       "                 OrderedDict([('@xml:id', 'fs-rom-0011600'),\n",
       "                              ('#text', 'SAMPSON')]))]),\n",
       "   'SAMPSON\\nWell\\nsir\\n,\\n.'),\n",
       "  (OrderedDict([('@xml:id', 'spk-0073'),\n",
       "                ('w',\n",
       "                 OrderedDict([('@xml:id', 'fs-rom-0011700'),\n",
       "                              ('#text', 'GREGORY')]))]),\n",
       "   'GREGORY\\n,\\naside\\nto\\nSampson\\nSay\\nbetter\\nhere\\ncomes\\none\\nof\\nmy\\nmaster’s\\nkinsmen\\n“\\n”\\n;\\n.'),\n",
       "  (OrderedDict([('@xml:id', 'spk-0075'),\n",
       "                ('w',\n",
       "                 OrderedDict([('@xml:id', 'fs-rom-0011960'),\n",
       "                              ('#text', 'SAMPSON')]))]),\n",
       "   'SAMPSON\\nYes\\nbetter\\nsir\\n,\\n,\\n.'),\n",
       "  (OrderedDict([('@xml:id', 'spk-0076'),\n",
       "                ('w',\n",
       "                 OrderedDict([('@xml:id', 'fs-rom-0012050'),\n",
       "                              ('#text', 'ABRAM')]))]),\n",
       "   'ABRAM\\nYou\\nlie\\n.'),\n",
       "  (OrderedDict([('@xml:id', 'spk-0077'),\n",
       "                ('w',\n",
       "                 OrderedDict([('@xml:id', 'fs-rom-0012100'),\n",
       "                              ('#text', 'SAMPSON')]))]),\n",
       "   'SAMPSON\\nDraw\\nif\\nyou\\nbe\\nmen\\nGregory\\nremember\\nthy\\nwashing\\nblow\\n.\\n—\\n,\\n.'),\n",
       "  (OrderedDict([('@xml:id', 'spk-0079'),\n",
       "                ('w',\n",
       "                 OrderedDict([('@xml:id', 'fs-rom-0012360'),\n",
       "                              ('#text', 'BENVOLIO')]))]),\n",
       "   'BENVOLIO\\nPart\\nfools\\n,\\n!\\nDrawing\\nhis\\nsword\\n.\\nPut\\nup\\nyour\\nswords\\nYou\\nknow\\nnot\\nwhat\\nyou\\ndo\\n.\\n.'),\n",
       "  (OrderedDict([('@xml:id', 'spk-0081'),\n",
       "                ('w',\n",
       "                 OrderedDict([('@xml:id', 'fs-rom-0012800'),\n",
       "                              ('#text', 'TYBALT')]))]),\n",
       "   'TYBALT\\nWhat\\nart\\nthou\\ndrawn\\namong\\nthese\\nheartless\\nhinds\\n,\\n?\\nTurn\\nthee\\nBenvolio\\nlook\\nupon\\nthy\\ndeath\\n,\\n;\\n.'),\n",
       "  (OrderedDict([('@xml:id', 'spk-0083'),\n",
       "                ('w',\n",
       "                 OrderedDict([('@xml:id', 'fs-rom-0013140'),\n",
       "                              ('#text', 'BENVOLIO')]))]),\n",
       "   'BENVOLIO\\nI\\ndo\\nbut\\nkeep\\nthe\\npeace\\nPut\\nup\\nthy\\nsword\\n.\\n,\\nOr\\nmanage\\nit\\nto\\npart\\nthese\\nmen\\nwith\\nme\\n.'),\n",
       "  (OrderedDict([('@xml:id', 'spk-0085'),\n",
       "                ('w',\n",
       "                 OrderedDict([('@xml:id', 'fs-rom-0013540'),\n",
       "                              ('#text', 'TYBALT')]))]),\n",
       "   'TYBALT\\nWhat\\ndrawn\\nand\\ntalk\\nof\\npeace\\nI\\nhate\\nthe\\nword\\n,\\n?\\nAs\\nI\\nhate\\nhell\\nall\\nMontagues\\nand\\nthee\\n,\\n,\\n.\\nHave\\nat\\nthee\\ncoward\\n,\\n!'),\n",
       "  (OrderedDict([('@xml:id', 'spk-0088'),\n",
       "                ('w',\n",
       "                 OrderedDict([('@xml:id', 'fs-rom-0014250'),\n",
       "                              ('#text', 'CITIZENS')]))]),\n",
       "   'CITIZENS\\nClubs\\nbills\\nand\\npartisans\\nStrike\\nBeat\\nthem\\ndown\\n,\\n,\\n!\\n!\\n!\\nDown\\nwith\\nthe\\nCapulets\\nDown\\nwith\\nthe\\nMontagues\\n!\\n!'),\n",
       "  (OrderedDict([('@xml:id', 'spk-0090'),\n",
       "                ('w',\n",
       "                 OrderedDict([('@xml:id', 'fs-rom-0014820'),\n",
       "                              ('#text', 'CAPULET')]))]),\n",
       "   'CAPULET\\nWhat\\nnoise\\nis\\nthis\\nGive\\nme\\nmy\\nlong\\nsword\\nho\\n?\\n,\\n!'),\n",
       "  (OrderedDict([('@xml:id', 'spk-0091'),\n",
       "                ('w',\n",
       "                 [OrderedDict([('@xml:id', 'fs-rom-0015050'),\n",
       "                               ('#text', 'LADY')]),\n",
       "                  OrderedDict([('@xml:id', 'fs-rom-0015070'),\n",
       "                               ('#text', 'CAPULET')])]),\n",
       "                ('c', None)]),\n",
       "   'LADY\\nCAPULET\\nA\\ncrutch\\na\\ncrutch\\nWhy\\ncall\\nyou\\nfor\\na\\nsword\\n,\\n!\\n?'),\n",
       "  (OrderedDict([('@xml:id', 'spk-0093'),\n",
       "                ('w',\n",
       "                 OrderedDict([('@xml:id', 'fs-rom-0015410'),\n",
       "                              ('#text', 'CAPULET')]))]),\n",
       "   'CAPULET\\nMy\\nsword\\nI\\nsay\\nOld\\nMontague\\nis\\ncome\\n,\\n.\\nAnd\\nflourishes\\nhis\\nblade\\nin\\nspite\\nof\\nme\\n.'),\n",
       "  (OrderedDict([('@xml:id', 'spk-0095'),\n",
       "                ('w',\n",
       "                 OrderedDict([('@xml:id', 'fs-rom-0015750'),\n",
       "                              ('#text', 'MONTAGUE')]))]),\n",
       "   'MONTAGUE\\nThou\\nvillain\\nCapulet\\nHold\\nme\\nnot\\nlet\\nme\\ngo\\n!\\n—\\n;\\n.'),\n",
       "  (OrderedDict([('@xml:id', 'spk-0096'),\n",
       "                ('w',\n",
       "                 [OrderedDict([('@xml:id', 'fs-rom-0015960'),\n",
       "                               ('#text', 'LADY')]),\n",
       "                  OrderedDict([('@xml:id', 'fs-rom-0015980'),\n",
       "                               ('#text', 'MONTAGUE')])]),\n",
       "                ('c', None)]),\n",
       "   'LADY\\nMONTAGUE\\nThou\\nshalt\\nnot\\nstir\\none\\nfoot\\nto\\nseek\\na\\nfoe\\n.'),\n",
       "  (OrderedDict([('@xml:id', 'spk-0097'),\n",
       "                ('w',\n",
       "                 OrderedDict([('@xml:id', 'fs-rom-0016310'),\n",
       "                              ('#text', 'PRINCE')]))]),\n",
       "   'PRINCE\\nRebellious\\nsubjects\\nenemies\\nto\\npeace\\n,\\n,\\nProfaners\\nof\\nthis\\nneighbor-stainèd\\nsteel\\n—\\nWill\\nthey\\nnot\\nhear\\nWhat\\nho\\nYou\\nmen\\nyou\\nbeasts\\n?\\n—\\n!\\n,\\n,\\nThat\\nquench\\nthe\\nfire\\nof\\nyour\\npernicious\\nrage\\nWith\\npurple\\nfountains\\nissuing\\nfrom\\nyour\\nveins\\n:\\nOn\\npain\\nof\\ntorture\\nfrom\\nthose\\nbloody\\nhands\\n,\\nThrow\\nyour\\nmistempered\\nweapons\\nto\\nthe\\nground\\n,\\nAnd\\nhear\\nthe\\nsentence\\nof\\nyour\\nmovèd\\nprince\\n.\\nThree\\ncivil\\nbrawls\\nbred\\nof\\nan\\nairy\\nword\\nBy\\nthee\\nold\\nCapulet\\nand\\nMontague\\n,\\n,\\n,\\nHave\\nthrice\\ndisturbed\\nthe\\nquiet\\nof\\nour\\nstreets\\nAnd\\nmade\\nVerona’s\\nancient\\ncitizens\\nCast\\nby\\ntheir\\ngrave-beseeming\\nornaments\\nTo\\nwield\\nold\\npartisans\\nin\\nhands\\nas\\nold\\n,\\nCankered\\nwith\\npeace\\nto\\npart\\nyour\\ncankered\\nhate\\n,\\n.\\nIf\\never\\nyou\\ndisturb\\nour\\nstreets\\nagain\\n,\\nYour\\nlives\\nshall\\npay\\nthe\\nforfeit\\nof\\nthe\\npeace\\n.\\nFor\\nthis\\ntime\\nall\\nthe\\nrest\\ndepart\\naway\\n.\\nYou\\nCapulet\\nshall\\ngo\\nalong\\nwith\\nme\\n,\\n,\\n,\\nAnd\\nMontague\\ncome\\nyou\\nthis\\nafternoon\\n,\\n,\\nTo\\nknow\\nour\\nfarther\\npleasure\\nin\\nthis\\ncase\\n,\\nTo\\nold\\nFree-town\\nour\\ncommon\\njudgment-place\\n,\\n.\\nOnce\\nmore\\non\\npain\\nof\\ndeath\\nall\\nmen\\ndepart\\n,\\n,\\n.'),\n",
       "  (OrderedDict([('@xml:id', 'spk-0120'),\n",
       "                ('w',\n",
       "                 OrderedDict([('@xml:id', 'fs-rom-0019890'),\n",
       "                              ('#text', 'MONTAGUE')]))]),\n",
       "   'MONTAGUE\\n,\\nto\\nBenvolio\\nWho\\nset\\nthis\\nancient\\nquarrel\\nnew\\nabroach\\n?\\nSpeak\\nnephew\\nwere\\nyou\\nby\\nwhen\\nit\\nbegan\\n,\\n,\\n?'),\n",
       "  (OrderedDict([('@xml:id', 'spk-0122'),\n",
       "                ('w',\n",
       "                 OrderedDict([('@xml:id', 'fs-rom-0020270'),\n",
       "                              ('#text', 'BENVOLIO')]))]),\n",
       "   'BENVOLIO\\nHere\\nwere\\nthe\\nservants\\nof\\nyour\\nadversary\\n,\\nAnd\\nyours\\nclose\\nfighting\\nere\\nI\\ndid\\napproach\\n,\\n.\\nI\\ndrew\\nto\\npart\\nthem\\nIn\\nthe\\ninstant\\ncame\\n.\\nThe\\nfiery\\nTybalt\\nwith\\nhis\\nsword\\nprepared\\n,\\nWhich\\nas\\nhe\\nbreathed\\ndefiance\\nto\\nmy\\nears\\n,\\n,\\nHe\\nswung\\nabout\\nhis\\nhead\\nand\\ncut\\nthe\\nwinds\\n,\\nWho\\nnothing\\nhurt\\nwithal\\nhissed\\nhim\\nin\\nscorn\\n,\\n,\\n.\\nWhile\\nwe\\nwere\\ninterchanging\\nthrusts\\nand\\nblows\\nCame\\nmore\\nand\\nmore\\nand\\nfought\\non\\npart\\nand\\npart\\n,\\nTill\\nthe\\nPrince\\ncame\\nwho\\nparted\\neither\\npart\\n,\\n.'),\n",
       "  (OrderedDict([('@xml:id', 'spk-0132'),\n",
       "                ('w',\n",
       "                 [OrderedDict([('@xml:id', 'fs-rom-0021940'),\n",
       "                               ('#text', 'LADY')]),\n",
       "                  OrderedDict([('@xml:id', 'fs-rom-0021960'),\n",
       "                               ('#text', 'MONTAGUE')])]),\n",
       "                ('c', None)]),\n",
       "   'LADY\\nMONTAGUE\\nO\\nwhere\\nis\\nRomeo\\nSaw\\nyou\\nhim\\ntoday\\n,\\n?\\n?\\nRight\\nglad\\nI\\nam\\nhe\\nwas\\nnot\\nat\\nthis\\nfray\\n.'),\n",
       "  (OrderedDict([('@xml:id', 'spk-0134'),\n",
       "                ('w',\n",
       "                 OrderedDict([('@xml:id', 'fs-rom-0022350'),\n",
       "                              ('#text', 'BENVOLIO')]))]),\n",
       "   'BENVOLIO\\nMadam\\nan\\nhour\\nbefore\\nthe\\nworshiped\\nsun\\n,\\nPeered\\nforth\\nthe\\ngolden\\nwindow\\nof\\nthe\\neast\\n,\\nA\\ntroubled\\nmind\\ndrove\\nme\\nto\\nwalk\\nabroad\\n,\\nWhere\\nunderneath\\nthe\\ngrove\\nof\\nsycamore\\nThat\\nwestward\\nrooteth\\nfrom\\nthis\\ncity\\nside\\n,\\nSo\\nearly\\nwalking\\ndid\\nI\\nsee\\nyour\\nson\\n.\\nTowards\\nhim\\nI\\nmade\\nbut\\nhe\\nwas\\n’ware\\nof\\nme\\n,\\nAnd\\nstole\\ninto\\nthe\\ncovert\\nof\\nthe\\nwood\\n.\\nI\\nmeasuring\\nhis\\naffections\\nby\\nmy\\nown\\n,\\n(\\n,\\nWhich\\nthen\\nmost\\nsought\\nwhere\\nmost\\nmight\\nnot\\nbe\\nfound\\nBeing\\none\\ntoo\\nmany\\nby\\nmy\\nweary\\nself\\n)\\n,\\nPursued\\nmy\\nhumor\\nnot\\npursuing\\nhis\\n,\\n,\\nAnd\\ngladly\\nshunned\\nwho\\ngladly\\nfled\\nfrom\\nme\\n.'),\n",
       "  (OrderedDict([('@xml:id', 'spk-0148'),\n",
       "                ('w',\n",
       "                 OrderedDict([('@xml:id', 'fs-rom-0024390'),\n",
       "                              ('#text', 'MONTAGUE')]))]),\n",
       "   'MONTAGUE\\nMany\\na\\nmorning\\nhath\\nhe\\nthere\\nbeen\\nseen\\n,\\nWith\\ntears\\naugmenting\\nthe\\nfresh\\nmorning’s\\ndew\\n,\\nAdding\\nto\\nclouds\\nmore\\nclouds\\nwith\\nhis\\ndeep\\nsighs\\n.\\nBut\\nall\\nso\\nsoon\\nas\\nthe\\nall-cheering\\nsun\\nShould\\nin\\nthe\\nfarthest\\neast\\nbegin\\nto\\ndraw\\nThe\\nshady\\ncurtains\\nfrom\\nAurora’s\\nbed\\n,\\nAway\\nfrom\\nlight\\nsteals\\nhome\\nmy\\nheavy\\nson\\nAnd\\nprivate\\nin\\nhis\\nchamber\\npens\\nhimself\\n,\\nShuts\\nup\\nhis\\nwindows\\nlocks\\nfair\\ndaylight\\nout\\n,\\n,\\nAnd\\nmakes\\nhimself\\nan\\nartificial\\nnight\\n.\\nBlack\\nand\\nportentous\\nmust\\nthis\\nhumor\\nprove\\n,\\nUnless\\ngood\\ncounsel\\nmay\\nthe\\ncause\\nremove\\n.'),\n",
       "  (OrderedDict([('@xml:id', 'spk-0160'),\n",
       "                ('w',\n",
       "                 OrderedDict([('@xml:id', 'fs-rom-0026160'),\n",
       "                              ('#text', 'BENVOLIO')]))]),\n",
       "   'BENVOLIO\\nMy\\nnoble\\nuncle\\ndo\\nyou\\nknow\\nthe\\ncause\\n,\\n?'),\n",
       "  (OrderedDict([('@xml:id', 'spk-0161'),\n",
       "                ('w',\n",
       "                 OrderedDict([('@xml:id', 'fs-rom-0026340'),\n",
       "                              ('#text', 'MONTAGUE')]))]),\n",
       "   'MONTAGUE\\nI\\nneither\\nknow\\nit\\nnor\\ncan\\nlearn\\nof\\nhim\\n.'),\n",
       "  (OrderedDict([('@xml:id', 'spk-0162'),\n",
       "                ('w',\n",
       "                 OrderedDict([('@xml:id', 'fs-rom-0026530'),\n",
       "                              ('#text', 'BENVOLIO')]))]),\n",
       "   'BENVOLIO\\nHave\\nyou\\nimportuned\\nhim\\nby\\nany\\nmeans\\n?'),\n",
       "  (OrderedDict([('@xml:id', 'spk-0163'),\n",
       "                ('w',\n",
       "                 OrderedDict([('@xml:id', 'fs-rom-0026680'),\n",
       "                              ('#text', 'MONTAGUE')]))]),\n",
       "   'MONTAGUE\\nBoth\\nby\\nmyself\\nand\\nmany\\nother\\nfriends\\n.\\nBut\\nhe\\nhis\\nown\\naffections’\\ncounselor\\n,\\n,\\nIs\\nto\\nhimself\\nI\\nwill\\nnot\\nsay\\nhow\\ntrue\\n—\\n,\\nBut\\nto\\nhimself\\nso\\nsecret\\nand\\nso\\nclose\\n,\\nSo\\nfar\\nfrom\\nsounding\\nand\\ndiscovery\\n,\\nAs\\nis\\nthe\\nbud\\nbit\\nwith\\nan\\nenvious\\nworm\\nEre\\nhe\\ncan\\nspread\\nhis\\nsweet\\nleaves\\nto\\nthe\\nair\\nOr\\ndedicate\\nhis\\nbeauty\\nto\\nthe\\nsame\\n.\\nCould\\nwe\\nbut\\nlearn\\nfrom\\nwhence\\nhis\\nsorrows\\ngrow\\n,\\nWe\\nwould\\nas\\nwillingly\\ngive\\ncure\\nas\\nknow\\n.'),\n",
       "  (OrderedDict([('@xml:id', 'spk-0173'),\n",
       "                ('w',\n",
       "                 OrderedDict([('@xml:id', 'fs-rom-0028300'),\n",
       "                              ('#text', 'BENVOLIO')]))]),\n",
       "   'BENVOLIO\\nSee\\nwhere\\nhe\\ncomes\\nSo\\nplease\\nyou\\nstep\\naside\\n.\\n,\\n.\\nI’ll\\nknow\\nhis\\ngrievance\\nor\\nbe\\nmuch\\ndenied\\n.'),\n",
       "  (OrderedDict([('@xml:id', 'spk-0175'),\n",
       "                ('w',\n",
       "                 OrderedDict([('@xml:id', 'fs-rom-0028670'),\n",
       "                              ('#text', 'MONTAGUE')]))]),\n",
       "   'MONTAGUE\\nI\\nwould\\nthou\\nwert\\nso\\nhappy\\nby\\nthy\\nstay\\nTo\\nhear\\ntrue\\nshrift\\nCome\\nmadam\\nlet’s\\naway\\n.\\n—\\n,\\n,\\n.'),\n",
       "  (OrderedDict([('@xml:id', 'spk-0177'),\n",
       "                ('w',\n",
       "                 OrderedDict([('@xml:id', 'fs-rom-0029140'),\n",
       "                              ('#text', 'BENVOLIO')]))]),\n",
       "   'BENVOLIO\\nGood\\nmorrow\\ncousin\\n,\\n.'),\n",
       "  (OrderedDict([('@xml:id', 'spk-0178'),\n",
       "                ('w',\n",
       "                 OrderedDict([('@xml:id', 'fs-rom-0029220'),\n",
       "                              ('#text', 'ROMEO')]))]),\n",
       "   'ROMEO\\nIs\\nthe\\nday\\nso\\nyoung\\n?'),\n",
       "  (OrderedDict([('@xml:id', 'spk-0179'),\n",
       "                ('w',\n",
       "                 OrderedDict([('@xml:id', 'fs-rom-0029330'),\n",
       "                              ('#text', 'BENVOLIO')]))]),\n",
       "   'BENVOLIO\\nBut\\nnew\\nstruck\\nnine\\n.'),\n",
       "  (OrderedDict([('@xml:id', 'spk-0180'),\n",
       "                ('w',\n",
       "                 OrderedDict([('@xml:id', 'fs-rom-0029420'),\n",
       "                              ('#text', 'ROMEO')]))]),\n",
       "   'ROMEO\\nAy\\nme\\nsad\\nhours\\nseem\\nlong\\n,\\n.\\nWas\\nthat\\nmy\\nfather\\nthat\\nwent\\nhence\\nso\\nfast\\n?'),\n",
       "  (OrderedDict([('@xml:id', 'spk-0182'),\n",
       "                ('w',\n",
       "                 OrderedDict([('@xml:id', 'fs-rom-0029740'),\n",
       "                              ('#text', 'BENVOLIO')]))]),\n",
       "   'BENVOLIO\\nIt\\nwas\\nWhat\\nsadness\\nlengthens\\nRomeo’s\\nhours\\n.\\n?'),\n",
       "  (OrderedDict([('@xml:id', 'spk-0183'),\n",
       "                ('w',\n",
       "                 OrderedDict([('@xml:id', 'fs-rom-0029900'),\n",
       "                              ('#text', 'ROMEO')]))]),\n",
       "   'ROMEO\\nNot\\nhaving\\nthat\\nwhich\\nhaving\\nmakes\\nthem\\nshort\\n,\\n,\\n.'),\n",
       "  (OrderedDict([('@xml:id', 'spk-0184'),\n",
       "                ('w',\n",
       "                 OrderedDict([('@xml:id', 'fs-rom-0030090'),\n",
       "                              ('#text', 'BENVOLIO')]))]),\n",
       "   'BENVOLIO\\nIn\\nlove\\n?'),\n",
       "  (OrderedDict([('@xml:id', 'spk-0185'),\n",
       "                ('w',\n",
       "                 OrderedDict([('@xml:id', 'fs-rom-0030140'),\n",
       "                              ('#text', 'ROMEO')]))]),\n",
       "   'ROMEO\\nOut\\n—'),\n",
       "  (OrderedDict([('@xml:id', 'spk-0186'),\n",
       "                ('w',\n",
       "                 OrderedDict([('@xml:id', 'fs-rom-0030170'),\n",
       "                              ('#text', 'BENVOLIO')]))]),\n",
       "   'BENVOLIO\\nOf\\nlove\\n?'),\n",
       "  (OrderedDict([('@xml:id', 'spk-0187'),\n",
       "                ('w',\n",
       "                 OrderedDict([('@xml:id', 'fs-rom-0030220'),\n",
       "                              ('#text', 'ROMEO')]))]),\n",
       "   'ROMEO\\nOut\\nof\\nher\\nfavor\\nwhere\\nI\\nam\\nin\\nlove\\n.'),\n",
       "  (OrderedDict([('@xml:id', 'spk-0188'),\n",
       "                ('w',\n",
       "                 OrderedDict([('@xml:id', 'fs-rom-0030410'),\n",
       "                              ('#text', 'BENVOLIO')]))]),\n",
       "   'BENVOLIO\\nAlas\\nthat\\nlove\\nso\\ngentle\\nin\\nhis\\nview\\n,\\n,\\nShould\\nbe\\nso\\ntyrannous\\nand\\nrough\\nin\\nproof\\n!'),\n",
       "  (OrderedDict([('@xml:id', 'spk-0190'),\n",
       "                ('w',\n",
       "                 OrderedDict([('@xml:id', 'fs-rom-0030750'),\n",
       "                              ('#text', 'ROMEO')]))]),\n",
       "   'ROMEO\\nAlas\\nthat\\nlove\\nwhose\\nview\\nis\\nmuffled\\nstill\\n,\\n,\\nShould\\nwithout\\neyes\\nsee\\npathways\\nto\\nhis\\nwill\\n!\\nWhere\\nshall\\nwe\\ndine\\nO\\nme\\nWhat\\nfray\\nwas\\nhere\\n?\\n—\\n!\\n?\\nYet\\ntell\\nme\\nnot\\nfor\\nI\\nhave\\nheard\\nit\\nall\\n,\\n.\\nHere’s\\nmuch\\nto\\ndo\\nwith\\nhate\\nbut\\nmore\\nwith\\nlove\\n,\\n.\\nWhy\\nthen\\nO\\nbrawling\\nlove\\nO\\nloving\\nhate\\n,\\n,\\n,\\nO\\nanything\\nof\\nnothing\\nfirst\\ncreate\\n!\\nO\\nheavy\\nlightness\\nserious\\nvanity\\n,\\n,\\nMisshapen\\nchaos\\nof\\nwell-seeming\\nforms\\n,\\nFeather\\nof\\nlead\\nbright\\nsmoke\\ncold\\nfire\\nsick\\nhealth\\n,\\n,\\n,\\n,\\nStill-waking\\nsleep\\nthat\\nis\\nnot\\nwhat\\nit\\nis\\n!\\nThis\\nlove\\nfeel\\nI\\nthat\\nfeel\\nno\\nlove\\nin\\nthis\\n,\\n.\\nDost\\nthou\\nnot\\nlaugh\\n?'),\n",
       "  (OrderedDict([('@xml:id', 'spk-0203'),\n",
       "                ('w',\n",
       "                 OrderedDict([('@xml:id', 'fs-rom-0032900'),\n",
       "                              ('#text', 'BENVOLIO')]))]),\n",
       "   'BENVOLIO\\nNo\\ncoz\\nI\\nrather\\nweep\\n,\\n,\\n.'),\n",
       "  (OrderedDict([('@xml:id', 'spk-0204'),\n",
       "                ('w',\n",
       "                 OrderedDict([('@xml:id', 'fs-rom-0033030'),\n",
       "                              ('#text', 'ROMEO')]))]),\n",
       "   'ROMEO\\nGood\\nheart\\nat\\nwhat\\n,\\n?'),\n",
       "  (OrderedDict([('@xml:id', 'spk-0205'),\n",
       "                ('w',\n",
       "                 OrderedDict([('@xml:id', 'fs-rom-0033130'),\n",
       "                              ('#text', 'BENVOLIO')]))]),\n",
       "   'BENVOLIO\\nAt\\nthy\\ngood\\nheart’s\\noppression\\n.'),\n",
       "  (OrderedDict([('@xml:id', 'spk-0206'),\n",
       "                ('w',\n",
       "                 OrderedDict([('@xml:id', 'fs-rom-0033240'),\n",
       "                              ('#text', 'ROMEO')]))]),\n",
       "   'ROMEO\\nWhy\\nsuch\\nis\\nlove’s\\ntransgression\\n,\\n.\\nGriefs\\nof\\nmine\\nown\\nlie\\nheavy\\nin\\nmy\\nbreast\\n,\\nWhich\\nthou\\nwilt\\npropagate\\nto\\nhave\\nit\\npressed\\nWith\\nmore\\nof\\nthine\\nThis\\nlove\\nthat\\nthou\\nhast\\nshown\\n.\\nDoth\\nadd\\nmore\\ngrief\\nto\\ntoo\\nmuch\\nof\\nmine\\nown\\n.\\nLove\\nis\\na\\nsmoke\\nmade\\nwith\\nthe\\nfume\\nof\\nsighs\\n;\\nBeing\\npurged\\na\\nfire\\nsparkling\\nin\\nlovers’\\neyes\\n,\\n;\\nBeing\\nvexed\\na\\nsea\\nnourished\\nwith\\nloving\\ntears\\n,\\n.\\nWhat\\nis\\nit\\nelse\\nA\\nmadness\\nmost\\ndiscreet\\n?\\n,\\nA\\nchoking\\ngall\\nand\\na\\npreserving\\nsweet\\n,\\n.\\nFarewell\\nmy\\ncoz\\n,\\n.'),\n",
       "  (OrderedDict([('@xml:id', 'spk-0217'),\n",
       "                ('w',\n",
       "                 OrderedDict([('@xml:id', 'fs-rom-0035020'),\n",
       "                              ('#text', 'BENVOLIO')]))]),\n",
       "   'BENVOLIO\\nSoft\\nI\\nwill\\ngo\\nalong\\n,\\n.\\nAn\\nif\\nyou\\nleave\\nme\\nso\\nyou\\ndo\\nme\\nwrong\\n,\\n.'),\n",
       "  (OrderedDict([('@xml:id', 'spk-0219'),\n",
       "                ('w',\n",
       "                 OrderedDict([('@xml:id', 'fs-rom-0035350'),\n",
       "                              ('#text', 'ROMEO')]))]),\n",
       "   'ROMEO\\nTut\\nI\\nhave\\nlost\\nmyself\\nI\\nam\\nnot\\nhere\\n,\\n.\\n.\\nThis\\nis\\nnot\\nRomeo\\nHe’s\\nsome\\nother\\nwhere\\n.\\n.'),\n",
       "  (OrderedDict([('@xml:id', 'spk-0221'),\n",
       "                ('w',\n",
       "                 OrderedDict([('@xml:id', 'fs-rom-0035730'),\n",
       "                              ('#text', 'BENVOLIO')]))]),\n",
       "   'BENVOLIO\\nTell\\nme\\nin\\nsadness\\nwho\\nis\\nthat\\nyou\\nlove\\n,\\n?'),\n",
       "  (OrderedDict([('@xml:id', 'spk-0222'),\n",
       "                ('w',\n",
       "                 OrderedDict([('@xml:id', 'fs-rom-0035930'),\n",
       "                              ('#text', 'ROMEO')]))]),\n",
       "   'ROMEO\\nWhat\\nshall\\nI\\ngroan\\nand\\ntell\\nthee\\n,\\n?'),\n",
       "  (OrderedDict([('@xml:id', 'spk-0223'),\n",
       "                ('w',\n",
       "                 OrderedDict([('@xml:id', 'fs-rom-0036090'),\n",
       "                              ('#text', 'BENVOLIO')]))]),\n",
       "   'BENVOLIO\\nGroan\\nWhy\\nno\\nBut\\nsadly\\ntell\\nme\\nwho\\n?\\n,\\n.\\n.'),\n",
       "  (OrderedDict([('@xml:id', 'spk-0224'),\n",
       "                ('w',\n",
       "                 OrderedDict([('@xml:id', 'fs-rom-0036290'),\n",
       "                              ('#text', 'ROMEO')]))]),\n",
       "   'ROMEO\\nA\\nsick\\nman\\nin\\nsadness\\nmakes\\nhis\\nwill\\n—\\nA\\nword\\nill\\nurged\\nto\\none\\nthat\\nis\\nso\\nill\\n.\\nIn\\nsadness\\ncousin\\nI\\ndo\\nlove\\na\\nwoman\\n,\\n,\\n.'),\n",
       "  (OrderedDict([('@xml:id', 'spk-0227'),\n",
       "                ('w',\n",
       "                 OrderedDict([('@xml:id', 'fs-rom-0036840'),\n",
       "                              ('#text', 'BENVOLIO')]))]),\n",
       "   'BENVOLIO\\nI\\naimed\\nso\\nnear\\nwhen\\nI\\nsupposed\\nyou\\nloved\\n.'),\n",
       "  (OrderedDict([('@xml:id', 'spk-0228'),\n",
       "                ('w',\n",
       "                 OrderedDict([('@xml:id', 'fs-rom-0037030'),\n",
       "                              ('#text', 'ROMEO')]))]),\n",
       "   'ROMEO\\nA\\nright\\ngood\\nmarkman\\nAnd\\nshe’s\\nfair\\nI\\nlove\\n!\\n.'),\n",
       "  (OrderedDict([('@xml:id', 'spk-0229'),\n",
       "                ('w',\n",
       "                 OrderedDict([('@xml:id', 'fs-rom-0037230'),\n",
       "                              ('#text', 'BENVOLIO')]))]),\n",
       "   'BENVOLIO\\nA\\nright\\nfair\\nmark\\nfair\\ncoz\\nis\\nsoonest\\nhit\\n,\\n,\\n.'),\n",
       "  (OrderedDict([('@xml:id', 'spk-0230'),\n",
       "                ('w',\n",
       "                 OrderedDict([('@xml:id', 'fs-rom-0037440'),\n",
       "                              ('#text', 'ROMEO')]))]),\n",
       "   'ROMEO\\nWell\\nin\\nthat\\nhit\\nyou\\nmiss\\nShe’ll\\nnot\\nbe\\nhit\\n.\\nWith\\nCupid’s\\narrow\\nShe\\nhath\\nDian’s\\nwit\\n.\\n,\\nAnd\\nin\\nstrong\\nproof\\nof\\nchastity\\nwell\\narmed\\n,\\n,\\nFrom\\nlove’s\\nweak\\nchildish\\nbow\\nshe\\nlives\\nuncharmed\\n.\\nShe\\nwill\\nnot\\nstay\\nthe\\nsiege\\nof\\nloving\\nterms\\n,\\nNor\\nbide\\nth’\\nencounter\\nof\\nassailing\\neyes\\n,\\nNor\\nope\\nher\\nlap\\nto\\nsaint-seducing\\ngold\\n.\\nO\\nshe\\nis\\nrich\\nin\\nbeauty\\nonly\\npoor\\n,\\n,\\nThat\\nwhen\\nshe\\ndies\\nwith\\nbeauty\\ndies\\nher\\nstore\\n,\\n,\\n.'),\n",
       "  (OrderedDict([('@xml:id', 'spk-0239'),\n",
       "                ('w',\n",
       "                 OrderedDict([('@xml:id', 'fs-rom-0038960'),\n",
       "                              ('#text', 'BENVOLIO')]))]),\n",
       "   'BENVOLIO\\nThen\\nshe\\nhath\\nsworn\\nthat\\nshe\\nwill\\nstill\\nlive\\nchaste\\n?'),\n",
       "  (OrderedDict([('@xml:id', 'spk-0240'),\n",
       "                ('w',\n",
       "                 OrderedDict([('@xml:id', 'fs-rom-0039170'),\n",
       "                              ('#text', 'ROMEO')]))]),\n",
       "   'ROMEO\\nShe\\nhath\\nand\\nin\\nthat\\nsparing\\nmakes\\nhuge\\nwaste\\n,\\n;\\nFor\\nbeauty\\nstarved\\nwith\\nher\\nseverity\\n,\\n,\\nCuts\\nbeauty\\noff\\nfrom\\nall\\nposterity\\n.\\nShe\\nis\\ntoo\\nfair\\ntoo\\nwise\\nwisely\\ntoo\\nfair\\n,\\n,\\n,\\nTo\\nmerit\\nbliss\\nby\\nmaking\\nme\\ndespair\\n.\\nShe\\nhath\\nforsworn\\nto\\nlove\\nand\\nin\\nthat\\nvow\\n,\\nDo\\nI\\nlive\\ndead\\nthat\\nlive\\nto\\ntell\\nit\\nnow\\n,\\n.'),\n",
       "  (OrderedDict([('@xml:id', 'spk-0247'),\n",
       "                ('w',\n",
       "                 OrderedDict([('@xml:id', 'fs-rom-0040350'),\n",
       "                              ('#text', 'BENVOLIO')]))]),\n",
       "   'BENVOLIO\\nBe\\nruled\\nby\\nme\\nForget\\nto\\nthink\\nof\\nher\\n.\\n.'),\n",
       "  (OrderedDict([('@xml:id', 'spk-0248'),\n",
       "                ('w',\n",
       "                 OrderedDict([('@xml:id', 'fs-rom-0040550'),\n",
       "                              ('#text', 'ROMEO')]))]),\n",
       "   'ROMEO\\nO\\nteach\\nme\\nhow\\nI\\nshould\\nforget\\nto\\nthink\\n,\\n!'),\n",
       "  (OrderedDict([('@xml:id', 'spk-0249'),\n",
       "                ('w',\n",
       "                 OrderedDict([('@xml:id', 'fs-rom-0040750'),\n",
       "                              ('#text', 'BENVOLIO')]))]),\n",
       "   'BENVOLIO\\nBy\\ngiving\\nliberty\\nunto\\nthine\\neyes\\n.\\nExamine\\nother\\nbeauties\\n.'),\n",
       "  (OrderedDict([('@xml:id', 'spk-0251'),\n",
       "                ('w',\n",
       "                 OrderedDict([('@xml:id', 'fs-rom-0040940'),\n",
       "                              ('#text', 'ROMEO')]))]),\n",
       "   'ROMEO\\n’Tis\\nthe\\nway\\nTo\\ncall\\nhers\\nexquisite\\nin\\nquestion\\nmore\\n,\\n,\\n.\\nThese\\nhappy\\nmasks\\nthat\\nkiss\\nfair\\nladies’\\nbrows\\n,\\nBeing\\nblack\\nputs\\nus\\nin\\nmind\\nthey\\nhide\\nthe\\nfair\\n,\\n.\\nHe\\nthat\\nis\\nstrucken\\nblind\\ncannot\\nforget\\nThe\\nprecious\\ntreasure\\nof\\nhis\\neyesight\\nlost\\n.\\nShow\\nme\\na\\nmistress\\nthat\\nis\\npassing\\nfair\\n;\\nWhat\\ndoth\\nher\\nbeauty\\nserve\\nbut\\nas\\na\\nnote\\nWhere\\nI\\nmay\\nread\\nwho\\npassed\\nthat\\npassing\\nfair\\n?\\nFarewell\\nThou\\ncanst\\nnot\\nteach\\nme\\nto\\nforget\\n.\\n.'),\n",
       "  (OrderedDict([('@xml:id', 'spk-0261'),\n",
       "                ('w',\n",
       "                 OrderedDict([('@xml:id', 'fs-rom-0042480'),\n",
       "                              ('#text', 'BENVOLIO')]))]),\n",
       "   'BENVOLIO\\nI’ll\\npay\\nthat\\ndoctrine\\nor\\nelse\\ndie\\nin\\ndebt\\n.')],\n",
       " [(OrderedDict([('@xml:id', 'spk-0262'),\n",
       "                ('w',\n",
       "                 OrderedDict([('@xml:id', 'fs-rom-0042900'),\n",
       "                              ('#text', 'CAPULET')]))]),\n",
       "   'CAPULET\\nBut\\nMontague\\nis\\nbound\\nas\\nwell\\nas\\nI\\n,\\nIn\\npenalty\\nalike\\nand\\n’tis\\nnot\\nhard\\nI\\nthink\\n,\\n,\\n,\\nFor\\nmen\\nso\\nold\\nas\\nwe\\nto\\nkeep\\nthe\\npeace\\n.'),\n",
       "  (OrderedDict([('@xml:id', 'spk-0265'),\n",
       "                ('w',\n",
       "                 OrderedDict([('@xml:id', 'fs-rom-0043470'),\n",
       "                              ('#text', 'PARIS')]))]),\n",
       "   'PARIS\\nOf\\nhonorable\\nreckoning\\nare\\nyou\\nboth\\n,\\nAnd\\npity\\n’tis\\nyou\\nlived\\nat\\nodds\\nso\\nlong\\n.\\nBut\\nnow\\nmy\\nlord\\nwhat\\nsay\\nyou\\nto\\nmy\\nsuit\\n,\\n,\\n?'),\n",
       "  (OrderedDict([('@xml:id', 'spk-0268'),\n",
       "                ('w',\n",
       "                 OrderedDict([('@xml:id', 'fs-rom-0044000'),\n",
       "                              ('#text', 'CAPULET')]))]),\n",
       "   'CAPULET\\nBut\\nsaying\\no’er\\nwhat\\nI\\nhave\\nsaid\\nbefore\\n.\\nMy\\nchild\\nis\\nyet\\na\\nstranger\\nin\\nthe\\nworld\\n.\\nShe\\nhath\\nnot\\nseen\\nthe\\nchange\\nof\\nfourteen\\nyears\\n.\\nLet\\ntwo\\nmore\\nsummers\\nwither\\nin\\ntheir\\npride\\nEre\\nwe\\nmay\\nthink\\nher\\nripe\\nto\\nbe\\na\\nbride\\n.'),\n",
       "  (OrderedDict([('@xml:id', 'spk-0273'),\n",
       "                ('w',\n",
       "                 OrderedDict([('@xml:id', 'fs-rom-0044880'),\n",
       "                              ('#text', 'PARIS')]))]),\n",
       "   'PARIS\\nYounger\\nthan\\nshe\\nare\\nhappy\\nmothers\\nmade\\n.'),\n",
       "  (OrderedDict([('@xml:id', 'spk-0274'),\n",
       "                ('w',\n",
       "                 OrderedDict([('@xml:id', 'fs-rom-0045030'),\n",
       "                              ('#text', 'CAPULET')]))]),\n",
       "   'CAPULET\\nAnd\\ntoo\\nsoon\\nmarred\\nare\\nthose\\nso\\nearly\\nmade\\n.\\nEarth\\nhath\\nswallowed\\nall\\nmy\\nhopes\\nbut\\nshe\\n;\\nShe’s\\nthe\\nhopeful\\nlady\\nof\\nmy\\nearth\\n.\\nBut\\nwoo\\nher\\ngentle\\nParis\\nget\\nher\\nheart\\n,\\n,\\n;\\nMy\\nwill\\nto\\nher\\nconsent\\nis\\nbut\\na\\npart\\n.\\nAnd\\nshe\\nagreed\\nwithin\\nher\\nscope\\nof\\nchoice\\n,\\n,\\nLies\\nmy\\nconsent\\nand\\nfair\\naccording\\nvoice\\n.\\nThis\\nnight\\nI\\nhold\\nan\\nold\\naccustomed\\nfeast\\n,\\nWhereto\\nI\\nhave\\ninvited\\nmany\\na\\nguest\\nSuch\\nas\\nI\\nlove\\nand\\nyou\\namong\\nthe\\nstore\\n;\\n,\\nOne\\nmore\\nmost\\nwelcome\\nmakes\\nmy\\nnumber\\nmore\\n,\\n,\\n.\\nAt\\nmy\\npoor\\nhouse\\nlook\\nto\\nbehold\\nthis\\nnight\\nEarth-treading\\nstars\\nthat\\nmake\\ndark\\nheaven\\nlight\\n.\\nSuch\\ncomfort\\nas\\ndo\\nlusty\\nyoung\\nmen\\nfeel\\nWhen\\nwell-appareled\\nApril\\non\\nthe\\nheel\\nOf\\nlimping\\nwinter\\ntreads\\neven\\nsuch\\ndelight\\n,\\nAmong\\nfresh\\nfennel\\nbuds\\nshall\\nyou\\nthis\\nnight\\nInherit\\nat\\nmy\\nhouse\\nHear\\nall\\nall\\nsee\\n.\\n,\\n,\\nAnd\\nlike\\nher\\nmost\\nwhose\\nmerit\\nmost\\nshall\\nbe\\n;\\nWhich\\non\\nmore\\nview\\nof\\nmany\\nmine\\nbeing\\none\\n,\\n,\\n,\\n,\\nMay\\nstand\\nin\\nnumber\\nthough\\nin\\nreck’ning\\nnone\\n,\\n.\\nCome\\ngo\\nwith\\nme\\n.\\nGo\\nsirrah\\ntrudge\\nabout\\n,\\n,\\nThrough\\nfair\\nVerona\\nfind\\nthose\\npersons\\nout\\n,\\nWhose\\nnames\\nare\\nwritten\\nthere\\nand\\nto\\nthem\\nsay\\n,\\nMy\\nhouse\\nand\\nwelcome\\non\\ntheir\\npleasure\\nstay\\n.\\nTo\\nServingman\\ngiving\\nhim\\na\\nlist\\n,\\n.'),\n",
       "  (OrderedDict([('@xml:id', 'spk-0300'),\n",
       "                ('w',\n",
       "                 OrderedDict([('@xml:id', 'fs-rom-0049310'),\n",
       "                              ('#text', 'SERVINGMAN')]))]),\n",
       "   'SERVINGMAN\\nFind\\nthem\\nout\\nwhose\\nnames\\nare\\nwritten\\nhere\\nIt\\nis\\nwritten\\nthat\\nthe\\nshoemaker\\nshould\\nmeddle\\nwith\\nhis\\nyard\\nand\\nthe\\ntailor\\nwith\\nhis\\nlast\\nthe\\nfisher\\nwith\\nhis\\npencil\\nand\\nthe\\npainter\\nwith\\nhis\\nnets\\nBut\\nI\\nam\\nsent\\nto\\nfind\\nthose\\npersons\\nwhose\\nnames\\nare\\nhere\\nwrit\\nand\\ncan\\nnever\\nfind\\nwhat\\nnames\\nthe\\nwriting\\nperson\\nhath\\nhere\\nwrit\\nI\\nmust\\nto\\nthe\\nlearned\\nIn\\ngood\\ntime\\n!\\n,\\n.\\n,\\n.\\n.\\n!'),\n",
       "  (OrderedDict([('@xml:id', 'spk-0308'),\n",
       "                ('w',\n",
       "                 OrderedDict([('@xml:id', 'fs-rom-0050770'),\n",
       "                              ('#text', 'BENVOLIO')]))]),\n",
       "   'BENVOLIO\\n,\\nto\\nRomeo\\nTut\\nman\\none\\nfire\\nburns\\nout\\nanother’s\\nburning\\n,\\n,\\n;\\nOne\\npain\\nis\\nlessened\\nby\\nanother’s\\nanguish\\n.\\nTurn\\ngiddy\\nand\\nbe\\nhelped\\nby\\nbackward\\nturning\\n,\\n.\\nOne\\ndesperate\\ngrief\\ncures\\nwith\\nanother’s\\nlanguish\\n.\\nTake\\nthou\\nsome\\nnew\\ninfection\\nto\\nthy\\neye\\n,\\nAnd\\nthe\\nrank\\npoison\\nof\\nthe\\nold\\nwill\\ndie\\n.'),\n",
       "  (OrderedDict([('@xml:id', 'spk-0314'),\n",
       "                ('w',\n",
       "                 OrderedDict([('@xml:id', 'fs-rom-0051800'),\n",
       "                              ('#text', 'ROMEO')]))]),\n",
       "   'ROMEO\\nYour\\nplantain\\nleaf\\nis\\nexcellent\\nfor\\nthat\\n.'),\n",
       "  (OrderedDict([('@xml:id', 'spk-0315'),\n",
       "                ('w',\n",
       "                 OrderedDict([('@xml:id', 'fs-rom-0051950'),\n",
       "                              ('#text', 'BENVOLIO')]))]),\n",
       "   'BENVOLIO\\nFor\\nwhat\\nI\\npray\\nthee\\n,\\n?'),\n",
       "  (OrderedDict([('@xml:id', 'spk-0316'),\n",
       "                ('w',\n",
       "                 OrderedDict([('@xml:id', 'fs-rom-0052070'),\n",
       "                              ('#text', 'ROMEO')]))]),\n",
       "   'ROMEO\\nFor\\nyour\\nbroken\\nshin\\n.'),\n",
       "  (OrderedDict([('@xml:id', 'spk-0317'),\n",
       "                ('w',\n",
       "                 OrderedDict([('@xml:id', 'fs-rom-0052160'),\n",
       "                              ('#text', 'BENVOLIO')]))]),\n",
       "   'BENVOLIO\\nWhy\\nRomeo\\nart\\nthou\\nmad\\n,\\n?'),\n",
       "  (OrderedDict([('@xml:id', 'spk-0318'),\n",
       "                ('w',\n",
       "                 OrderedDict([('@xml:id', 'fs-rom-0052280'),\n",
       "                              ('#text', 'ROMEO')]))]),\n",
       "   'ROMEO\\nNot\\nmad\\nbut\\nbound\\nmore\\nthan\\na\\nmadman\\nis\\n,\\n,\\nShut\\nup\\nin\\nprison\\nkept\\nwithout\\nmy\\nfood\\n,\\n,\\nWhipped\\nand\\ntormented\\nand\\ngood\\ne’en\\ngood\\nfellow\\n,\\n—\\n,\\n.'),\n",
       "  (OrderedDict([('@xml:id', 'spk-0322'),\n",
       "                ('w',\n",
       "                 OrderedDict([('@xml:id', 'fs-rom-0052820'),\n",
       "                              ('#text', 'SERVINGMAN')]))]),\n",
       "   'SERVINGMAN\\nGod\\ngi’\\ngood\\ne’en\\nI\\npray\\nsir\\ncan\\nyou\\nread\\n.\\n,\\n,\\n?'),\n",
       "  (OrderedDict([('@xml:id', 'spk-0324'),\n",
       "                ('w',\n",
       "                 OrderedDict([('@xml:id', 'fs-rom-0053050'),\n",
       "                              ('#text', 'ROMEO')]))]),\n",
       "   'ROMEO\\nAy\\nmine\\nown\\nfortune\\nin\\nmy\\nmisery\\n,\\n.'),\n",
       "  (OrderedDict([('@xml:id', 'spk-0325'),\n",
       "                ('w',\n",
       "                 OrderedDict([('@xml:id', 'fs-rom-0053210'),\n",
       "                              ('#text', 'SERVINGMAN')]))]),\n",
       "   'SERVINGMAN\\nPerhaps\\nyou\\nhave\\nlearned\\nit\\nwithout\\nbook\\nBut\\nI\\npray\\ncan\\nyou\\nread\\nanything\\nyou\\nsee\\n.\\n,\\n?'),\n",
       "  (OrderedDict([('@xml:id', 'spk-0327'),\n",
       "                ('w',\n",
       "                 OrderedDict([('@xml:id', 'fs-rom-0053550'),\n",
       "                              ('#text', 'ROMEO')]))]),\n",
       "   'ROMEO\\nAy\\nif\\nI\\nknow\\nthe\\nletters\\nand\\nthe\\nlanguage\\n,\\n.'),\n",
       "  (OrderedDict([('@xml:id', 'spk-0328'),\n",
       "                ('w',\n",
       "                 OrderedDict([('@xml:id', 'fs-rom-0053750'),\n",
       "                              ('#text', 'SERVINGMAN')]))]),\n",
       "   'SERVINGMAN\\nYou\\nsay\\nhonestly\\nRest\\nyou\\nmerry\\n.\\n.'),\n",
       "  (OrderedDict([('@xml:id', 'spk-0329'),\n",
       "                ('w',\n",
       "                 OrderedDict([('@xml:id', 'fs-rom-0053890'),\n",
       "                              ('#text', 'ROMEO')]))]),\n",
       "   'ROMEO\\nStay\\nfellow\\nI\\ncan\\nread\\n,\\n.\\n.\\n(\\n.\\n)\\nHe\\nreads\\nthe\\nletter\\nSignior\\nMartino\\nand\\nhis\\nwife\\nand\\ndaughters\\nCounty\\nAnselme\\nand\\nhis\\nbeauteous\\nsisters\\nThe\\nlady\\nwidow\\nof\\nVitruvio\\nSignior\\nPlacentio\\nand\\nhis\\nlovely\\nnieces\\nMercutio\\nand\\nhis\\nbrother\\nValentine\\nMine\\nUncle\\nCapulet\\nhis\\nwife\\nand\\ndaughters\\nMy\\nfair\\nniece\\nRosaline\\nand\\nLivia\\nSignior\\nValentio\\nand\\nhis\\ncousin\\nTybalt\\nLucio\\nand\\nthe\\nlively\\nHelena\\n,\\n,\\n,\\n,\\n,\\n,\\n,\\n,\\n,\\n.\\nA\\nfair\\nassembly\\nWhither\\nshould\\nthey\\ncome\\n.\\n?'),\n",
       "  (OrderedDict([('@xml:id', 'spk-0340'),\n",
       "                ('w',\n",
       "                 OrderedDict([('@xml:id', 'fs-rom-0055340'),\n",
       "                              ('#text', 'SERVINGMAN')]))]),\n",
       "   'SERVINGMAN\\nUp\\n.'),\n",
       "  (OrderedDict([('@xml:id', 'spk-0341'),\n",
       "                ('w',\n",
       "                 OrderedDict([('@xml:id', 'fs-rom-0055370'),\n",
       "                              ('#text', 'ROMEO')]))]),\n",
       "   'ROMEO\\nWhither\\nTo\\nsupper\\n?\\n?'),\n",
       "  (OrderedDict([('@xml:id', 'spk-0342'),\n",
       "                ('w',\n",
       "                 OrderedDict([('@xml:id', 'fs-rom-0055450'),\n",
       "                              ('#text', 'SERVINGMAN')]))]),\n",
       "   'SERVINGMAN\\nTo\\nour\\nhouse\\n.'),\n",
       "  (OrderedDict([('@xml:id', 'spk-0343'),\n",
       "                ('w',\n",
       "                 OrderedDict([('@xml:id', 'fs-rom-0055520'),\n",
       "                              ('#text', 'ROMEO')]))]),\n",
       "   'ROMEO\\nWhose\\nhouse\\n?'),\n",
       "  (OrderedDict([('@xml:id', 'spk-0344'),\n",
       "                ('w',\n",
       "                 OrderedDict([('@xml:id', 'fs-rom-0055570'),\n",
       "                              ('#text', 'SERVINGMAN')]))]),\n",
       "   'SERVINGMAN\\nMy\\nmaster’s\\n.'),\n",
       "  (OrderedDict([('@xml:id', 'spk-0345'),\n",
       "                ('w',\n",
       "                 OrderedDict([('@xml:id', 'fs-rom-0055620'),\n",
       "                              ('#text', 'ROMEO')]))]),\n",
       "   'ROMEO\\nIndeed\\nI\\nshould\\nhave\\nasked\\nthee\\nthat\\nbefore\\n.'),\n",
       "  (OrderedDict([('@xml:id', 'spk-0346'),\n",
       "                ('w',\n",
       "                 OrderedDict([('@xml:id', 'fs-rom-0055790'),\n",
       "                              ('#text', 'SERVINGMAN')]))]),\n",
       "   'SERVINGMAN\\nNow\\nI’ll\\ntell\\nyou\\nwithout\\nasking\\nMy\\nmaster\\nis\\nthe\\ngreat\\nrich\\nCapulet\\nand\\nif\\nyou\\nbe\\nnot\\nof\\nthe\\nhouse\\nof\\nMontagues\\nI\\npray\\ncome\\nand\\ncrush\\na\\ncup\\nof\\nwine\\nRest\\nyou\\nmerry\\n.\\n,\\n,\\n,\\n.\\n.'),\n",
       "  (OrderedDict([('@xml:id', 'spk-0350'),\n",
       "                ('w',\n",
       "                 OrderedDict([('@xml:id', 'fs-rom-0056560'),\n",
       "                              ('#text', 'BENVOLIO')]))]),\n",
       "   'BENVOLIO\\nAt\\nthis\\nsame\\nancient\\nfeast\\nof\\nCapulet’s\\nSups\\nthe\\nfair\\nRosaline\\nwhom\\nthou\\nso\\nloves\\n,\\nWith\\nall\\nthe\\nadmirèd\\nbeauties\\nof\\nVerona\\n.\\nGo\\nthither\\nand\\nwith\\nunattainted\\neye\\n,\\nCompare\\nher\\nface\\nwith\\nsome\\nthat\\nI\\nshall\\nshow\\n,\\nAnd\\nI\\nwill\\nmake\\nthee\\nthink\\nthy\\nswan\\na\\ncrow\\n.'),\n",
       "  (OrderedDict([('@xml:id', 'spk-0356'),\n",
       "                ('w',\n",
       "                 OrderedDict([('@xml:id', 'fs-rom-0057500'),\n",
       "                              ('#text', 'ROMEO')]))]),\n",
       "   'ROMEO\\nWhen\\nthe\\ndevout\\nreligion\\nof\\nmine\\neye\\nMaintains\\nsuch\\nfalsehood\\nthen\\nturn\\ntears\\nto\\nfire\\n,\\n;\\nAnd\\nthese\\nwho\\noften\\ndrowned\\ncould\\nnever\\ndie\\n,\\n,\\n,\\nTransparent\\nheretics\\nbe\\nburnt\\nfor\\nliars\\n,\\n.\\nOne\\nfairer\\nthan\\nmy\\nlove\\nThe\\nall-seeing\\nsun\\n?\\nNe’er\\nsaw\\nher\\nmatch\\nsince\\nfirst\\nthe\\nworld\\nbegun\\n.'),\n",
       "  (OrderedDict([('@xml:id', 'spk-0362'),\n",
       "                ('w',\n",
       "                 OrderedDict([('@xml:id', 'fs-rom-0058460'),\n",
       "                              ('#text', 'BENVOLIO')]))]),\n",
       "   'BENVOLIO\\nTut\\nyou\\nsaw\\nher\\nfair\\nnone\\nelse\\nbeing\\nby\\n,\\n,\\n,\\nHerself\\npoised\\nwith\\nherself\\nin\\neither\\neye\\n;\\nBut\\nin\\nthat\\ncrystal\\nscales\\nlet\\nthere\\nbe\\nweighed\\nYour\\nlady’s\\nlove\\nagainst\\nsome\\nother\\nmaid\\nThat\\nI\\nwill\\nshow\\nyou\\nshining\\nat\\nthis\\nfeast\\n,\\nAnd\\nshe\\nshall\\nscant\\nshow\\nwell\\nthat\\nnow\\nseems\\nbest\\n.'),\n",
       "  (OrderedDict([('@xml:id', 'spk-0368'),\n",
       "                ('w',\n",
       "                 OrderedDict([('@xml:id', 'fs-rom-0059490'),\n",
       "                              ('#text', 'ROMEO')]))]),\n",
       "   'ROMEO\\nI’ll\\ngo\\nalong\\nno\\nsuch\\nsight\\nto\\nbe\\nshown\\n,\\n,\\nBut\\nto\\nrejoice\\nin\\nsplendor\\nof\\nmine\\nown\\n.')],\n",
       " [(OrderedDict([('@xml:id', 'spk-0370'),\n",
       "                ('w',\n",
       "                 [OrderedDict([('@xml:id', 'fs-rom-0060020'),\n",
       "                               ('#text', 'LADY')]),\n",
       "                  OrderedDict([('@xml:id', 'fs-rom-0060040'),\n",
       "                               ('#text', 'CAPULET')])]),\n",
       "                ('c', None)]),\n",
       "   'LADY\\nCAPULET\\nNurse\\nwhere’s\\nmy\\ndaughter\\nCall\\nher\\nforth\\nto\\nme\\n,\\n?\\n.'),\n",
       "  (OrderedDict([('@xml:id', 'spk-0371'),\n",
       "                ('w',\n",
       "                 OrderedDict([('@xml:id', 'fs-rom-0060250'),\n",
       "                              ('#text', 'NURSE')]))]),\n",
       "   'NURSE\\nNow\\nby\\nmy\\nmaidenhead\\nat\\ntwelve\\nyear\\nold\\n,\\n,\\nI\\nbade\\nher\\ncome\\nWhat\\nlamb\\nWhat\\nladybird\\n.\\n—\\n,\\n!\\n,\\n!\\nGod\\nforbid\\nWhere’s\\nthis\\ngirl\\nWhat\\nJuliet\\n.\\n?\\n,\\n!'),\n",
       "  (OrderedDict([('@xml:id', 'spk-0374'),\n",
       "                ('w',\n",
       "                 OrderedDict([('@xml:id', 'fs-rom-0060840'),\n",
       "                              ('#text', 'JULIET')]))]),\n",
       "   'JULIET\\nHow\\nnow\\nwho\\ncalls\\n,\\n?'),\n",
       "  (OrderedDict([('@xml:id', 'spk-0375'),\n",
       "                ('w',\n",
       "                 OrderedDict([('@xml:id', 'fs-rom-0060940'),\n",
       "                              ('#text', 'NURSE')]))]),\n",
       "   'NURSE\\nYour\\nmother\\n.'),\n",
       "  (OrderedDict([('@xml:id', 'spk-0376'),\n",
       "                ('w',\n",
       "                 OrderedDict([('@xml:id', 'fs-rom-0060990'),\n",
       "                              ('#text', 'JULIET')]))]),\n",
       "   'JULIET\\nMadam\\nI\\nam\\nhere\\nWhat\\nis\\nyour\\nwill\\n,\\n.\\n?'),\n",
       "  (OrderedDict([('@xml:id', 'spk-0377'),\n",
       "                ('w',\n",
       "                 [OrderedDict([('@xml:id', 'fs-rom-0061180'),\n",
       "                               ('#text', 'LADY')]),\n",
       "                  OrderedDict([('@xml:id', 'fs-rom-0061200'),\n",
       "                               ('#text', 'CAPULET')])]),\n",
       "                ('c', None)]),\n",
       "   'LADY\\nCAPULET\\nThis\\nis\\nthe\\nmatter\\nNurse\\ngive\\nleave\\nawhile\\n.\\n—\\n,\\n.\\nWe\\nmust\\ntalk\\nin\\nsecret\\nNurse\\ncome\\nback\\nagain\\n.\\n—\\n,\\n.\\nI\\nhave\\nremembered\\nme\\nthou\\n’s\\nhear\\nour\\ncounsel\\n,\\n.\\nThou\\nknowest\\nmy\\ndaughter’s\\nof\\na\\npretty\\nage\\n.'),\n",
       "  (OrderedDict([('@xml:id', 'spk-0381'),\n",
       "                ('w',\n",
       "                 OrderedDict([('@xml:id', 'fs-rom-0061940'),\n",
       "                              ('#text', 'NURSE')]))]),\n",
       "   'NURSE\\nFaith\\nI\\ncan\\ntell\\nher\\nage\\nunto\\nan\\nhour\\n,\\n.'),\n",
       "  (OrderedDict([('@xml:id', 'spk-0382'),\n",
       "                ('w',\n",
       "                 [OrderedDict([('@xml:id', 'fs-rom-0062140'),\n",
       "                               ('#text', 'LADY')]),\n",
       "                  OrderedDict([('@xml:id', 'fs-rom-0062160'),\n",
       "                               ('#text', 'CAPULET')])]),\n",
       "                ('c', None)]),\n",
       "   'LADY\\nCAPULET\\nShe’s\\nnot\\nfourteen\\n.'),\n",
       "  (OrderedDict([('@xml:id', 'spk-0383'),\n",
       "                ('w',\n",
       "                 OrderedDict([('@xml:id', 'fs-rom-0062230'),\n",
       "                              ('#text', 'NURSE')]))]),\n",
       "   'NURSE\\nI’ll\\nlay\\nfourteen\\nof\\nmy\\nteeth\\nand\\nyet\\nto\\nmy\\nteen\\nbe\\nit\\nspoken\\nI\\nhave\\nbut\\nfour\\nshe’s\\nnot\\nfourteen\\nHow\\nlong\\nis\\nit\\nnow\\nto\\nLammastide\\n(\\n,\\n,\\n)\\n.\\n?'),\n",
       "  (OrderedDict([('@xml:id', 'spk-0386'),\n",
       "                ('w',\n",
       "                 [OrderedDict([('@xml:id', 'fs-rom-0062830'),\n",
       "                               ('#text', 'LADY')]),\n",
       "                  OrderedDict([('@xml:id', 'fs-rom-0062850'),\n",
       "                               ('#text', 'CAPULET')])]),\n",
       "                ('c', None)]),\n",
       "   'LADY\\nCAPULET\\nA\\nfortnight\\nand\\nodd\\ndays\\n.'),\n",
       "  (OrderedDict([('@xml:id', 'spk-0387'),\n",
       "                ('w',\n",
       "                 OrderedDict([('@xml:id', 'fs-rom-0062960'),\n",
       "                              ('#text', 'NURSE')]))]),\n",
       "   'NURSE\\nEven\\nor\\nodd\\nof\\nall\\ndays\\nin\\nthe\\nyear\\n,\\n,\\nCome\\nLammas\\nEve\\nat\\nnight\\nshall\\nshe\\nbe\\nfourteen\\n.\\nSusan\\nand\\nshe\\nGod\\nrest\\nall\\nChristian\\nsouls\\n(\\n!\\n)\\nWere\\nof\\nan\\nage\\nWell\\nSusan\\nis\\nwith\\nGod\\n.\\n,\\n;\\nShe\\nwas\\ntoo\\ngood\\nfor\\nme\\nBut\\nas\\nI\\nsaid\\n.\\n,\\n,\\nOn\\nLammas\\nEve\\nat\\nnight\\nshall\\nshe\\nbe\\nfourteen\\n.\\nThat\\nshall\\nshe\\nMarry\\nI\\nremember\\nit\\nwell\\n.\\n,\\n.\\n’Tis\\nsince\\nthe\\nearthquake\\nnow\\neleven\\nyears\\n,\\nAnd\\nshe\\nwas\\nweaned\\nI\\nnever\\nshall\\nforget\\nit\\n(\\n)\\nOf\\nall\\nthe\\ndays\\nof\\nthe\\nyear\\nupon\\nthat\\nday\\n,\\n.\\nFor\\nI\\nhad\\nthen\\nlaid\\nwormwood\\nto\\nmy\\ndug\\n,\\nSitting\\nin\\nthe\\nsun\\nunder\\nthe\\ndovehouse\\nwall\\n.\\nMy\\nlord\\nand\\nyou\\nwere\\nthen\\nat\\nMantua\\n.\\nNay\\nI\\ndo\\nbear\\na\\nbrain\\nBut\\nas\\nI\\nsaid\\n,\\n.\\n,\\n,\\nWhen\\nit\\ndid\\ntaste\\nthe\\nwormwood\\non\\nthe\\nnipple\\nOf\\nmy\\ndug\\nand\\nfelt\\nit\\nbitter\\npretty\\nfool\\n,\\n,\\nTo\\nsee\\nit\\ntetchy\\nand\\nfall\\nout\\nwith\\nthe\\ndug\\n.\\n“\\n,\\n”\\n.\\n,\\n,\\nShake\\nquoth\\nthe\\ndovehouse\\n’Twas\\nno\\nneed\\nI\\ntrow\\nTo\\nbid\\nme\\ntrudge\\n.\\nAnd\\nsince\\nthat\\ntime\\nit\\nis\\neleven\\nyears\\n.\\nFor\\nthen\\nshe\\ncould\\nstand\\nhigh-lone\\nNay\\nby\\nth’\\nrood\\n.\\n,\\n,\\nShe\\ncould\\nhave\\nrun\\nand\\nwaddled\\nall\\nabout\\n,\\nFor\\neven\\nthe\\nday\\nbefore\\nshe\\nbroke\\nher\\nbrow\\n,\\n,\\nAnd\\nthen\\nmy\\nhusband\\nGod\\nbe\\nwith\\nhis\\nsoul\\n(\\n,\\nHe\\nwas\\na\\nmerry\\nman\\ntook\\nup\\nthe\\nchild\\n)\\n.\\n“\\n,\\n”\\n,\\n“\\n?\\nYea\\nquoth\\nhe\\nDost\\nthou\\nfall\\nupon\\nthy\\nface\\nThou\\nwilt\\nfall\\nbackward\\nwhen\\nthou\\nhast\\nmore\\nwit\\n,\\nWilt\\nthou\\nnot\\nJule\\nAnd\\nby\\nmy\\nholidam\\n,\\n?\\n”\\n,\\n,\\nThe\\npretty\\nwretch\\nleft\\ncrying\\nand\\nsaid\\nAy\\n“\\n.\\n”\\nTo\\nsee\\nnow\\nhow\\na\\njest\\nshall\\ncome\\nabout\\n!\\nI\\nwarrant\\nan\\nI\\nshould\\nlive\\na\\nthousand\\nyears\\n,\\n,\\nI\\nnever\\nshould\\nforget\\nit\\nWilt\\nthou\\nnot\\nJule\\nquoth\\nhe\\n.\\n“\\n,\\n?\\n”\\n.\\nAnd\\npretty\\nfool\\nit\\nstinted\\nand\\nsaid\\nAy\\n,\\n,\\n“\\n.\\n”'),\n",
       "  (OrderedDict([('@xml:id', 'spk-0423'),\n",
       "                ('w',\n",
       "                 [OrderedDict([('@xml:id', 'fs-rom-0069030'),\n",
       "                               ('#text', 'LADY')]),\n",
       "                  OrderedDict([('@xml:id', 'fs-rom-0069050'),\n",
       "                               ('#text', 'CAPULET')])]),\n",
       "                ('c', None)]),\n",
       "   'LADY\\nCAPULET\\nEnough\\nof\\nthis\\nI\\npray\\nthee\\nhold\\nthy\\npeace\\n.\\n,\\n.'),\n",
       "  (OrderedDict([('@xml:id', 'spk-0424'),\n",
       "                ('w',\n",
       "                 OrderedDict([('@xml:id', 'fs-rom-0069260'),\n",
       "                              ('#text', 'NURSE')]))]),\n",
       "   'NURSE\\nYes\\nmadam\\nyet\\nI\\ncannot\\nchoose\\nbut\\nlaugh\\n,\\n,\\nTo\\nthink\\nit\\nshould\\nleave\\ncrying\\nand\\nsay\\nAy\\n“\\n.\\n”\\nAnd\\nyet\\nI\\nwarrant\\nit\\nhad\\nupon\\nits\\nbrow\\n,\\n,\\nA\\nbump\\nas\\nbig\\nas\\na\\nyoung\\ncock’rel’s\\nstone\\n,\\nA\\nperilous\\nknock\\nand\\nit\\ncried\\nbitterly\\n,\\n.\\n“\\n,\\n”\\n.\\n“\\n?\\nYea\\nquoth\\nmy\\nhusband\\nFall’st\\nupon\\nthy\\nface\\nThou\\nwilt\\nfall\\nbackward\\nwhen\\nthou\\ncomest\\nto\\nage\\n,\\nWilt\\nthou\\nnot\\nJule\\nIt\\nstinted\\nand\\nsaid\\nAy\\n,\\n?\\n”\\n“\\n.\\n”'),\n",
       "  (OrderedDict([('@xml:id', 'spk-0432'),\n",
       "                ('w',\n",
       "                 OrderedDict([('@xml:id', 'fs-rom-0070700'),\n",
       "                              ('#text', 'JULIET')]))]),\n",
       "   'JULIET\\nAnd\\nstint\\nthou\\ntoo\\nI\\npray\\nthee\\nnurse\\nsay\\nI\\n,\\n,\\n,\\n,\\n.'),\n",
       "  (OrderedDict([('@xml:id', 'spk-0433'),\n",
       "                ('w',\n",
       "                 OrderedDict([('@xml:id', 'fs-rom-0070950'),\n",
       "                              ('#text', 'NURSE')]))]),\n",
       "   'NURSE\\nPeace\\nI\\nhave\\ndone\\nGod\\nmark\\nthee\\nto\\nhis\\ngrace\\n.\\n.\\n,\\nThou\\nwast\\nthe\\nprettiest\\nbabe\\nthat\\ne’er\\nI\\nnursed\\n.\\nAn\\nI\\nmight\\nlive\\nto\\nsee\\nthee\\nmarried\\nonce\\n,\\nI\\nhave\\nmy\\nwish\\n.'),\n",
       "  (OrderedDict([('@xml:id', 'spk-0437'),\n",
       "                ('w',\n",
       "                 [OrderedDict([('@xml:id', 'fs-rom-0071620'),\n",
       "                               ('#text', 'LADY')]),\n",
       "                  OrderedDict([('@xml:id', 'fs-rom-0071640'),\n",
       "                               ('#text', 'CAPULET')])]),\n",
       "                ('c', None)]),\n",
       "   'LADY\\nCAPULET\\nMarry\\nthat\\nmarry\\nis\\nthe\\nvery\\ntheme\\n,\\n“\\n”\\nI\\ncame\\nto\\ntalk\\nof\\nTell\\nme\\ndaughter\\nJuliet\\n.\\n—\\n,\\n,\\nHow\\nstands\\nyour\\ndisposition\\nto\\nbe\\nmarried\\n?'),\n",
       "  (OrderedDict([('@xml:id', 'spk-0440'),\n",
       "                ('w',\n",
       "                 OrderedDict([('@xml:id', 'fs-rom-0072130'),\n",
       "                              ('#text', 'JULIET')]))]),\n",
       "   'JULIET\\nIt\\nis\\nan\\nhonor\\nthat\\nI\\ndream\\nnot\\nof\\n.'),\n",
       "  (OrderedDict([('@xml:id', 'spk-0441'),\n",
       "                ('w',\n",
       "                 OrderedDict([('@xml:id', 'fs-rom-0072320'),\n",
       "                              ('#text', 'NURSE')]))]),\n",
       "   'NURSE\\nAn\\nhonor\\nWere\\nnot\\nI\\nthine\\nonly\\nnurse\\n?\\n,\\nI\\nwould\\nsay\\nthou\\nhadst\\nsucked\\nwisdom\\nfrom\\nthy\\nteat\\n.'),\n",
       "  (OrderedDict([('@xml:id', 'spk-0444'),\n",
       "                ('w',\n",
       "                 [OrderedDict([('@xml:id', 'fs-rom-0072690'),\n",
       "                               ('#text', 'LADY')]),\n",
       "                  OrderedDict([('@xml:id', 'fs-rom-0072710'),\n",
       "                               ('#text', 'CAPULET')])]),\n",
       "                ('c', None)]),\n",
       "   'LADY\\nCAPULET\\nWell\\nthink\\nof\\nmarriage\\nnow\\nYounger\\nthan\\nyou\\n,\\n.\\nHere\\nin\\nVerona\\nladies\\nof\\nesteem\\n,\\n,\\nAre\\nmade\\nalready\\nmothers\\nBy\\nmy\\ncount\\n.\\nI\\nwas\\nyour\\nmother\\nmuch\\nupon\\nthese\\nyears\\nThat\\nyou\\nare\\nnow\\na\\nmaid\\nThus\\nthen\\nin\\nbrief\\n.\\n,\\n,\\n:\\nThe\\nvaliant\\nParis\\nseeks\\nyou\\nfor\\nhis\\nlove\\n.'),\n",
       "  (OrderedDict([('@xml:id', 'spk-0450'),\n",
       "                ('w',\n",
       "                 OrderedDict([('@xml:id', 'fs-rom-0073700'),\n",
       "                              ('#text', 'NURSE')]))]),\n",
       "   'NURSE\\nA\\nman\\nyoung\\nlady\\nlady\\nsuch\\na\\nman\\n,\\n—\\n,\\nAs\\nall\\nthe\\nworld\\nwhy\\nhe’s\\na\\nman\\nof\\nwax\\n—\\n,\\n.'),\n",
       "  (OrderedDict([('@xml:id', 'spk-0452'),\n",
       "                ('w',\n",
       "                 [OrderedDict([('@xml:id', 'fs-rom-0074090'),\n",
       "                               ('#text', 'LADY')]),\n",
       "                  OrderedDict([('@xml:id', 'fs-rom-0074110'),\n",
       "                               ('#text', 'CAPULET')])]),\n",
       "                ('c', None)]),\n",
       "   'LADY\\nCAPULET\\nVerona’s\\nsummer\\nhath\\nnot\\nsuch\\na\\nflower\\n.'),\n",
       "  (OrderedDict([('@xml:id', 'spk-0453'),\n",
       "                ('w',\n",
       "                 OrderedDict([('@xml:id', 'fs-rom-0074260'),\n",
       "                              ('#text', 'NURSE')]))]),\n",
       "   'NURSE\\nNay\\nhe’s\\na\\nflower\\nin\\nfaith\\na\\nvery\\nflower\\n,\\n,\\n,\\n.'),\n",
       "  (OrderedDict([('@xml:id', 'spk-0454'),\n",
       "                ('w',\n",
       "                 [OrderedDict([('@xml:id', 'fs-rom-0074480'),\n",
       "                               ('#text', 'LADY')]),\n",
       "                  OrderedDict([('@xml:id', 'fs-rom-0074500'),\n",
       "                               ('#text', 'CAPULET')])]),\n",
       "                ('c', None)]),\n",
       "   'LADY\\nCAPULET\\nWhat\\nsay\\nyou\\nCan\\nyou\\nlove\\nthe\\ngentleman\\n?\\n?\\nThis\\nnight\\nyou\\nshall\\nbehold\\nhim\\nat\\nour\\nfeast\\n.\\nRead\\no’er\\nthe\\nvolume\\nof\\nyoung\\nParis’\\nface\\n,\\nAnd\\nfind\\ndelight\\nwrit\\nthere\\nwith\\nbeauty’s\\npen\\n.\\nExamine\\nevery\\nmarried\\nlineament\\nAnd\\nsee\\nhow\\none\\nanother\\nlends\\ncontent\\n,\\nAnd\\nwhat\\nobscured\\nin\\nthis\\nfair\\nvolume\\nlies\\nFind\\nwritten\\nin\\nthe\\nmargent\\nof\\nhis\\neyes\\n.\\nThis\\nprecious\\nbook\\nof\\nlove\\nthis\\nunbound\\nlover\\n,\\n,\\nTo\\nbeautify\\nhim\\nonly\\nlacks\\na\\ncover\\n.\\nThe\\nfish\\nlives\\nin\\nthe\\nsea\\nand\\n’tis\\nmuch\\npride\\n,\\nFor\\nfair\\nwithout\\nthe\\nfair\\nwithin\\nto\\nhide\\n.\\nThat\\nbook\\nin\\nmany’s\\neyes\\ndoth\\nshare\\nthe\\nglory\\nThat\\nin\\ngold\\nclasps\\nlocks\\nin\\nthe\\ngolden\\nstory\\n.\\nSo\\nshall\\nyou\\nshare\\nall\\nthat\\nhe\\ndoth\\npossess\\nBy\\nhaving\\nhim\\nmaking\\nyourself\\nno\\nless\\n,\\n.'),\n",
       "  (OrderedDict([('@xml:id', 'spk-0470'),\n",
       "                ('w',\n",
       "                 OrderedDict([('@xml:id', 'fs-rom-0077040'),\n",
       "                              ('#text', 'NURSE')]))]),\n",
       "   'NURSE\\nNo\\nless\\nNay\\nbigger\\nWomen\\ngrow\\nby\\nmen\\n?\\n,\\n.\\n.'),\n",
       "  (OrderedDict([('@xml:id', 'spk-0471'),\n",
       "                ('w',\n",
       "                 [OrderedDict([('@xml:id', 'fs-rom-0077240'),\n",
       "                               ('#text', 'LADY')]),\n",
       "                  OrderedDict([('@xml:id', 'fs-rom-0077260'),\n",
       "                               ('#text', 'CAPULET')])]),\n",
       "                ('c', None)]),\n",
       "   'LADY\\nCAPULET\\nSpeak\\nbriefly\\nCan\\nyou\\nlike\\nof\\nParis’\\nlove\\n.\\n?'),\n",
       "  (OrderedDict([('@xml:id', 'spk-0472'),\n",
       "                ('w',\n",
       "                 OrderedDict([('@xml:id', 'fs-rom-0077440'),\n",
       "                              ('#text', 'JULIET')]))]),\n",
       "   'JULIET\\nI’ll\\nlook\\nto\\nlike\\nif\\nlooking\\nliking\\nmove\\n,\\n.\\nBut\\nno\\nmore\\ndeep\\nwill\\nI\\nendart\\nmine\\neye\\nThan\\nyour\\nconsent\\ngives\\nstrength\\nto\\nmake\\nit\\nfly\\n.'),\n",
       "  (OrderedDict([('@xml:id', 'spk-0475'),\n",
       "                ('w',\n",
       "                 OrderedDict([('@xml:id', 'fs-rom-0078010'),\n",
       "                              ('#text', 'SERVINGMAN')]))]),\n",
       "   'SERVINGMAN\\nMadam\\nthe\\nguests\\nare\\ncome\\nsupper\\nserved\\nup\\nyou\\ncalled\\nmy\\nyoung\\nlady\\nasked\\nfor\\nthe\\nNurse\\ncursed\\nin\\nthe\\npantry\\nand\\neverything\\nin\\nextremity\\nI\\nmust\\nhence\\nto\\nwait\\nI\\nbeseech\\nyou\\nfollow\\nstraight\\n,\\n,\\n,\\n,\\n,\\n,\\n.\\n.\\n,\\n.'),\n",
       "  (OrderedDict([('@xml:id', 'spk-0480'),\n",
       "                ('w',\n",
       "                 [OrderedDict([('@xml:id', 'fs-rom-0078770'),\n",
       "                               ('#text', 'LADY')]),\n",
       "                  OrderedDict([('@xml:id', 'fs-rom-0078790'),\n",
       "                               ('#text', 'CAPULET')])]),\n",
       "                ('c', None)]),\n",
       "   'LADY\\nCAPULET\\nWe\\nfollow\\nthee\\n.\\nJuliet\\nthe\\nCounty\\nstays\\n,\\n.\\nServingman\\nexits\\n.'),\n",
       "  (OrderedDict([('@xml:id', 'spk-0482'),\n",
       "                ('w',\n",
       "                 OrderedDict([('@xml:id', 'fs-rom-0078990'),\n",
       "                              ('#text', 'NURSE')]))]),\n",
       "   'NURSE\\nGo\\ngirl\\nseek\\nhappy\\nnights\\nto\\nhappy\\ndays\\n,\\n,\\n.')],\n",
       " [(OrderedDict([('@xml:id', 'spk-0483'),\n",
       "                ('w',\n",
       "                 OrderedDict([('@xml:id', 'fs-rom-0079630'),\n",
       "                              ('#text', 'ROMEO')]))]),\n",
       "   'ROMEO\\nWhat\\nshall\\nthis\\nspeech\\nbe\\nspoke\\nfor\\nour\\nexcuse\\n,\\n?\\nOr\\nshall\\nwe\\non\\nwithout\\napology\\n?'),\n",
       "  (OrderedDict([('@xml:id', 'spk-0485'),\n",
       "                ('w',\n",
       "                 OrderedDict([('@xml:id', 'fs-rom-0079950'),\n",
       "                              ('#text', 'BENVOLIO')]))]),\n",
       "   'BENVOLIO\\nThe\\ndate\\nis\\nout\\nof\\nsuch\\nprolixity\\n.\\nWe’ll\\nhave\\nno\\nCupid\\nhoodwinked\\nwith\\na\\nscarf\\n,\\nBearing\\na\\nTartar’s\\npainted\\nbow\\nof\\nlath\\n,\\nScaring\\nthe\\nladies\\nlike\\na\\ncrowkeeper\\n,\\nNor\\nno\\nwithout-book\\nprologue\\nfaintly\\nspoke\\n,\\nAfter\\nthe\\nprompter\\nfor\\nour\\nentrance\\n,\\n.\\nBut\\nlet\\nthem\\nmeasure\\nus\\nby\\nwhat\\nthey\\nwill\\n.\\nWe’ll\\nmeasure\\nthem\\na\\nmeasure\\nand\\nbe\\ngone\\n.'),\n",
       "  (OrderedDict([('@xml:id', 'spk-0493'),\n",
       "                ('w',\n",
       "                 OrderedDict([('@xml:id', 'fs-rom-0081110'),\n",
       "                              ('#text', 'ROMEO')]))]),\n",
       "   'ROMEO\\nGive\\nme\\na\\ntorch\\nI\\nam\\nnot\\nfor\\nthis\\nambling\\n.\\n.\\nBeing\\nbut\\nheavy\\nI\\nwill\\nbear\\nthe\\nlight\\n.'),\n",
       "  (OrderedDict([('@xml:id', 'spk-0495'),\n",
       "                ('w',\n",
       "                 OrderedDict([('@xml:id', 'fs-rom-0081490'),\n",
       "                              ('#text', 'MERCUTIO')]))]),\n",
       "   'MERCUTIO\\nNay\\ngentle\\nRomeo\\nwe\\nmust\\nhave\\nyou\\ndance\\n,\\n,\\n.'),\n",
       "  (OrderedDict([('@xml:id', 'spk-0496'),\n",
       "                ('w',\n",
       "                 OrderedDict([('@xml:id', 'fs-rom-0081680'),\n",
       "                              ('#text', 'ROMEO')]))]),\n",
       "   'ROMEO\\nNot\\nI\\nbelieve\\nme\\nYou\\nhave\\ndancing\\nshoes\\n,\\n.\\nWith\\nnimble\\nsoles\\nI\\nhave\\na\\nsoul\\nof\\nlead\\n.\\nSo\\nstakes\\nme\\nto\\nthe\\nground\\nI\\ncannot\\nmove\\n.'),\n",
       "  (OrderedDict([('@xml:id', 'spk-0499'),\n",
       "                ('w',\n",
       "                 OrderedDict([('@xml:id', 'fs-rom-0082220'),\n",
       "                              ('#text', 'MERCUTIO')]))]),\n",
       "   'MERCUTIO\\nYou\\nare\\na\\nlover\\nBorrow\\nCupid’s\\nwings\\n.\\nAnd\\nsoar\\nwith\\nthem\\nabove\\na\\ncommon\\nbound\\n.'),\n",
       "  (OrderedDict([('@xml:id', 'spk-0501'),\n",
       "                ('w',\n",
       "                 OrderedDict([('@xml:id', 'fs-rom-0082530'),\n",
       "                              ('#text', 'ROMEO')]))]),\n",
       "   'ROMEO\\nI\\nam\\ntoo\\nsore\\nenpiercèd\\nwith\\nhis\\nshaft\\nTo\\nsoar\\nwith\\nhis\\nlight\\nfeathers\\nand\\nso\\nbound\\n,\\nI\\ncannot\\nbound\\na\\npitch\\nabove\\ndull\\nwoe\\n.\\nUnder\\nlove’s\\nheavy\\nburden\\ndo\\nI\\nsink\\n.'),\n",
       "  (OrderedDict([('@xml:id', 'spk-0505'),\n",
       "                ('w',\n",
       "                 OrderedDict([('@xml:id', 'fs-rom-0083170'),\n",
       "                              ('#text', 'MERCUTIO')]))]),\n",
       "   'MERCUTIO\\nAnd\\nto\\nsink\\nin\\nit\\nshould\\nyou\\nburden\\nlove\\n—\\nToo\\ngreat\\noppression\\nfor\\na\\ntender\\nthing\\n.'),\n",
       "  (OrderedDict([('@xml:id', 'spk-0507'),\n",
       "                ('w',\n",
       "                 OrderedDict([('@xml:id', 'fs-rom-0083500'),\n",
       "                              ('#text', 'ROMEO')]))]),\n",
       "   'ROMEO\\nIs\\nlove\\na\\ntender\\nthing\\nIt\\nis\\ntoo\\nrough\\n?\\n,\\nToo\\nrude\\ntoo\\nboist’rous\\nand\\nit\\npricks\\nlike\\nthorn\\n,\\n,\\n.'),\n",
       "  (OrderedDict([('@xml:id', 'spk-0509'),\n",
       "                ('w',\n",
       "                 OrderedDict([('@xml:id', 'fs-rom-0083900'),\n",
       "                              ('#text', 'MERCUTIO')]))]),\n",
       "   'MERCUTIO\\nIf\\nlove\\nbe\\nrough\\nwith\\nyou\\nbe\\nrough\\nwith\\nlove\\n,\\n.\\nPrick\\nlove\\nfor\\npricking\\nand\\nyou\\nbeat\\nlove\\ndown\\n,\\n.\\n—\\nGive\\nme\\na\\ncase\\nto\\nput\\nmy\\nvisage\\nin\\n.\\n—\\nA\\nvisor\\nfor\\na\\nvisor\\nWhat\\ncare\\nI\\n.\\nWhat\\ncurious\\neye\\ndoth\\ncote\\ndeformities\\n?\\nHere\\nare\\nthe\\nbeetle\\nbrows\\nshall\\nblush\\nfor\\nme\\n.'),\n",
       "  (OrderedDict([('@xml:id', 'spk-0515'),\n",
       "                ('w',\n",
       "                 OrderedDict([('@xml:id', 'fs-rom-0084970'),\n",
       "                              ('#text', 'BENVOLIO')]))]),\n",
       "   'BENVOLIO\\nCome\\nknock\\nand\\nenter\\nand\\nno\\nsooner\\nin\\n,\\n,\\nBut\\nevery\\nman\\nbetake\\nhim\\nto\\nhis\\nlegs\\n.'),\n",
       "  (OrderedDict([('@xml:id', 'spk-0517'),\n",
       "                ('w',\n",
       "                 OrderedDict([('@xml:id', 'fs-rom-0085310'),\n",
       "                              ('#text', 'ROMEO')]))]),\n",
       "   'ROMEO\\nA\\ntorch\\nfor\\nme\\nLet\\nwantons\\nlight\\nof\\nheart\\n.\\nTickle\\nthe\\nsenseless\\nrushes\\nwith\\ntheir\\nheels\\n,\\nFor\\nI\\nam\\nproverbed\\nwith\\na\\ngrandsire\\nphrase\\n:\\nI’ll\\nbe\\na\\ncandle\\nholder\\nand\\nlook\\non\\n;\\nThe\\ngame\\nwas\\nne’er\\nso\\nfair\\nand\\nI\\nam\\ndone\\n,\\n.'),\n",
       "  (OrderedDict([('@xml:id', 'spk-0522'),\n",
       "                ('w',\n",
       "                 OrderedDict([('@xml:id', 'fs-rom-0086170'),\n",
       "                              ('#text', 'MERCUTIO')]))]),\n",
       "   'MERCUTIO\\nTut\\ndun’s\\nthe\\nmouse\\nthe\\nconstable’s\\nown\\nword\\n,\\n,\\n.\\nIf\\nthou\\nart\\ndun\\nwe’ll\\ndraw\\nthee\\nfrom\\nthe\\nmire\\n,\\n—\\nOr\\nsave\\nyour\\nreverence\\nlove\\nwherein\\nthou\\nstickest\\n,\\n,\\n—\\nUp\\nto\\nthe\\nears\\nCome\\nwe\\nburn\\ndaylight\\nho\\n.\\n,\\n,\\n!'),\n",
       "  (OrderedDict([('@xml:id', 'spk-0527'),\n",
       "                ('w',\n",
       "                 OrderedDict([('@xml:id', 'fs-rom-0086940'),\n",
       "                              ('#text', 'ROMEO')]))]),\n",
       "   'ROMEO\\nNay\\nthat’s\\nnot\\nso\\n,\\n.'),\n",
       "  (OrderedDict([('@xml:id', 'spk-0528'),\n",
       "                ('w',\n",
       "                 OrderedDict([('@xml:id', 'fs-rom-0087040'),\n",
       "                              ('#text', 'MERCUTIO')]))]),\n",
       "   'MERCUTIO\\nI\\nmean\\nsir\\nin\\ndelay\\n,\\n,\\nWe\\nwaste\\nour\\nlights\\nin\\nvain\\nlight\\nlights\\nby\\nday\\n;\\n,\\n.\\nTake\\nour\\ngood\\nmeaning\\nfor\\nour\\njudgment\\nsits\\n,\\nFive\\ntimes\\nin\\nthat\\nere\\nonce\\nin\\nour\\nfive\\nwits\\n.'),\n",
       "  (OrderedDict([('@xml:id', 'spk-0532'),\n",
       "                ('w',\n",
       "                 OrderedDict([('@xml:id', 'fs-rom-0087740'),\n",
       "                              ('#text', 'ROMEO')]))]),\n",
       "   'ROMEO\\nAnd\\nwe\\nmean\\nwell\\nin\\ngoing\\nto\\nthis\\nmasque\\n,\\nBut\\n’tis\\nno\\nwit\\nto\\ngo\\n.'),\n",
       "  (OrderedDict([('@xml:id', 'spk-0534'),\n",
       "                ('w',\n",
       "                 OrderedDict([('@xml:id', 'fs-rom-0088050'),\n",
       "                              ('#text', 'MERCUTIO')]))]),\n",
       "   'MERCUTIO\\nWhy\\nmay\\none\\nask\\n,\\n?'),\n",
       "  (OrderedDict([('@xml:id', 'spk-0535'),\n",
       "                ('w',\n",
       "                 OrderedDict([('@xml:id', 'fs-rom-0088150'),\n",
       "                              ('#text', 'ROMEO')]))]),\n",
       "   'ROMEO\\nI\\ndreamt\\na\\ndream\\ntonight\\n.'),\n",
       "  (OrderedDict([('@xml:id', 'spk-0536'),\n",
       "                ('w',\n",
       "                 OrderedDict([('@xml:id', 'fs-rom-0088260'),\n",
       "                              ('#text', 'MERCUTIO')]))]),\n",
       "   'MERCUTIO\\nAnd\\nso\\ndid\\nI\\n.'),\n",
       "  (OrderedDict([('@xml:id', 'spk-0537'),\n",
       "                ('w',\n",
       "                 OrderedDict([('@xml:id', 'fs-rom-0088350'),\n",
       "                              ('#text', 'ROMEO')]))]),\n",
       "   'ROMEO\\nWell\\nwhat\\nwas\\nyours\\n,\\n?'),\n",
       "  (OrderedDict([('@xml:id', 'spk-0538'),\n",
       "                ('w',\n",
       "                 OrderedDict([('@xml:id', 'fs-rom-0088450'),\n",
       "                              ('#text', 'MERCUTIO')]))]),\n",
       "   'MERCUTIO\\nThat\\ndreamers\\noften\\nlie\\n.'),\n",
       "  (OrderedDict([('@xml:id', 'spk-0539'),\n",
       "                ('w',\n",
       "                 OrderedDict([('@xml:id', 'fs-rom-0088540'),\n",
       "                              ('#text', 'ROMEO')]))]),\n",
       "   'ROMEO\\nIn\\nbed\\nasleep\\nwhile\\nthey\\ndo\\ndream\\nthings\\ntrue\\n.'),\n",
       "  (OrderedDict([('@xml:id', 'spk-0540'),\n",
       "                ('w',\n",
       "                 OrderedDict([('@xml:id', 'fs-rom-0088730'),\n",
       "                              ('#text', 'MERCUTIO')]))]),\n",
       "   'MERCUTIO\\nO\\nthen\\nI\\nsee\\nQueen\\nMab\\nhath\\nbeen\\nwith\\nyou\\n,\\n.\\nShe\\nis\\nthe\\nfairies’\\nmidwife\\nand\\nshe\\ncomes\\n,\\nIn\\nshape\\nno\\nbigger\\nthan\\nan\\nagate\\nstone\\nOn\\nthe\\nforefinger\\nof\\nan\\nalderman\\n,\\nDrawn\\nwith\\na\\nteam\\nof\\nlittle\\natomi\\nOver\\nmen’s\\nnoses\\nas\\nthey\\nlie\\nasleep\\n.\\nHer\\nwagon\\nspokes\\nmade\\nof\\nlong\\nspinners’\\nlegs\\n,\\nThe\\ncover\\nof\\nthe\\nwings\\nof\\ngrasshoppers\\n,\\nHer\\ntraces\\nof\\nthe\\nsmallest\\nspider\\nweb\\n,\\nHer\\ncollars\\nof\\nthe\\nmoonshine’s\\nwat’ry\\nbeams\\n,\\nHer\\nwhip\\nof\\ncricket’s\\nbone\\nthe\\nlash\\nof\\nfilm\\n,\\n,\\nHer\\nwagoner\\na\\nsmall\\ngray-coated\\ngnat\\n,\\nNot\\nhalf\\nso\\nbig\\nas\\na\\nround\\nlittle\\nworm\\nPricked\\nfrom\\nthe\\nlazy\\nfinger\\nof\\na\\nmaid\\n.\\nHer\\nchariot\\nis\\nan\\nempty\\nhazelnut\\n,\\nMade\\nby\\nthe\\njoiner\\nsquirrel\\nor\\nold\\ngrub\\n,\\nTime\\nout\\no’\\nmind\\nthe\\nfairies’\\ncoachmakers\\n.\\nAnd\\nin\\nthis\\nstate\\nshe\\ngallops\\nnight\\nby\\nnight\\nThrough\\nlovers’\\nbrains\\nand\\nthen\\nthey\\ndream\\nof\\nlove\\n,\\n;\\nOn\\ncourtiers’\\nknees\\nthat\\ndream\\non\\ncur’sies\\nstraight\\n,\\n;\\nO’er\\nlawyers’\\nfingers\\nwho\\nstraight\\ndream\\non\\nfees\\n,\\n;\\nO’er\\nladies’\\nlips\\nwho\\nstraight\\non\\nkisses\\ndream\\n,\\n,\\nWhich\\noft\\nthe\\nangry\\nMab\\nwith\\nblisters\\nplagues\\nBecause\\ntheir\\nbreaths\\nwith\\nsweetmeats\\ntainted\\nare\\n.\\nSometime\\nshe\\ngallops\\no’er\\na\\ncourtier’s\\nnose\\n,\\nAnd\\nthen\\ndreams\\nhe\\nof\\nsmelling\\nout\\na\\nsuit\\n.\\nAnd\\nsometime\\ncomes\\nshe\\nwith\\na\\ntithe-pig’s\\ntail\\n,\\nTickling\\na\\nparson’s\\nnose\\nas\\nhe\\nlies\\nasleep\\n;\\nThen\\nhe\\ndreams\\nof\\nanother\\nbenefice\\n.\\nSometime\\nshe\\ndriveth\\no’er\\na\\nsoldier’s\\nneck\\n,\\nAnd\\nthen\\ndreams\\nhe\\nof\\ncutting\\nforeign\\nthroats\\n,\\nOf\\nbreaches\\nambuscadoes\\nSpanish\\nblades\\n,\\n,\\n,\\nOf\\nhealths\\nfive\\nfathom\\ndeep\\nand\\nthen\\nanon\\n,\\nDrums\\nin\\nhis\\near\\nat\\nwhich\\nhe\\nstarts\\nand\\nwakes\\n,\\nAnd\\nbeing\\nthus\\nfrighted\\nswears\\na\\nprayer\\nor\\ntwo\\n,\\n,\\nAnd\\nsleeps\\nagain\\nThis\\nis\\nthat\\nvery\\nMab\\n.\\nThat\\nplats\\nthe\\nmanes\\nof\\nhorses\\nin\\nthe\\nnight\\nAnd\\nbakes\\nthe\\nelflocks\\nin\\nfoul\\nsluttish\\nhairs\\n,\\nWhich\\nonce\\nuntangled\\nmuch\\nmisfortune\\nbodes\\n.\\nThis\\nis\\nthe\\nhag\\nwhen\\nmaids\\nlie\\non\\ntheir\\nbacks\\n,\\n,\\nThat\\npresses\\nthem\\nand\\nlearns\\nthem\\nfirst\\nto\\nbear\\n,\\nMaking\\nthem\\nwomen\\nof\\ngood\\ncarriage\\n.\\nThis\\nis\\nshe\\n—'),\n",
       "  (OrderedDict([('@xml:id', 'spk-0583'),\n",
       "                ('w',\n",
       "                 OrderedDict([('@xml:id', 'fs-rom-0095360'),\n",
       "                              ('#text', 'ROMEO')]))]),\n",
       "   'ROMEO\\nPeace\\npeace\\nMercutio\\npeace\\n,\\n,\\n,\\n.\\nThou\\ntalk’st\\nof\\nnothing\\n.'),\n",
       "  (OrderedDict([('@xml:id', 'spk-0585'),\n",
       "                ('w',\n",
       "                 OrderedDict([('@xml:id', 'fs-rom-0095560'),\n",
       "                              ('#text', 'MERCUTIO')]))]),\n",
       "   'MERCUTIO\\nTrue\\nI\\ntalk\\nof\\ndreams\\n,\\n,\\nWhich\\nare\\nthe\\nchildren\\nof\\nan\\nidle\\nbrain\\n,\\nBegot\\nof\\nnothing\\nbut\\nvain\\nfantasy\\n,\\nWhich\\nis\\nas\\nthin\\nof\\nsubstance\\nas\\nthe\\nair\\nAnd\\nmore\\ninconstant\\nthan\\nthe\\nwind\\nwho\\nwoos\\n,\\nEven\\nnow\\nthe\\nfrozen\\nbosom\\nof\\nthe\\nnorth\\nAnd\\nbeing\\nangered\\npuffs\\naway\\nfrom\\nthence\\n,\\n,\\n,\\nTurning\\nhis\\nside\\nto\\nthe\\ndew-dropping\\nsouth\\n.'),\n",
       "  (OrderedDict([('@xml:id', 'spk-0593'),\n",
       "                ('w',\n",
       "                 OrderedDict([('@xml:id', 'fs-rom-0096740'),\n",
       "                              ('#text', 'BENVOLIO')]))]),\n",
       "   'BENVOLIO\\nThis\\nwind\\nyou\\ntalk\\nof\\nblows\\nus\\nfrom\\nourselves\\n.\\nSupper\\nis\\ndone\\nand\\nwe\\nshall\\ncome\\ntoo\\nlate\\n,\\n.'),\n",
       "  (OrderedDict([('@xml:id', 'spk-0595'),\n",
       "                ('w',\n",
       "                 OrderedDict([('@xml:id', 'fs-rom-0097120'),\n",
       "                              ('#text', 'ROMEO')]))]),\n",
       "   'ROMEO\\nI\\nfear\\ntoo\\nearly\\nfor\\nmy\\nmind\\nmisgives\\n,\\nSome\\nconsequence\\nyet\\nhanging\\nin\\nthe\\nstars\\nShall\\nbitterly\\nbegin\\nhis\\nfearful\\ndate\\nWith\\nthis\\nnight’s\\nrevels\\nand\\nexpire\\nthe\\nterm\\n,\\nOf\\na\\ndespisèd\\nlife\\nclosed\\nin\\nmy\\nbreast\\nBy\\nsome\\nvile\\nforfeit\\nof\\nuntimely\\ndeath\\n.\\nBut\\nhe\\nthat\\nhath\\nthe\\nsteerage\\nof\\nmy\\ncourse\\nDirect\\nmy\\nsail\\nOn\\nlusty\\ngentlemen\\n.\\n,\\n.'),\n",
       "  (OrderedDict([('@xml:id', 'spk-0603'),\n",
       "                ('w',\n",
       "                 OrderedDict([('@xml:id', 'fs-rom-0098290'),\n",
       "                              ('#text', 'BENVOLIO')]))]),\n",
       "   'BENVOLIO\\nStrike\\ndrum\\n,\\n.')],\n",
       " [(OrderedDict([('@xml:id', 'spk-0604'),\n",
       "                ('w',\n",
       "                 [OrderedDict([('@xml:id', 'fs-rom-0098690'),\n",
       "                               ('#text', 'FIRST')]),\n",
       "                  OrderedDict([('@xml:id', 'fs-rom-0098710'),\n",
       "                               ('#text', 'SERVINGMAN')])]),\n",
       "                ('c', None)]),\n",
       "   'FIRST\\nSERVINGMAN\\nWhere’s\\nPotpan\\nthat\\nhe\\nhelps\\nnot\\nto\\ntake\\naway\\nHe\\nshift\\na\\ntrencher\\nHe\\nscrape\\na\\ntrencher\\n?\\n?\\n?'),\n",
       "  (OrderedDict([('@xml:id', 'spk-0607'),\n",
       "                ('w',\n",
       "                 [OrderedDict([('@xml:id', 'fs-rom-0099060'),\n",
       "                               ('#text', 'SECOND')]),\n",
       "                  OrderedDict([('@xml:id', 'fs-rom-0099080'),\n",
       "                               ('#text', 'SERVINGMAN')])]),\n",
       "                ('c', None)]),\n",
       "   'SECOND\\nSERVINGMAN\\nWhen\\ngood\\nmanners\\nshall\\nlie\\nall\\nin\\none\\nor\\ntwo\\nmen’s\\nhands\\nand\\nthey\\nunwashed\\ntoo\\n’tis\\na\\nfoul\\nthing\\n,\\n,\\n.'),\n",
       "  (OrderedDict([('@xml:id', 'spk-0610'),\n",
       "                ('w',\n",
       "                 [OrderedDict([('@xml:id', 'fs-rom-0099490'),\n",
       "                               ('#text', 'FIRST')]),\n",
       "                  OrderedDict([('@xml:id', 'fs-rom-0099510'),\n",
       "                               ('#text', 'SERVINGMAN')])]),\n",
       "                ('c', None)]),\n",
       "   'FIRST\\nSERVINGMAN\\nAway\\nwith\\nthe\\njoint\\nstools\\nremove\\nthe\\ncourt\\ncupboard\\nlook\\nto\\nthe\\nplate\\nGood\\nthou\\nsave\\nme\\na\\npiece\\nof\\nmarchpane\\nand\\nas\\nthou\\nloves\\nme\\nlet\\nthe\\nporter\\nlet\\nin\\nSusan\\nGrindstone\\nand\\nNell\\nAnthony\\nand\\nPotpan\\n,\\n,\\n.\\n—\\n,\\n,\\n,\\n,\\n.\\n—\\n!'),\n",
       "  (OrderedDict([('@xml:id', 'spk-0615'),\n",
       "                ('w',\n",
       "                 [OrderedDict([('@xml:id', 'fs-rom-0100330'),\n",
       "                               ('#text', 'THIRD')]),\n",
       "                  OrderedDict([('@xml:id', 'fs-rom-0100350'),\n",
       "                               ('#text', 'SERVINGMAN')])]),\n",
       "                ('c', None)]),\n",
       "   'THIRD\\nSERVINGMAN\\nAy\\nboy\\nready\\n,\\n,\\n.'),\n",
       "  (OrderedDict([('@xml:id', 'spk-0616'),\n",
       "                ('w',\n",
       "                 [OrderedDict([('@xml:id', 'fs-rom-0100440'),\n",
       "                               ('#text', 'FIRST')]),\n",
       "                  OrderedDict([('@xml:id', 'fs-rom-0100460'),\n",
       "                               ('#text', 'SERVINGMAN')])]),\n",
       "                ('c', None)]),\n",
       "   'FIRST\\nSERVINGMAN\\nYou\\nare\\nlooked\\nfor\\nand\\ncalled\\nfor\\nasked\\nfor\\nand\\nsought\\nfor\\nin\\nthe\\ngreat\\nchamber\\n,\\n,\\n.'),\n",
       "  (OrderedDict([('@xml:id', 'spk-0618'),\n",
       "                ('w',\n",
       "                 [OrderedDict([('@xml:id', 'fs-rom-0100800'),\n",
       "                               ('#text', 'THIRD')]),\n",
       "                  OrderedDict([('@xml:id', 'fs-rom-0100820'),\n",
       "                               ('#text', 'SERVINGMAN')])]),\n",
       "                ('c', None)]),\n",
       "   'THIRD\\nSERVINGMAN\\nWe\\ncannot\\nbe\\nhere\\nand\\nthere\\ntoo\\nCheerly\\nboys\\nBe\\nbrisk\\nawhile\\nand\\nthe\\nlonger\\nliver\\ntake\\nall\\n.\\n,\\n!\\n,\\n.'),\n",
       "  (OrderedDict([('@xml:id', 'spk-0621'),\n",
       "                ('w',\n",
       "                 OrderedDict([('@xml:id', 'fs-rom-0101650'),\n",
       "                              ('#text', 'CAPULET')]))]),\n",
       "   'CAPULET\\nWelcome\\ngentlemen\\nLadies\\nthat\\nhave\\ntheir\\ntoes\\n,\\n.\\nUnplagued\\nwith\\ncorns\\nwill\\nwalk\\na\\nbout\\nwith\\nyou\\n.\\n—\\nAh\\nmy\\nmistresses\\nwhich\\nof\\nyou\\nall\\n,\\n,\\nWill\\nnow\\ndeny\\nto\\ndance\\nShe\\nthat\\nmakes\\ndainty\\n?\\n,\\nShe\\nI’ll\\nswear\\nhath\\ncorns\\nAm\\nI\\ncome\\nnear\\nyou\\nnow\\n,\\n,\\n.\\n?\\n—\\nWelcome\\ngentlemen\\nI\\nhave\\nseen\\nthe\\nday\\n,\\n.\\nThat\\nI\\nhave\\nworn\\na\\nvisor\\nand\\ncould\\ntell\\nA\\nwhispering\\ntale\\nin\\na\\nfair\\nlady’s\\near\\n,\\nSuch\\nas\\nwould\\nplease\\n’Tis\\ngone\\n’tis\\ngone\\n’tis\\ngone\\n.\\n,\\n,\\n.\\nYou\\nare\\nwelcome\\ngentlemen\\nCome\\nmusicians\\nplay\\n,\\n.\\n—\\n,\\n,\\n.\\nA\\nhall\\na\\nhall\\ngive\\nroom\\nAnd\\nfoot\\nit\\ngirls\\n,\\n,\\n!\\n—\\n,\\n.\\n—\\nMore\\nlight\\nyou\\nknaves\\nand\\nturn\\nthe\\ntables\\nup\\n,\\n,\\n,\\nAnd\\nquench\\nthe\\nfire\\nthe\\nroom\\nis\\ngrown\\ntoo\\nhot\\n;\\n.\\n—\\nAh\\nsirrah\\nthis\\nunlooked-for\\nsport\\ncomes\\nwell\\n,\\n,\\n.\\n—\\nNay\\nsit\\nnay\\nsit\\ngood\\ncousin\\nCapulet\\n,\\n,\\n,\\n,\\n,\\nFor\\nyou\\nand\\nI\\nare\\npast\\nour\\ndancing\\ndays\\n.\\nHow\\nlong\\nis\\n’t\\nnow\\nsince\\nlast\\nyourself\\nand\\nI\\nWere\\nin\\na\\nmask\\n?\\nMusic\\nplays\\nand\\nthey\\ndance\\n.'),\n",
       "  (OrderedDict([('@xml:id', 'spk-0642'),\n",
       "                ('w',\n",
       "                 [OrderedDict([('@xml:id', 'fs-rom-0105030'),\n",
       "                               ('#text', 'CAPULET’S')]),\n",
       "                  OrderedDict([('@xml:id', 'fs-rom-0105050'),\n",
       "                               ('#text', 'COUSIN')])]),\n",
       "                ('c', None)]),\n",
       "   'CAPULET’S\\nCOUSIN\\nBy\\n’r\\nLady\\nthirty\\nyears\\n,\\n.'),\n",
       "  (OrderedDict([('@xml:id', 'spk-0643'),\n",
       "                ('w',\n",
       "                 OrderedDict([('@xml:id', 'fs-rom-0105170'),\n",
       "                              ('#text', 'CAPULET')]))]),\n",
       "   'CAPULET\\nWhat\\nman\\n’tis\\nnot\\nso\\nmuch\\n’tis\\nnot\\nso\\nmuch\\n,\\n,\\n,\\n.\\n’Tis\\nsince\\nthe\\nnuptial\\nof\\nLucentio\\n,\\nCome\\nPentecost\\nas\\nquickly\\nas\\nit\\nwill\\n,\\nSome\\nfive\\nand\\ntwenty\\nyears\\nand\\nthen\\nwe\\nmasked\\n,\\n.'),\n",
       "  (OrderedDict([('@xml:id', 'spk-0647'),\n",
       "                ('w',\n",
       "                 [OrderedDict([('@xml:id', 'fs-rom-0105860'),\n",
       "                               ('#text', 'CAPULET’S')]),\n",
       "                  OrderedDict([('@xml:id', 'fs-rom-0105880'),\n",
       "                               ('#text', 'COUSIN')])]),\n",
       "                ('c', None)]),\n",
       "   'CAPULET’S\\nCOUSIN\\n’Tis\\nmore\\n’tis\\nmore\\nHis\\nson\\nis\\nelder\\nsir\\n,\\n.\\n,\\n.\\nHis\\nson\\nis\\nthirty\\n.'),\n",
       "  (OrderedDict([('@xml:id', 'spk-0649'),\n",
       "                ('w',\n",
       "                 OrderedDict([('@xml:id', 'fs-rom-0106180'),\n",
       "                              ('#text', 'CAPULET')]))]),\n",
       "   'CAPULET\\nWill\\nyou\\ntell\\nme\\nthat\\n?\\nHis\\nson\\nwas\\nbut\\na\\nward\\ntwo\\nyears\\nago\\n.'),\n",
       "  (OrderedDict([('@xml:id', 'spk-0651'),\n",
       "                ('w',\n",
       "                 OrderedDict([('@xml:id', 'fs-rom-0106470'),\n",
       "                              ('#text', 'ROMEO')]))]),\n",
       "   'ROMEO\\n,\\nto\\na\\nServingman\\nWhat\\nlady’s\\nthat\\nwhich\\ndoth\\nenrich\\nthe\\nhand\\nOf\\nyonder\\nknight\\n?'),\n",
       "  (OrderedDict([('@xml:id', 'spk-0653'),\n",
       "                ('w',\n",
       "                 OrderedDict([('@xml:id', 'fs-rom-0106760'),\n",
       "                              ('#text', 'SERVINGMAN')]))]),\n",
       "   'SERVINGMAN\\nI\\nknow\\nnot\\nsir\\n,\\n.'),\n",
       "  (OrderedDict([('@xml:id', 'spk-0654'),\n",
       "                ('w',\n",
       "                 OrderedDict([('@xml:id', 'fs-rom-0106860'),\n",
       "                              ('#text', 'ROMEO')]))]),\n",
       "   'ROMEO\\nO\\nshe\\ndoth\\nteach\\nthe\\ntorches\\nto\\nburn\\nbright\\n,\\n!\\nIt\\nseems\\nshe\\nhangs\\nupon\\nthe\\ncheek\\nof\\nnight\\nAs\\na\\nrich\\njewel\\nin\\nan\\nEthiop’s\\near\\n—\\nBeauty\\ntoo\\nrich\\nfor\\nuse\\nfor\\nEarth\\ntoo\\ndear\\n,\\n.\\nSo\\nshows\\na\\nsnowy\\ndove\\ntrooping\\nwith\\ncrows\\nAs\\nyonder\\nlady\\no’er\\nher\\nfellows\\nshows\\n.\\nThe\\nmeasure\\ndone\\nI’ll\\nwatch\\nher\\nplace\\nof\\nstand\\n,\\nAnd\\ntouching\\nhers\\nmake\\nblessèd\\nmy\\nrude\\nhand\\n,\\n,\\n.\\nDid\\nmy\\nheart\\nlove\\ntill\\nnow\\nForswear\\nit\\nsight\\n?\\n,\\n,\\nFor\\nI\\nne’er\\nsaw\\ntrue\\nbeauty\\ntill\\nthis\\nnight\\n.'),\n",
       "  (OrderedDict([('@xml:id', 'spk-0664'),\n",
       "                ('w',\n",
       "                 OrderedDict([('@xml:id', 'fs-rom-0108610'),\n",
       "                              ('#text', 'TYBALT')]))]),\n",
       "   'TYBALT\\nThis\\nby\\nhis\\nvoice\\nshould\\nbe\\na\\nMontague\\n,\\n,\\n.\\n—\\nFetch\\nme\\nmy\\nrapier\\nboy\\n,\\n.\\nWhat\\ndares\\nthe\\nslave\\n,\\nCome\\nhither\\ncovered\\nwith\\nan\\nantic\\nface\\nTo\\nfleer\\nand\\nscorn\\nat\\nour\\nsolemnity\\n?\\nNow\\nby\\nthe\\nstock\\nand\\nhonor\\nof\\nmy\\nkin\\n,\\n,\\nTo\\nstrike\\nhim\\ndead\\nI\\nhold\\nit\\nnot\\na\\nsin\\n.\\nPage\\nexits\\n.'),\n",
       "  (OrderedDict([('@xml:id', 'spk-0671'),\n",
       "                ('w',\n",
       "                 OrderedDict([('@xml:id', 'fs-rom-0109700'),\n",
       "                              ('#text', 'CAPULET')]))]),\n",
       "   'CAPULET\\nWhy\\nhow\\nnow\\nkinsman\\nWherefore\\nstorm\\nyou\\nso\\n,\\n,\\n?\\n?'),\n",
       "  (OrderedDict([('@xml:id', 'spk-0672'),\n",
       "                ('w',\n",
       "                 OrderedDict([('@xml:id', 'fs-rom-0109900'),\n",
       "                              ('#text', 'TYBALT')]))]),\n",
       "   'TYBALT\\nUncle\\nthis\\nis\\na\\nMontague\\nour\\nfoe\\n,\\n,\\n,\\nA\\nvillain\\nthat\\nis\\nhither\\ncome\\nin\\nspite\\nTo\\nscorn\\nat\\nour\\nsolemnity\\nthis\\nnight\\n.'),\n",
       "  (OrderedDict([('@xml:id', 'spk-0675'),\n",
       "                ('w',\n",
       "                 OrderedDict([('@xml:id', 'fs-rom-0110360'),\n",
       "                              ('#text', 'CAPULET')]))]),\n",
       "   'CAPULET\\nYoung\\nRomeo\\nis\\nit\\n?'),\n",
       "  (OrderedDict([('@xml:id', 'spk-0676'),\n",
       "                ('w',\n",
       "                 OrderedDict([('@xml:id', 'fs-rom-0110450'),\n",
       "                              ('#text', 'TYBALT')]))]),\n",
       "   'TYBALT\\n’Tis\\nhe\\nthat\\nvillain\\nRomeo\\n,\\n.'),\n",
       "  (OrderedDict([('@xml:id', 'spk-0677'),\n",
       "                ('w',\n",
       "                 OrderedDict([('@xml:id', 'fs-rom-0110570'),\n",
       "                              ('#text', 'CAPULET')]))]),\n",
       "   'CAPULET\\nContent\\nthee\\ngentle\\ncoz\\nLet\\nhim\\nalone\\n,\\n.\\n.\\nHe\\nbears\\nhim\\nlike\\na\\nportly\\ngentleman\\n,\\nAnd\\nto\\nsay\\ntruth\\nVerona\\nbrags\\nof\\nhim\\n,\\n,\\nTo\\nbe\\na\\nvirtuous\\nand\\nwell-governed\\nyouth\\n.\\nI\\nwould\\nnot\\nfor\\nthe\\nwealth\\nof\\nall\\nthis\\ntown\\nHere\\nin\\nmy\\nhouse\\ndo\\nhim\\ndisparagement\\n.\\nTherefore\\nbe\\npatient\\nTake\\nno\\nnote\\nof\\nhim\\n.\\n.\\nIt\\nis\\nmy\\nwill\\nthe\\nwhich\\nif\\nthou\\nrespect\\n,\\n,\\nShow\\na\\nfair\\npresence\\nand\\nput\\noff\\nthese\\nfrowns\\n,\\nAn\\nill-beseeming\\nsemblance\\nfor\\na\\nfeast\\n.'),\n",
       "  (OrderedDict([('@xml:id', 'spk-0687'),\n",
       "                ('w',\n",
       "                 OrderedDict([('@xml:id', 'fs-rom-0112180'),\n",
       "                              ('#text', 'TYBALT')]))]),\n",
       "   'TYBALT\\nIt\\nfits\\nwhen\\nsuch\\na\\nvillain\\nis\\na\\nguest\\n.\\nI’ll\\nnot\\nendure\\nhim\\n.'),\n",
       "  (OrderedDict([('@xml:id', 'spk-0689'),\n",
       "                ('w',\n",
       "                 OrderedDict([('@xml:id', 'fs-rom-0112450'),\n",
       "                              ('#text', 'CAPULET')]))]),\n",
       "   'CAPULET\\nHe\\nshall\\nbe\\nendured\\n.\\nWhat\\ngoodman\\nboy\\nI\\nsay\\nhe\\nshall\\nGo\\nto\\n,\\n?\\n.\\n.\\nAm\\nI\\nthe\\nmaster\\nhere\\nor\\nyou\\nGo\\nto\\n?\\n.\\nYou’ll\\nnot\\nendure\\nhim\\nGod\\nshall\\nmend\\nmy\\nsoul\\n!\\n,\\nYou’ll\\nmake\\na\\nmutiny\\namong\\nmy\\nguests\\n,\\nYou\\nwill\\nset\\ncock-a-hoop\\nyou’ll\\nbe\\nthe\\nman\\n,\\n!'),\n",
       "  (OrderedDict([('@xml:id', 'spk-0695'),\n",
       "                ('w',\n",
       "                 OrderedDict([('@xml:id', 'fs-rom-0113440'),\n",
       "                              ('#text', 'TYBALT')]))]),\n",
       "   'TYBALT\\nWhy\\nuncle\\n’tis\\na\\nshame\\n,\\n,\\n.'),\n",
       "  (OrderedDict([('@xml:id', 'spk-0696'),\n",
       "                ('w',\n",
       "                 OrderedDict([('@xml:id', 'fs-rom-0113570'),\n",
       "                              ('#text', 'CAPULET')]))]),\n",
       "   'CAPULET\\nGo\\nto\\ngo\\nto\\n,\\n.\\nYou\\nare\\na\\nsaucy\\nboy\\nIs\\n’t\\nso\\nindeed\\n.\\n?\\nThis\\ntrick\\nmay\\nchance\\nto\\nscathe\\nyou\\nI\\nknow\\nwhat\\n.\\n.\\nYou\\nmust\\ncontrary\\nme\\nMarry\\n’tis\\ntime\\n.\\n,\\n—\\nWell\\nsaid\\nmy\\nhearts\\nYou\\nare\\na\\nprincox\\ngo\\n,\\n.\\n—\\n,\\n.\\nBe\\nquiet\\nor\\nMore\\nlight\\nmore\\nlight\\nfor\\nshame\\n,\\n—\\n,\\n!\\n—\\n,\\nI’ll\\nmake\\nyou\\nquiet\\nWhat\\ncheerly\\nmy\\nhearts\\n.\\n—\\n,\\n,\\n!'),\n",
       "  (OrderedDict([('@xml:id', 'spk-0703'),\n",
       "                ('w',\n",
       "                 OrderedDict([('@xml:id', 'fs-rom-0114840'),\n",
       "                              ('#text', 'TYBALT')]))]),\n",
       "   'TYBALT\\nPatience\\nperforce\\nwith\\nwillful\\ncholer\\nmeeting\\nMakes\\nmy\\nflesh\\ntremble\\nin\\ntheir\\ndifferent\\ngreeting\\n.\\nI\\nwill\\nwithdraw\\nbut\\nthis\\nintrusion\\nshall\\n,\\n,\\nNow\\nseeming\\nsweet\\nconvert\\nto\\nbitt’rest\\ngall\\n,\\n.'),\n",
       "  (OrderedDict([('@xml:id', 'spk-0707'),\n",
       "                ('w',\n",
       "                 OrderedDict([('@xml:id', 'fs-rom-0115460'),\n",
       "                              ('#text', 'ROMEO')]))]),\n",
       "   'ROMEO\\n,\\ntaking\\nJuliet’s\\nhand\\nIf\\nI\\nprofane\\nwith\\nmy\\nunworthiest\\nhand\\nThis\\nholy\\nshrine\\nthe\\ngentle\\nsin\\nis\\nthis\\n,\\n:\\nMy\\nlips\\ntwo\\nblushing\\npilgrims\\nready\\nstand\\n,\\n,\\nTo\\nsmooth\\nthat\\nrough\\ntouch\\nwith\\na\\ntender\\nkiss\\n.'),\n",
       "  (OrderedDict([('@xml:id', 'spk-0711'),\n",
       "                ('w',\n",
       "                 OrderedDict([('@xml:id', 'fs-rom-0116170'),\n",
       "                              ('#text', 'JULIET')]))]),\n",
       "   'JULIET\\nGood\\npilgrim\\nyou\\ndo\\nwrong\\nyour\\nhand\\ntoo\\nmuch\\n,\\n,\\nWhich\\nmannerly\\ndevotion\\nshows\\nin\\nthis\\n;\\nFor\\nsaints\\nhave\\nhands\\nthat\\npilgrims’\\nhands\\ndo\\ntouch\\n,\\nAnd\\npalm\\nto\\npalm\\nis\\nholy\\npalmers’\\nkiss\\n.'),\n",
       "  (OrderedDict([('@xml:id', 'spk-0715'),\n",
       "                ('w',\n",
       "                 OrderedDict([('@xml:id', 'fs-rom-0116830'),\n",
       "                              ('#text', 'ROMEO')]))]),\n",
       "   'ROMEO\\nHave\\nnot\\nsaints\\nlips\\nand\\nholy\\npalmers\\ntoo\\n,\\n?'),\n",
       "  (OrderedDict([('@xml:id', 'spk-0716'),\n",
       "                ('w',\n",
       "                 OrderedDict([('@xml:id', 'fs-rom-0117010'),\n",
       "                              ('#text', 'JULIET')]))]),\n",
       "   'JULIET\\nAy\\npilgrim\\nlips\\nthat\\nthey\\nmust\\nuse\\nin\\nprayer\\n,\\n,\\n.'),\n",
       "  (OrderedDict([('@xml:id', 'spk-0717'),\n",
       "                ('w',\n",
       "                 OrderedDict([('@xml:id', 'fs-rom-0117220'),\n",
       "                              ('#text', 'ROMEO')]))]),\n",
       "   'ROMEO\\nO\\nthen\\ndear\\nsaint\\nlet\\nlips\\ndo\\nwhat\\nhands\\ndo\\n,\\n,\\n.\\nThey\\npray\\ngrant\\nthou\\nlest\\nfaith\\nturn\\nto\\ndespair\\n:\\n,\\n.'),\n",
       "  (OrderedDict([('@xml:id', 'spk-0719'),\n",
       "                ('w',\n",
       "                 OrderedDict([('@xml:id', 'fs-rom-0117650'),\n",
       "                              ('#text', 'JULIET')]))]),\n",
       "   'JULIET\\nSaints\\ndo\\nnot\\nmove\\nthough\\ngrant\\nfor\\nprayers’\\nsake\\n,\\n.'),\n",
       "  (OrderedDict([('@xml:id', 'spk-0720'),\n",
       "                ('w',\n",
       "                 OrderedDict([('@xml:id', 'fs-rom-0117850'),\n",
       "                              ('#text', 'ROMEO')]))]),\n",
       "   'ROMEO\\nThen\\nmove\\nnot\\nwhile\\nmy\\nprayer’s\\neffect\\nI\\ntake\\n.\\nThus\\nfrom\\nmy\\nlips\\nby\\nthine\\nmy\\nsin\\nis\\npurged\\n,\\n,\\n.\\nHe\\nkisses\\nher\\n.'),\n",
       "  (OrderedDict([('@xml:id', 'spk-0722'),\n",
       "                ('w',\n",
       "                 OrderedDict([('@xml:id', 'fs-rom-0118320'),\n",
       "                              ('#text', 'JULIET')]))]),\n",
       "   'JULIET\\nThen\\nhave\\nmy\\nlips\\nthe\\nsin\\nthat\\nthey\\nhave\\ntook\\n.'),\n",
       "  (OrderedDict([('@xml:id', 'spk-0723'),\n",
       "                ('w',\n",
       "                 OrderedDict([('@xml:id', 'fs-rom-0118530'),\n",
       "                              ('#text', 'ROMEO')]))]),\n",
       "   'ROMEO\\nSin\\nfrom\\nmy\\nlips\\nO\\ntrespass\\nsweetly\\nurged\\n?\\n!\\nGive\\nme\\nmy\\nsin\\nagain\\n.'),\n",
       "  (OrderedDict([('@xml:id', 'spk-0725'),\n",
       "                ('w',\n",
       "                 OrderedDict([('@xml:id', 'fs-rom-0118870'),\n",
       "                              ('#text', 'JULIET')]))]),\n",
       "   'JULIET\\nYou\\nkiss\\nby\\nth’\\nbook\\n.'),\n",
       "  (OrderedDict([('@xml:id', 'spk-0726'),\n",
       "                ('w',\n",
       "                 OrderedDict([('@xml:id', 'fs-rom-0118980'),\n",
       "                              ('#text', 'NURSE')]))]),\n",
       "   'NURSE\\nMadam\\nyour\\nmother\\ncraves\\na\\nword\\nwith\\nyou\\n,\\n.'),\n",
       "  (OrderedDict([('@xml:id', 'spk-0727'),\n",
       "                ('w',\n",
       "                 OrderedDict([('@xml:id', 'fs-rom-0119260'),\n",
       "                              ('#text', 'ROMEO')]))]),\n",
       "   'ROMEO\\nWhat\\nis\\nher\\nmother\\n?'),\n",
       "  (OrderedDict([('@xml:id', 'spk-0728'),\n",
       "                ('w',\n",
       "                 OrderedDict([('@xml:id', 'fs-rom-0119350'),\n",
       "                              ('#text', 'NURSE')]))]),\n",
       "   'NURSE\\nMarry\\nbachelor\\n,\\n,\\nHer\\nmother\\nis\\nthe\\nlady\\nof\\nthe\\nhouse\\n,\\nAnd\\na\\ngood\\nlady\\nand\\na\\nwise\\nand\\nvirtuous\\n,\\n.\\nI\\nnursed\\nher\\ndaughter\\nthat\\nyou\\ntalked\\nwithal\\n.\\nI\\ntell\\nyou\\nhe\\nthat\\ncan\\nlay\\nhold\\nof\\nher\\n,\\nShall\\nhave\\nthe\\nchinks\\n.'),\n",
       "  (OrderedDict([('@xml:id', 'spk-0734'),\n",
       "                ('w',\n",
       "                 OrderedDict([('@xml:id', 'fs-rom-0120260'),\n",
       "                              ('#text', 'ROMEO')]))]),\n",
       "   'ROMEO\\n,\\naside\\nIs\\nshe\\na\\nCapulet\\n?\\nO\\ndear\\naccount\\nMy\\nlife\\nis\\nmy\\nfoe’s\\ndebt\\n!\\n.'),\n",
       "  (OrderedDict([('@xml:id', 'spk-0736'),\n",
       "                ('w',\n",
       "                 OrderedDict([('@xml:id', 'fs-rom-0120570'),\n",
       "                              ('#text', 'BENVOLIO')]))]),\n",
       "   'BENVOLIO\\nAway\\nbegone\\nThe\\nsport\\nis\\nat\\nthe\\nbest\\n,\\n.\\n.'),\n",
       "  (OrderedDict([('@xml:id', 'spk-0737'),\n",
       "                ('w',\n",
       "                 OrderedDict([('@xml:id', 'fs-rom-0120760'),\n",
       "                              ('#text', 'ROMEO')]))]),\n",
       "   'ROMEO\\nAy\\nso\\nI\\nfear\\nThe\\nmore\\nis\\nmy\\nunrest\\n,\\n.\\n.'),\n",
       "  (OrderedDict([('@xml:id', 'spk-0738'),\n",
       "                ('w',\n",
       "                 OrderedDict([('@xml:id', 'fs-rom-0120970'),\n",
       "                              ('#text', 'CAPULET')]))]),\n",
       "   'CAPULET\\nNay\\ngentlemen\\nprepare\\nnot\\nto\\nbe\\ngone\\n,\\n,\\n.\\nWe\\nhave\\na\\ntrifling\\nfoolish\\nbanquet\\ntowards\\n.\\n—\\nIs\\nit\\ne’en\\nso\\nWhy\\nthen\\nI\\nthank\\nyou\\nall\\n?\\n,\\n.\\nI\\nthank\\nyou\\nhonest\\ngentlemen\\nGood\\nnight\\n,\\n.\\n.\\n—\\nMore\\ntorches\\nhere\\nCome\\non\\nthen\\nlet’s\\nto\\nbed\\n.\\n—\\n,\\n.\\n—\\nAh\\nsirrah\\nby\\nmy\\nfay\\nit\\nwaxes\\nlate\\n,\\n,\\n,\\n.\\nI’ll\\nto\\nmy\\nrest\\n.'),\n",
       "  (OrderedDict([('@xml:id', 'spk-0745'),\n",
       "                ('w',\n",
       "                 OrderedDict([('@xml:id', 'fs-rom-0122340'),\n",
       "                              ('#text', 'JULIET')]))]),\n",
       "   'JULIET\\nCome\\nhither\\nnurse\\nWhat\\nis\\nyond\\ngentleman\\n,\\n.\\n?'),\n",
       "  (OrderedDict([('@xml:id', 'spk-0746'),\n",
       "                ('w',\n",
       "                 OrderedDict([('@xml:id', 'fs-rom-0122510'),\n",
       "                              ('#text', 'NURSE')]))]),\n",
       "   'NURSE\\nThe\\nson\\nand\\nheir\\nof\\nold\\nTiberio\\n.'),\n",
       "  (OrderedDict([('@xml:id', 'spk-0747'),\n",
       "                ('w',\n",
       "                 OrderedDict([('@xml:id', 'fs-rom-0122660'),\n",
       "                              ('#text', 'JULIET')]))]),\n",
       "   'JULIET\\nWhat’s\\nhe\\nthat\\nnow\\nis\\ngoing\\nout\\nof\\ndoor\\n?'),\n",
       "  (OrderedDict([('@xml:id', 'spk-0748'),\n",
       "                ('w',\n",
       "                 OrderedDict([('@xml:id', 'fs-rom-0122850'),\n",
       "                              ('#text', 'NURSE')]))]),\n",
       "   'NURSE\\nMarry\\nthat\\nI\\nthink\\nbe\\nyoung\\nPetruchio\\n,\\n,\\n,\\n.'),\n",
       "  (OrderedDict([('@xml:id', 'spk-0749'),\n",
       "                ('w',\n",
       "                 OrderedDict([('@xml:id', 'fs-rom-0123030'),\n",
       "                              ('#text', 'JULIET')]))]),\n",
       "   'JULIET\\nWhat’s\\nhe\\nthat\\nfollows\\nhere\\nthat\\nwould\\nnot\\ndance\\n,\\n?'),\n",
       "  (OrderedDict([('@xml:id', 'spk-0750'),\n",
       "                ('w',\n",
       "                 OrderedDict([('@xml:id', 'fs-rom-0123230'),\n",
       "                              ('#text', 'NURSE')]))]),\n",
       "   'NURSE\\nI\\nknow\\nnot\\n.'),\n",
       "  (OrderedDict([('@xml:id', 'spk-0751'),\n",
       "                ('w',\n",
       "                 OrderedDict([('@xml:id', 'fs-rom-0123300'),\n",
       "                              ('#text', 'JULIET')]))]),\n",
       "   'JULIET\\nGo\\nask\\nhis\\nname\\nIf\\nhe\\nbe\\nmarrièd\\n.\\n,\\nThe\\nNurse\\ngoes\\n.\\nMy\\ngrave\\nis\\nlike\\nto\\nbe\\nmy\\nwedding\\nbed\\n.'),\n",
       "  (OrderedDict([('@xml:id', 'spk-0753'),\n",
       "                ('w',\n",
       "                 OrderedDict([('@xml:id', 'fs-rom-0123730'),\n",
       "                              ('#text', 'NURSE')]))]),\n",
       "   'NURSE\\n,\\nreturning\\nHis\\nname\\nis\\nRomeo\\nand\\na\\nMontague\\n,\\n,\\nThe\\nonly\\nson\\nof\\nyour\\ngreat\\nenemy\\n.'),\n",
       "  (OrderedDict([('@xml:id', 'spk-0755'),\n",
       "                ('w',\n",
       "                 OrderedDict([('@xml:id', 'fs-rom-0124060'),\n",
       "                              ('#text', 'JULIET')]))]),\n",
       "   'JULIET\\nMy\\nonly\\nlove\\nsprung\\nfrom\\nmy\\nonly\\nhate\\n!\\nToo\\nearly\\nseen\\nunknown\\nand\\nknown\\ntoo\\nlate\\n,\\n!\\nProdigious\\nbirth\\nof\\nlove\\nit\\nis\\nto\\nme\\nThat\\nI\\nmust\\nlove\\na\\nloathèd\\nenemy\\n.'),\n",
       "  (OrderedDict([('@xml:id', 'spk-0759'),\n",
       "                ('w',\n",
       "                 OrderedDict([('@xml:id', 'fs-rom-0124690'),\n",
       "                              ('#text', 'NURSE')]))]),\n",
       "   'NURSE\\nWhat’s\\nthis\\nWhat’s\\nthis\\n?\\n?'),\n",
       "  (OrderedDict([('@xml:id', 'spk-0760'),\n",
       "                ('w',\n",
       "                 OrderedDict([('@xml:id', 'fs-rom-0124790'),\n",
       "                              ('#text', 'JULIET')]))]),\n",
       "   'JULIET\\nA\\nrhyme\\nI\\nlearned\\neven\\nnow\\nOf\\none\\nI\\ndanced\\nwithal\\n.'),\n",
       "  (OrderedDict([('@xml:id', 'spk-0762'),\n",
       "                ('w',\n",
       "                 OrderedDict([('@xml:id', 'fs-rom-0125090'),\n",
       "                              ('#text', 'NURSE')]))]),\n",
       "   'NURSE\\nAnon\\nanon\\n,\\n.\\nCome\\nlet’s\\naway\\nThe\\nstrangers\\nall\\nare\\ngone\\n,\\n.\\n.')]]"
      ]
     },
     "execution_count": 232,
     "metadata": {},
     "output_type": "execute_result"
    }
   ],
   "source": [
    "# draussen.tei.xml\n",
    "# kasimir\n",
    "with open('romeo.tei.xml', 'r') as f:\n",
    "    drama_tei = f.read()\n",
    "    '#text'\n",
    "\n",
    "draussen = []\n",
    "\n",
    "for scene in list(xmltodict.parse(drama_tei)['TEI']['text']['body']['div'])[0:]:\n",
    "    scene_text = []\n",
    "    if 'sp' in scene:\n",
    "        for rep in scene['sp']:\n",
    "            try:\n",
    "                speaker = rep['speaker']\n",
    "    #             print(speaker)\n",
    "                parts_of_line = flat_list_and_drop_None(find_by_key(rep, '#text'))\n",
    "                line = '\\n'.join(parts_of_line)\n",
    "                if len(line) > 0:\n",
    "                    scene_text.append((speaker, line))\n",
    "            except:\n",
    "                pass\n",
    "        draussen.append(scene_text)\n",
    "    \n",
    "romeo[0]"
   ]
  },
  {
   "cell_type": "code",
   "execution_count": 205,
   "metadata": {},
   "outputs": [],
   "source": [
    "import numpy as np\n",
    "import pandas as pd\n",
    "\n",
    "import tensorflow_hub as hub\n",
    "import tensorflow_text\n",
    "from tensorflow.keras.models import Sequential, load_model\n",
    "from tensorflow.keras.utils import to_categorical\n",
    "\n",
    "from sklearn.model_selection import train_test_split\n",
    "from sklearn.metrics import pairwise_distances, silhouette_score\n",
    "from sklearn.preprocessing import normalize\n",
    "from sklearn.cluster import KMeans\n",
    "from sklearn.utils import shuffle\n",
    "from skimage.transform import resize\n",
    "\n",
    "import networkx as nx\n",
    "from node2vec import Node2Vec\n",
    "\n",
    "import matplotlib.pyplot as plt\n",
    "import seaborn as sns\n",
    "import umap\n",
    "from termcolor import colored\n",
    "\n",
    "\n",
    "from tqdm.notebook import tqdm\n",
    "import re\n",
    "import nltk\n",
    "import pickle\n",
    "import swifter\n",
    "import random\n",
    "\n",
    "from os import listdir\n",
    "from os.path import isfile, join\n",
    "from collections import Counter\n",
    "from random import randint\n",
    "\n",
    "\n",
    "def load_all_models(verbose=True):\n",
    "    cluster_seq_emb = load_model('cluster_seq_emb.h5')\n",
    "    \n",
    "    if verbose:\n",
    "        print('dialog embeder is here')\n",
    "\n",
    "    with open('kmeans_phrases.pkl', 'rb') as f:\n",
    "        clust_model_kmeans = pickle.load(f)\n",
    "    with open('kmeans_phrases_names.pkl', 'rb') as f:\n",
    "        cluster_names = pickle.load(f)\n",
    "        \n",
    "    if verbose:\n",
    "        print('sent cluster model is here')\n",
    "\n",
    "    with open('kmeans_seqs.pkl', 'rb') as f:\n",
    "        ngram_kmeans = pickle.load(f)\n",
    "    with open('kmeans_seqs_names.pkl', 'rb') as f:\n",
    "        ngram_clusters_names = pickle.load(f)\n",
    "    \n",
    "    if verbose:\n",
    "        print('dialog cluster model is here')\n",
    "        \n",
    "    embed = hub.load(\"https://tfhub.dev/google/universal-sentence-encoder-multilingual-large/3\")\n",
    "    if verbose:\n",
    "        print('thats all')\n",
    "    \n",
    "    return cluster_seq_emb, clust_model_kmeans, cluster_names, ngram_kmeans, ngram_clusters_names, embed\n",
    "    \n",
    "\n",
    "def getRoundedThresholdv1(a, MinClip):\n",
    "    return round(float(a) / MinClip) * MinClip\n",
    "\n",
    "\n",
    "def get_sent_vector(sent):\n",
    "    return np.array(embed([sent])[0])\n",
    "\n",
    "\n",
    "def ngrams_from_vec(vec, n=3):\n",
    "    output = []\n",
    "    if len(vec) <= n:\n",
    "        return [[]]\n",
    "    else:\n",
    "        return [vec[i: i+n] for i in range(len(vec)-n)]\n",
    "\n",
    "\n",
    "def final_cluster_text(per_text, cluster_model, cluster_seq_emb, ngram_kmeans, cluster_names={}, sent_to_vector_dict={}):\n",
    "    output = []\n",
    "    all_clusters = []\n",
    "    for person, sent in tqdm(per_text):\n",
    "        if sent in sent_to_vector_dict:\n",
    "            sent_vec = sent_to_vector_dict[sent]\n",
    "        else:\n",
    "            sent_vec = get_sent_vector(sent)\n",
    "        if sent_vec is not None:\n",
    "            cluster =  clust_model_kmeans.predict([sent_vec])[0]\n",
    "            sents = {sent: cluster_names.get(cluster, str(cluster))}\n",
    "            output.append((person, sents))\n",
    "            all_clusters.append(cluster)\n",
    "    ngrams = ngrams_from_vec(all_clusters, n=3)\n",
    "    ngrams_text = ngrams_from_vec([sent for _, sent in per_text], n=3)\n",
    "    ngram_vecs = [cluster_seq_emb.predict([[[clust_model_kmeans.cluster_centers_[cl] for cl in ngram]]])[0][-1] for ngram in ngrams]\n",
    "    huge_clusters_in_this_text = ngram_kmeans.predict(ngram_vecs)\n",
    "    return output, all_clusters, huge_clusters_in_this_text, ngrams_text"
   ]
  },
  {
   "cell_type": "code",
   "execution_count": 12,
   "metadata": {},
   "outputs": [
    {
     "name": "stdout",
     "output_type": "stream",
     "text": [
      "WARNING:tensorflow:No training configuration found in save file: the model was *not* compiled. Compile it manually.\n"
     ]
    },
    {
     "name": "stderr",
     "output_type": "stream",
     "text": [
      "WARNING:tensorflow:No training configuration found in save file: the model was *not* compiled. Compile it manually.\n"
     ]
    },
    {
     "name": "stdout",
     "output_type": "stream",
     "text": [
      "dialog embeder is here\n",
      "sent cluster model is here\n",
      "dialog cluster model is here\n",
      "thats all\n"
     ]
    }
   ],
   "source": [
    "cluster_seq_emb, clust_model_kmeans, cluster_names, ngram_kmeans, ngram_clusters_names, embed = load_all_models(verbose=True)"
   ]
  },
  {
   "cell_type": "code",
   "execution_count": 116,
   "metadata": {},
   "outputs": [
    {
     "data": {
      "text/plain": [
       "[(0, 'gogol-lakeiskaja.pkl'),\n",
       " (1, 'prutkov-fantaziya.pkl'),\n",
       " (2, 'sumarokov-opekun.pkl'),\n",
       " (3, 'ostrovsky-bednaja-nevesta.pkl'),\n",
       " (4, 'turgenev-mesjats-v-derevne.pkl'),\n",
       " (5, 'nekrasov-zabrakovannye.pkl'),\n",
       " (6, 'blok-neznakomka.pkl'),\n",
       " (7, 'rostopchina-neludimka.pkl'),\n",
       " (8, 'sumarokov-pridanoe-obmanom.pkl'),\n",
       " (9, 'nekrasov-akter.pkl'),\n",
       " (10, 'knyazhnin-rosslav.pkl'),\n",
       " (11, 'gogol-zhenitba.pkl'),\n",
       " (12, 'kropotov-fomushka.pkl'),\n",
       " (13, 'ostrovsky-svoi-sobaki-gryzutsya-chuzhaya-ne-pristavaj.pkl'),\n",
       " (14, 'andreyev-mysl.pkl'),\n",
       " (15, 'turgenev-holostjak.pkl'),\n",
       " (16, 'ostrovsky-trudovoj-hleb.pkl'),\n",
       " (17, 'khmelnitsky-vzaimnye-ispytaniya.pkl'),\n",
       " (18, 'pushkin-stseny-iz-rytsarskih-vremen.pkl'),\n",
       " (19, 'majkov-agriopa.pkl'),\n",
       " (20, 'nikolev-samolyubivyj-stihotvorec.pkl'),\n",
       " (21, 'fonvizin-korion.pkl'),\n",
       " (22, 'zagoskin-blagorodnyj-teatr.pkl'),\n",
       " (23, 'gogol-revizor.pkl'),\n",
       " (24, 'sumarokov-gamlet.pkl'),\n",
       " (25, 'prutkov-chereposlov-sirech-frenolog.pkl'),\n",
       " (26, 'khlebnikov-snezhimochka.pkl'),\n",
       " (27, 'bulgakov-poslednie-dni.pkl'),\n",
       " (28, 'gumilyov-don-zhuan-v-egipte.pkl'),\n",
       " (29, 'ostrovsky-semejnaya-kartina.pkl'),\n",
       " (30, 'blok-korol-na-ploschadi.pkl'),\n",
       " (31, 'andreyev-ne-ubiy.pkl'),\n",
       " (32, 'knyazhnin-vadim-novgorodskij.pkl'),\n",
       " (33, 'shakhovskoy-ne-lubo-ne-slushai.pkl'),\n",
       " (34, 'prutkov-spor-drevnih-grecheskih-filosofov.pkl'),\n",
       " (35, 'bulgakov-zojkina-kvartira.pkl'),\n",
       " (36, 'glinka-velzen.pkl'),\n",
       " (37, 'pushkin-boris-godunov.pkl'),\n",
       " (38, 'prutkov-blondy.pkl'),\n",
       " (39, 'lermontov-strannyj-chelovek.pkl'),\n",
       " (40, 'sukhovo-kobylin-smert-tarelkina.pkl'),\n",
       " (41, 'knyazhnin-olga.pkl'),\n",
       " (42, 'gumilyov-ditja-allaha.pkl'),\n",
       " (43, 'pushkin-pir-vo-vremja-chumy.pkl'),\n",
       " (44, 'kokoshkin-vospitanie.pkl'),\n",
       " (45, 'ostrovsky-greh-da-beda-na-kogo-ne-zhivet.pkl'),\n",
       " (46, 'bulgakov-dni-turbinyh.pkl'),\n",
       " (47, 'ostrovsky-ne-v-svoi-sani-ne-sadis.pkl'),\n",
       " (48, 'sumarokov-vzdorschitsa.pkl'),\n",
       " (49, 'chekhov-chaika.pkl'),\n",
       " (50, 'ostrovsky-puchina.pkl'),\n",
       " (51, 'lomonosov-tamira-i-selim.pkl'),\n",
       " (52, 'ostrovsky-pozdnyaya-lyubov.pkl'),\n",
       " (53, 'ostrovsky-bez-viny-vinovatye.pkl'),\n",
       " (54, 'pisarev-naslednica.pkl'),\n",
       " (55, 'sukhovo-kobylin-svadba-krechinskogo.pkl'),\n",
       " (56, 'shakhovskoy-pustodomy.pkl'),\n",
       " (57, 'chekhov-jubilej.pkl'),\n",
       " (58, 'krylov-podschipa-ili-trumf.pkl'),\n",
       " (59, 'nekrasov-junost-lomonosova.pkl'),\n",
       " (60, 'pushkin-kamenniy-gost.pkl'),\n",
       " (61, 'leskov-rastochitel.pkl'),\n",
       " (62, 'gorky-egor-bulychov-i-drugie.pkl'),\n",
       " (63, 'turgenev-vecher-v-sorrente.pkl'),\n",
       " (64, 'gorky-vassa-zheleznova.pkl'),\n",
       " (65, 'mamin-sibirjak-malenkaja-pravda.pkl'),\n",
       " (66, 'sumarokov-horev.pkl'),\n",
       " (67, 'prutkov-srodstvo-mirovyh-sil.pkl'),\n",
       " (68, 'ostrovsky-na-bojkom-meste.pkl'),\n",
       " (69, 'bulgakov-vojna-i-mir.pkl'),\n",
       " (70, 'gumilyov-gondla.pkl'),\n",
       " (71, 'chekhov-leshii.pkl'),\n",
       " (72, 'prutkov-oprometchivyj-turka.pkl'),\n",
       " (73, 'dashkova-toisiokov.pkl'),\n",
       " (74, 'ostrovsky-na-vsyakogo-mudreca-dovolno-prostoty.pkl'),\n",
       " (75, 'ostrovsky-ne-tak-zhivi-kak-hochetsya.pkl'),\n",
       " (76, 'bulgakov-adam-i-eva.pkl'),\n",
       " (77, 'ostrovsky-dmitrij-samozvanets-i-vasilij-shujskij.pkl'),\n",
       " (78, 'ostrovsky-bednost-ne-porok.pkl'),\n",
       " (79, 'kedrin-rembrandt.pkl'),\n",
       " (80, 'lomonosov-demofont.pkl'),\n",
       " (81, 'krylov-sonnyj-poroshok.pkl'),\n",
       " (82, 'ekaterina-vtoraja-rasstroennaja-semja.pkl'),\n",
       " (83, 'ostrovsky-bespridannitsa.pkl'),\n",
       " (84, 'sumarokov-dimitrij-samozvanets.pkl'),\n",
       " (85, 'naydyonov-deti-vanjushina.pkl'),\n",
       " (86, 'turgenev-nahlebnik.pkl'),\n",
       " (87, 'chekhov-vishnevyi-sad.pkl'),\n",
       " (88, 'sollogub-chinovnik.pkl'),\n",
       " (89, 'tolstoy-zhivoy-trup.pkl'),\n",
       " (90, 'ostrovsky-les.pkl'),\n",
       " (91, 'ostrovsky-beshenye-dengi.pkl'),\n",
       " (92, 'lermontov-menschen-und-leidenschaften.pkl'),\n",
       " (93, 'sumarokov-semira.pkl'),\n",
       " (94, 'bulgakov-kabala-svjatosh.pkl'),\n",
       " (95, 'chekhov-medved.pkl'),\n",
       " (96, 'gorky-na-dne.pkl'),\n",
       " (97, 'sumarokov-artistona.pkl'),\n",
       " (98, 'ostrovsky-goryachee-serdce.pkl'),\n",
       " (99, 'turgenev-neostorozhnost.pkl'),\n",
       " (100, 'sumarokov-rogonosets-po-voobrazheniju.pkl'),\n",
       " (101, 'chekhov-tri-sestry.pkl'),\n",
       " (102, 'griboyedov-gore-ot-uma.pkl'),\n",
       " (103, 'knyazhnin-traur.pkl'),\n",
       " (104, 'gumilyov-akteon.pkl'),\n",
       " (105, 'pisemskij-gorkaja-sudbina.pkl'),\n",
       " (106, 'fonvizin-vybor-guvernera.pkl'),\n",
       " (107, 'krylov-pirog.pkl'),\n",
       " (108, 'turgenev-zavtrak-u-predvoditelja.pkl'),\n",
       " (109, 'kapnist-antigona.pkl'),\n",
       " (110, 'plavilshchikov-sgovor-kutejkina.pkl'),\n",
       " (111, 'bulgakov-batum.pkl'),\n",
       " (112, 'lensky-horosha-i-durna.pkl'),\n",
       " (113, 'mayakovsky-klop.pkl'),\n",
       " (114, 'sudovshchikov-neslyhannoe-divo.pkl'),\n",
       " (115, 'mayakovsky-banja.pkl'),\n",
       " (116, 'mayakovsky-misteriya-buff.pkl'),\n",
       " (117, 'knyazhnin-neudachnyj-primiritel.pkl'),\n",
       " (118, 'gogol-otryvok.pkl'),\n",
       " (119, 'khmelnitsky-govorun.pkl'),\n",
       " (120, 'ostrovsky-shutniki.pkl'),\n",
       " (121, 'sumarokov-chudovischi.pkl'),\n",
       " (122, 'sumarokov-tresotinius.pkl'),\n",
       " (123, 'ostrovsky-za-chem-pojdesh-to-i-najdesh.pkl'),\n",
       " (124, 'ostrovsky-dohodnoe-mesto.pkl'),\n",
       " (125, 'ostrovsky-poslednyaya-zhertva.pkl'),\n",
       " (126, 'chekhov-tragik-ponevole.pkl'),\n",
       " (127, 'pushkin-mocart-i-saleri.pkl'),\n",
       " (128, 'ostrovsky-svoi-ljudi.pkl'),\n",
       " (129, 'ostrovsky-volki-i-ovtsy.pkl'),\n",
       " (130, 'petrov-ostrov-mira.pkl'),\n",
       " (131, 'mamin-sibirjak-zolotopromyshlenniki.pkl'),\n",
       " (132, 'kapnist-yabeda.pkl'),\n",
       " (133, 'majkov-femist-i-ieronima.pkl'),\n",
       " (134, 'fonvizin-brigadir.pkl'),\n",
       " (135, 'babel-zakat.pkl'),\n",
       " (136, 'chekhov-djadja-vanja.pkl'),\n",
       " (137, 'bulgakov-poloumnyj-zhurden.pkl'),\n",
       " (138, 'sukhovo-kobylin-delo.pkl'),\n",
       " (139, 'saltykov-shchedrin-smert-pazuhina.pkl'),\n",
       " (140, 'chekhov-predlozhenie.pkl'),\n",
       " (141, 'turgenev-razgovor-na-bolshoj-doroge.pkl'),\n",
       " (142, 'krylov-prokazniki.pkl'),\n",
       " (143, 'tolstoy-tsar-fedor-ioannovich.pkl'),\n",
       " (144, 'ostrovsky-v-chuzhom-piru-pohmelje.pkl'),\n",
       " (145, 'tolstoy-smert-ioanna-groznogo.pkl'),\n",
       " (146, 'shakhovskoy-svoya-semya.pkl'),\n",
       " (147, 'ostrovsky-groza.pkl'),\n",
       " (148, 'nekrasov-shila-v-meshke-ne-utaish.pkl'),\n",
       " (149, 'fonvizin-nedorosl.pkl'),\n",
       " (150, 'andreyev-k-zvezdam.pkl'),\n",
       " (151, 'pushkin-rusalka.pkl'),\n",
       " (152, 'ostrovsky-snegurochka.pkl'),\n",
       " (153, 'lazhechnikov-okopirovalsya.pkl'),\n",
       " (154, 'gogol-utro-delovogo-cheloveka.pkl'),\n",
       " (155, 'ostrovsky-utro-molodogo-cheloveka.pkl'),\n",
       " (156, 'gogol-teatralnyi-razezd.pkl'),\n",
       " (157, 'griboyedov-molodye-suprugi.pkl'),\n",
       " (158, 'pisarev-lukavin.pkl'),\n",
       " (159, 'ozerov-dmitrij-donskoj.pkl'),\n",
       " (160, 'gogol-igroki.pkl'),\n",
       " (161, 'krylov-filomela.pkl'),\n",
       " (162, 'ostrovsky-nevolnicy.pkl'),\n",
       " (163, 'ostrovsky-staryj-drug-luchshe-novyh-dvuh.pkl'),\n",
       " (164, 'khmelnitsky-svetskiy-sluchay.pkl'),\n",
       " (165, 'khmelnitsky-vozdushnye-zamki.pkl'),\n",
       " (166, 'pushkin-skupoj-rytsar.pkl'),\n",
       " (167, 'kheraskov-venecianskaya-monahinya.pkl'),\n",
       " (168, 'blok-balaganchik.pkl'),\n",
       " (169, 'chekhov-ivanov.pkl'),\n",
       " (170, 'chekhov-na-bolshoi-doroge.pkl'),\n",
       " (171, 'bulgakov-ivan-vasilevich.pkl'),\n",
       " (172, 'ostrovsky-ne-ot-mira-sego.pkl'),\n",
       " (173, 'chekhov-svadba.pkl'),\n",
       " (174, 'tretyakov-protivogazy.pkl'),\n",
       " (175, 'turgenev-provintsialka.pkl'),\n",
       " (176, 'shakhovskoy-urok-koketkam.pkl'),\n",
       " (177, 'ostrovsky-vospitannica.pkl'),\n",
       " (178, 'afinogenov-mashenka.pkl'),\n",
       " (179, 'ekaterina-vtoraja-o-vremja.pkl'),\n",
       " (180, 'knyazhnin-hvastun.pkl'),\n",
       " (181, 'ostrovsky-ne-soshlis-harakterami.pkl'),\n",
       " (182, 'pisarev-poezdka-v-kronshtadt.pkl'),\n",
       " (183, 'tolstoy-vlast-tmy.pkl'),\n",
       " (184, 'ostrovsky-bogatye-nevesty.pkl'),\n",
       " (185, 'merezhkovsky-pavel-pervyj.pkl'),\n",
       " (186, 'belsky-skazanie-o-nevidimom-grade-kitezhe.pkl'),\n",
       " (187, 'gogol-tjazhba.pkl'),\n",
       " (188, 'ekaterina-vtoraja-iz-zhizni-rjurika.pkl'),\n",
       " (189, 'ostrovsky-neozhidannyj-sluchaj.pkl'),\n",
       " (190, 'bulgakov-beg.pkl'),\n",
       " (191, 'kheraskov-plamena.pkl'),\n",
       " (192, 'krylov-amerikantsy.pkl'),\n",
       " (193, 'lermontov-maskarad.pkl'),\n",
       " (194, 'plavilshchikov-ermak-pokoritel-sibiri.pkl'),\n",
       " (195, 'turgenev-gde-tonko-tam-i-rvetsja.pkl'),\n",
       " (196, 'knyazhnin-didona.pkl'),\n",
       " (197, 'krylov-modnaja-lavka.pkl'),\n",
       " (198, 'krylov-urok-dochkam.pkl'),\n",
       " (199, 'knyazhnin-chudaki.pkl'),\n",
       " (200, 'ostrovsky-tyazhelye-dni.pkl'),\n",
       " (201, 'tolstoy-tsar-boris.pkl'),\n",
       " (202, 'chekhov-noch-pered-sudom.pkl'),\n",
       " (203, 'kheraskov-osvobozhdennaja-moskva.pkl'),\n",
       " (204, 'chekhov-tatjana-repina.pkl'),\n",
       " (205, 'babel-marija.pkl'),\n",
       " (206, 'sumarokov-ssora-u-muzha-s-zhenoj.pkl'),\n",
       " (207, 'ostrovsky-prazdnichnyj-son-do-obeda.pkl'),\n",
       " (208, 'sumarokov-pustaja-ssora.pkl'),\n",
       " (209, 'sumarokov-sinav-i-truvor.pkl')]"
      ]
     },
     "execution_count": 116,
     "metadata": {},
     "output_type": "execute_result"
    }
   ],
   "source": [
    "list(zip(range(210), rudramas))"
   ]
  },
  {
   "cell_type": "code",
   "execution_count": 227,
   "metadata": {
    "scrolled": false
   },
   "outputs": [
    {
     "data": {
      "application/vnd.jupyter.widget-view+json": {
       "model_id": "3a86238a5e454a679a1b415ae7a325f4",
       "version_major": 2,
       "version_minor": 0
      },
      "text/plain": [
       "HBox(children=(FloatProgress(value=0.0, max=46.0), HTML(value='')))"
      ]
     },
     "metadata": {},
     "output_type": "display_data"
    },
    {
     "name": "stdout",
     "output_type": "stream",
     "text": [
      "\n",
      "Один/оба говорят о себе, своем положении/действиях -> \n",
      "Быт и деньги -> \n",
      "Длинные рассуждения на высокие темы -> \n",
      "Активное действие -> \n",
      "Длинные рассуждения на высокие темы -> \n",
      "Длинные рассуждения на высокие темы -> \n",
      "Рассуждения на общественные темы -> \n",
      "Длинные рассуждения о чувствах/религии/мифологии -> \n",
      "Комбинации из коротких вопросов и ответов -> \n",
      "Один/оба говорят о себе, своем положении/действиях -> \n",
      "Быстрый диалог с короткими эмоциональными фразами -> \n",
      "Высказывание различных мнений о людях -> \n",
      "Высказывание различных мнений о людях -> \n",
      "О движении/местонахождени -> \n",
      "О движении/местонахождени -> \n",
      "Длинные рассуждения о чувствах/религии/мифологии -> \n",
      "Длинные рассуждения о чувствах/религии/мифологии -> \n",
      "Длинные рассуждения о чувствах/религии/мифологии -> \n",
      "Рассуждения на общественные темы -> \n",
      "Быстрый диалог с короткими ответами -> \n",
      "Обмен информации, запрос на информацию (о знании) -> \n",
      "Один из персонажей говорит, а второй немного вмешивается в диалог -> \n",
      "Высказывание различных мнений о людях -> \n",
      "Кто-то говорит о себе -> \n",
      "Диалог, где один из персонажей говорит о себе -> \n",
      "Длинные рассуждения о чувствах/религии/мифологии -> \n",
      "Кто-то говорит о себе -> \n",
      "Разговор о прошлом/будущем/нынешнем разговоре -> \n",
      "Активное действие -> \n",
      "Обмен личными мнениями о ситуации -> \n",
      "Рассуждения на общественные темы -> \n",
      "Один из персонажей говорит, а второй немного вмешивается в диалог -> \n",
      "Один из персонажей говорит, а второй немного вмешивается в диалог -> \n",
      "Быстрый диалог с короткими ответами -> \n",
      "Один из персонажей говорит, а второй немного вмешивается в диалог -> \n",
      "Один из персонажей говорит, а второй немного вмешивается в диалог -> \n",
      "Рассуждения на общественные темы -> \n",
      "Рассуждения на общественные темы -> \n",
      "Обмен личными мнениями о ситуации -> \n",
      "Обмен личными мнениями о ситуации -> \n",
      "Комбинация из коротких вопросов и ответов -> \n",
      "Один из персонажей говорит, а второй немного вмешивается в диалог -> \n",
      "Комбинации из коротких вопросов и ответов -> \n",
      "\n",
      "\n",
      "Чужехват\n",
      "Мерзкие, негодные, плюгавые, скаредные! Долго ли мне вас учить? Я думаю, что мне от вас\n",
      "            до гробовой доски покою не будет!: \u001b[31mВысказывание о себе или других людях\u001b[0m\t\n",
      "\n",
      "\n",
      "Сострата\n",
      "Что такое сделалося?: \u001b[31mКороткий вопрос\u001b[0m\t\n",
      "\n",
      "\n",
      "Чужехват\n",
      "У Пасквина крест украли, а он жалуется да из дому вон хочет.: \u001b[31mМнение/действие\u001b[0m\t\n",
      "\n",
      "\n",
      "Сострата\n",
      "Кража-та, сударь, обыкновенное здесь ремесло, и кажется, можно уже вам привыкнуть к\n",
      "            этому здешних людей бездельству и поменьше гневаться.: \u001b[31mМнение о человеке/людях/группе лиц\u001b[0m\t\n",
      "\n",
      "\n",
      "Чужехват\n",
      "Не о том дело, что они крадут; пускай бы крали, не касаяся господскому и не у своих,\n",
      "            так бы в доме помаленьку прибавлялось; а у своего украсти, так это из кармана в карман\n",
      "            перекладывать да шум делать, а мне беспокойство. Пускай бы крали, кто без греха и кто\n",
      "            бабе не внук. А хотя бы по слабости что и у своих товарищей тихонько взять, да надобно\n",
      "            концы хоронити, чтобы и не подумали, что свой взял. Тому-то я их учу, да дурака хотя век\n",
      "            учи, так не научишь. А об этом говорю ли я, чтобы не крали. Вить они не на каторге; для\n",
      "            чего у них волю отнимать? Кража не великая вина, потому что она страсть общая слабости\n",
      "            человеческой. Мошна дело первое на свете: пуста мошна, пуста и голова. Давать ради\n",
      "            Христа спасительнее, нежели просить ради Христа. Честь да честь! Какая честь, коли\n",
      "            нечего есть? До чести ли тогда, когда брюхо пусто? Пуста мошна, пусто и брюхо.: \u001b[31mДлинное рассуждение (о высоких темах)\u001b[0m\t\n",
      "\n",
      "\n",
      "Сострата\n",
      "Изрядное нравоучение!: \u001b[31mЭмоциональное восклицание\u001b[0m\t\n",
      "\n",
      "\n",
      "Чужехват\n",
      "Конечно изрядное. Так лучше по твоему поступать нравоучению? Намнясь видел я, как\n",
      "            честной-то по-вашему и бесчестной, а по-моему, разумный и безумный принималися.\n",
      "            Бесчестной-ат, по-вашему, приехал, так ему стул, да еще в хорошеньком доме: \"Все ли в\n",
      "            добром здоровьи? Какова твоя хозяюшка? Детки? Что так запал: ни к нам не жалуешь, ни к\n",
      "            себе не зовешь?\" А все ведают то, что он чужим и неправедным разжился. А честного-то\n",
      "            человека детки пришли милостины просить, которых отец ездил до Китайчетова царства и был\n",
      "            во Камчатном государстве и об этом государстве написал повесть. Однако сказку-то его\n",
      "            читают, а детки-то его ходят по миру; а у дочек-то его крашенинные бостроки, да и те в\n",
      "            заплатах. Даром то, что отец их во Камчатном был государстве, и для того-то, что они в\n",
      "            крашенинном таскаются платье, называют их крашенинкиными.: \u001b[31mДлинное рассуждение (о высоких темах)\u001b[0m\t\n",
      "\n",
      "\n",
      "Сострата\n",
      "А ежели бы это дошло до двора, так может быти, чтоб таких людей дети по миру таскаться\n",
      "            и перестали.: \u001b[31mМнение о человеке/людях/группе лиц\u001b[0m\t\n",
      "\n",
      "\n",
      "Чужехват\n",
      "А когда у кого что свое есть, так ему нет нужды, знает ли о нем двор, или нет. Щей\n",
      "            горшок да сам большой; а горшок-ат равно варит, хотя купленный, хотя краденый.\n",
      "               Так-то, Нисанька! Да что ты задумалась?: \u001b[31mМнение о человеке/людях/группе лиц\u001b[0m\t\n",
      "\n",
      "\n",
      "Ниса\n",
      "Я о тебе, сударь, думаю.: \u001b[31mО действии\u001b[0m\t\n",
      "\n",
      "\n",
      "Чужехват\n",
      "Что такое?: \u001b[31mКороткий вопрос\u001b[0m\t\n",
      "\n",
      "\n",
      "Ниса\n",
      "Я, сударь, не смею этого выговорить.: \u001b[31mШутки/смех/обида\u001b[0m\t\n",
      "\n",
      "\n",
      "Чужехват\n",
      "Говори, нет ничего; брань на вороту не виснет.: \u001b[31mКороткая фраза/вопрос с отрицанием\u001b[0m\t\n",
      "\n",
      "\n",
      "Ниса\n",
      "Мне думается, что ты разбойник и что тебе быть повешену.: \u001b[31mМнение о собеседнике\u001b[0m\t\n",
      "\n",
      "\n",
      "Чужехват\n",
      "Туда и дорога. А что пожито сладко, так то мое, по пословице: что взято, то свято. А\n",
      "            эта присловица законная и в приказах наблюдалася ненарушимо, разве ныне по новому\n",
      "            уложеныо отставится.: \u001b[31mМнение о человеке/людях/группе лиц\u001b[0m\t\n",
      "\n",
      "\n",
      "Ниса\n",
      "А душа-то куда, во ад?: \u001b[31mВопрос территориальный \u001b[0m\t\n",
      "\n",
      "\n",
      "Чужехват\n",
      "На что заранее мучить себя; и тогда спастися можно, когда петлю накидывати станут. Да в\n",
      "            том я полно и винен ли, что плутую? Потому что без воли Божией ничего не делается, и не\n",
      "            спадет со главы человеческой волос без воли Божией; так я плутую по воле божией, по\n",
      "            пословице: что ежели бы не Бог, так бы кто мне помог.: \u001b[31mО себе\u001b[0m\t\n",
      "\n",
      "\n",
      "Сострата\n",
      "Бог плутам не помогает и дал человеку волю избирати доброе и худое, за одно обещая\n",
      "            воздаяние, а за другое грозя наказанием. А кто противу совести своей святой не\n",
      "            повинуется истине, так тот суетно уповает на милость божескую.: \u001b[31mЧувство/религия/мифология\u001b[0m\t\n",
      "\n",
      "\n",
      "Чужехват\n",
      "Святая истина! Что это у тебя за святая? Ее и во святцах нет, так мы ей не молимся. А\n",
      "            покаяние все грехи очищает. Покаюся часа за два до смерти, да в те же войду в царство\n",
      "            небесное ворота, в которые и вы; а что пожито послаще и жито, как хотелося, так то в\n",
      "            барышах.: \u001b[31mЧувство/религия/мифология\u001b[0m\t\n",
      "\n",
      "\n",
      "Сострата\n",
      "Что вам это сделалося, что вы так бесстыдны стали под старость? Уж и я знаю, что вы не\n",
      "            таковы были; а прежде сего все вас почитали добрым человеком, как я слышала. Ради чего\n",
      "            вы прежде притворялися и старалися добрым казаться человеком?: \u001b[31mВысказывание о себе или других людях\u001b[0m\t\n",
      "\n",
      "\n",
      "Чужехват\n",
      "Слыхала ли ты повесть о некоем попе римском?: \u001b[31mВопрос\u001b[0m\t\n",
      "\n",
      "\n",
      "Сострата\n",
      "Нет, сударь.: \u001b[31mКороткий ответ\u001b[0m\t\n",
      "\n",
      "\n",
      "Чужехват\n",
      "Ты, Нисанька, слыхала ли?: \u001b[31mО знании ;\u001b[0m\t\n",
      "\n",
      "\n",
      "Ниса\n",
      "Я, сударь, едаких повестей не слушаю.: \u001b[31mО себе\u001b[0m\t\n",
      "\n",
      "\n",
      "Чужехват\n",
      "Будешь же ты в раю.: \u001b[31mМнение о собеседнике\u001b[0m\t\n",
      "\n",
      "\n",
      "Ниса\n",
      "А для чего же не быть? Разве мое спасенье от того зависит?: \u001b[31mО себе\u001b[0m\t\n",
      "\n",
      "\n",
      "Чужехват\n",
      "Как же не от того; вить Бог грешника без попа простить не может, а вить и ты не без\n",
      "            греха-то таки. Ты же девушка молоденькая, так хотя не делом, ин мыслию согрешишь: един\n",
      "            Бог без греха, а мы все грешники.: \u001b[31mПрощание/просьба прощения/стыд\u001b[0m\t\n",
      "\n",
      "\n",
      "Ниса\n",
      "Все грешники, сударь, да не все бездельники.: \u001b[31mМнение о человеке/людях/группе лиц\u001b[0m\t\n",
      "\n",
      "\n",
      "Чужехват\n",
      "Все бездельники, от них же первый есмь аз.: \u001b[31mБыт/передвижения\u001b[0m\t\n",
      "\n",
      "\n",
      "Ниса\n",
      "Конечно ради того, чтобы тебе это слово чистосердечнее выговаривать.: \u001b[31mМолчание/разговор\u001b[0m\t\n",
      "\n",
      "\n",
      "Чужехват\n",
      "Так-таки, Нисанька. А повести о попах читай; они грехи прощают.: \u001b[31mПрощание/просьба прощения/стыд\u001b[0m\t\n",
      "\n",
      "\n",
      "Сострата\n",
      "Они прощают именем Божиим, а не своим; а они только свидетели.: \u001b[31mМнение о человеке/людях/группе лиц\u001b[0m\t\n",
      "\n",
      "\n",
      "Чужехват\n",
      "Так вот, Нисанька, не все ли мы бездельники? И сам Бог нам без свидетелей не верит.: \u001b[31mМнение о человеке/людях/группе лиц\u001b[0m\t\n",
      "\n",
      "\n",
      "Ниса\n",
      "Я, сударь, богословию не училась.: \u001b[31mКороткий ответ с отрицательной частицей\u001b[0m\t\n",
      "\n",
      "\n",
      "Чужехват\n",
      "Однако священников-то не презирай.: \u001b[31mКороткий ответ с отрицательной частицей\u001b[0m\t\n",
      "\n",
      "\n",
      "Ниса\n",
      "Я и так их не презираю.: \u001b[31mКороткий ответ с отрицательной частицей\u001b[0m\t\n",
      "\n",
      "\n",
      "Сострата\n",
      "Из чего вы это заключаете? К духовным добрый человек должен имети почтение, потому что\n",
      "            они научают нас добродетели и собою примеры показывают. А презренны из них только те,\n",
      "            которые этого недостойны имени.: \u001b[31mМнение о человеке/людях/группе лиц\u001b[0m\t\n",
      "\n",
      "\n",
      "Чужехват\n",
      "Что ты это говоришь? Духовные презренны?: \u001b[31mВопрос\u001b[0m\t\n",
      "\n",
      "\n",
      "Сострата\n",
      "Да, сударь, и не только духовные, и государи те презренны, которые этого титла\n",
      "            недостойны. Одни заключают нам пути ко временному благополучию, а другие к вечному. Одни\n",
      "            за малейшие слабости людей казнят, а другие проклинают и, разными образами отъемля\n",
      "            свободу, отягощают естество человеческое. А это мое толкование ни правосудным государям,\n",
      "            ни добронравным духовным не может быти противно.: \u001b[31mМнение о человеке/людях/группе лиц\u001b[0m\t\n",
      "\n",
      "\n",
      "Чужехват\n",
      "Вот коли бы я тебя не велел учить, так бы ты едакой наглости не имела и едакого бы\n",
      "            вздору не молола. Не о том дело: слыхала ли ты о попе-то римском?: \u001b[31mВысказывание о себе или других людях\u001b[0m\t\n",
      "\n",
      "\n",
      "Сострата\n",
      "Я вам уже сказывала, что не слыхала.: \u001b[31mМолчание/разговор\u001b[0m\t\n",
      "\n",
      "\n",
      "Чужехват\n",
      "В римском царстве у соборной церкви был поп, здоровый человек, а ходил завсегда\n",
      "            скорчася, чтобы смиреннее казался и чтобы за такое смирение сделали его поскорее\n",
      "            ключарем, потому что это место там доходно, а молодых людей туда не избирают, не ведаю,\n",
      "            ради чего. А как его только выбрали, так он тотчас и разогнулся и стал так бодр, как ты,\n",
      "            говоря причетникам церковным, которые его спрашивали, что ему вдруг за причина дала\n",
      "            здоровье: я ради того ходил нагнувшися, что искал тогда ключа к церкви; а теперь на что\n",
      "            мне корчиться и в землю смотреть; ключ этот я уже сыскал.: \u001b[31mДлинная фраза про общество/страну/общественное положение/работу/быт\u001b[0m\t\n",
      "\n",
      "\n",
      "Сострата\n",
      "Это рассказывают о Сиксте Пятом.: \u001b[31mБыт/передвижения\u001b[0m\t\n",
      "\n",
      "\n",
      "Чужехват\n",
      "В том нет нужды, о пятом или о десятом.: \u001b[31mКороткий ответ с отрицательной частицей\u001b[0m\t\n",
      "\n",
      "\n",
      "Сострата\n",
      "Да к чему вы эту историю привязываете?: \u001b[31mВопрос\u001b[0m\t\n",
      "\n",
      "\n",
      "Чужехват\n",
      "К тому-то, что я ради того лицемерил прежде, чтобы мне верили и не мешали разживаться.\n",
      "            А теперь я уже доволен, так на что мне честное имя?: \u001b[31mО себе\u001b[0m\t\n",
      "\n",
      "\n"
     ]
    }
   ],
   "source": [
    "parsed_text, _, huge_clusters, ngrams_text = final_cluster_text(rudramas_texts[2][3], \n",
    "                                                                clust_model_kmeans,\n",
    "                                                                cluster_seq_emb,\n",
    "                                                                ngram_kmeans,\n",
    "                                                                cluster_names,\n",
    "                                                                sent_to_vector_dict={})\n",
    "\n",
    "for ngram_name in [ngram_clusters_names[cl] for cl in huge_clusters]:\n",
    "    print('{} -> '.format(ngram_name))\n",
    "print('\\n')\n",
    "i = -2\n",
    "for person, rep in parsed_text:\n",
    "    print(person)\n",
    "    for phrase in rep:\n",
    "        huge_clusters_for_this_phrase = set([ngram_clusters_names[cl] for cl in huge_clusters[max(0, i): i+3]])\n",
    "#         print(phrase + ': ' + colored(rep[phrase], 'red') + '\\t' + colored(huge_clusters_for_this_phrase, 'green'))\n",
    "        print(phrase + ': ' + colored(rep[phrase], 'red') + '\\t')\n",
    "    i += 1\n",
    "    print('\\n')"
   ]
  },
  {
   "cell_type": "code",
   "execution_count": 25,
   "metadata": {},
   "outputs": [
    {
     "data": {
      "application/vnd.jupyter.widget-view+json": {
       "model_id": "e17e649502d44f8688156f80e98a3644",
       "version_major": 2,
       "version_minor": 0
      },
      "text/plain": [
       "HBox(children=(FloatProgress(value=0.0, max=210.0), HTML(value='')))"
      ]
     },
     "metadata": {},
     "output_type": "display_data"
    },
    {
     "name": "stdout",
     "output_type": "stream",
     "text": [
      "\n"
     ]
    }
   ],
   "source": [
    "rudramas = [f for f in listdir('drama/') if isfile(join('drama/', f))]\n",
    "rudramas_texts = []\n",
    "\n",
    "\n",
    "for drama in tqdm(rudramas):\n",
    "    with open(join('drama/', drama), 'rb') as f:\n",
    "        rudramas_texts.append(pickle.load(f))"
   ]
  },
  {
   "cell_type": "code",
   "execution_count": 64,
   "metadata": {},
   "outputs": [
    {
     "data": {
      "text/plain": [
       "('Der Beerdigungsunternehmer',\n",
       " 'Aha, da steht einer. Da auf dem Ponton. Sieht aus, als ob er Uniform an hat. Ja, einen\\n            alten Soldatenmantel hat er an. Mütze hat er nicht auf. Seine Haare sind kurz wie eine\\n            Bürste. Er steht ziemlich dicht am Wasser. Beinahe zu dicht am Wasser steht er da. Das\\n            ist verdächtig. Die abends im Dunkeln am Wasser stehn, das sind entweder Liebespaare\\n            oder Dichter. Oder das ist einer von der großen grauen Zahl, die keine Lust mehr haben.\\n            Die den Laden hinwerfen und nicht mehr mitmachen. Scheint auch so einer zu sein von\\n            denen, der da auf dem Ponton. Steht gefährlich dicht am Wasser. Steht ziemlich allein\\n            da. Ein Liebespaar kann es nicht sein, das sind immer zwei. Ein Dichter ist es auch\\n            nicht. Dichter haben längere Haare. Aber dieser hier auf dem Ponton hat eine Bürste auf\\n            dem Kopf. Merkwürdiger Fall, der da auf dem Ponton, ganz merkwürdig.  Rums! Da! Weg\\n            ist er. Reingesprungen. Stand zu dicht am Wasser. Hat ihn wohl untergekriegt. Und jetzt\\n            ist er weg. Rums. Ein Mensch stirbt. Und? Nichts weiter. Der Wind weht weiter. Die Elbe\\n            quasselt weiter. Die Straßenbahn klingelt weiter. Die Huren liegen weiter weiß und weich\\n            in den Fenstern. Herr Kramer dreht sich auf die andere Seite und schnarcht weiter. Und\\n            keine – keine Uhr bleibt stehen. Rums! Ein Mensch ist gestorben. Und? Nichts weiter. Nur\\n            ein paar kreisförmige Wellen beweisen, daß er mal da war. Aber auch die haben sich\\n            schnell wieder beruhigt. Und wenn die sich verlaufen haben, dann ist auch er vergessen,\\n            verlaufen, spurlos,  als ob er nie gewesen wäre. Weiter nichts. Hallo, da\\n            weint einer. Merkwürdig. Ein alter Mann steht da und weint. Guten Abend.')"
      ]
     },
     "execution_count": 64,
     "metadata": {},
     "output_type": "execute_result"
    }
   ],
   "source": [
    "draussen[0][0]"
   ]
  },
  {
   "cell_type": "code",
   "execution_count": 123,
   "metadata": {},
   "outputs": [
    {
     "name": "stdout",
     "output_type": "stream",
     "text": [
      "Here is a place reserved, sir.\\\\\n",
      "\\indent\n",
      "Where?\\\\\n",
      "\\indent\n",
      "Here, my good lord. What is't that moves your highness?\\\\\n",
      "\\indent\n"
     ]
    }
   ],
   "source": [
    "for r in huge_clusters_to_text_en[49][1]:\n",
    "    print(r+'\\\\\\\\\\n\\\\indent')"
   ]
  },
  {
   "cell_type": "code",
   "execution_count": 78,
   "metadata": {
    "scrolled": true
   },
   "outputs": [
    {
     "data": {
      "application/vnd.jupyter.widget-view+json": {
       "model_id": "37164be28a3b403cb2b07f4c81ce07cb",
       "version_major": 2,
       "version_minor": 0
      },
      "text/plain": [
       "HBox(children=(FloatProgress(value=0.0, max=3.0), HTML(value='')))"
      ]
     },
     "metadata": {},
     "output_type": "display_data"
    },
    {
     "name": "stdout",
     "output_type": "stream",
     "text": [
      "\n"
     ]
    },
    {
     "data": {
      "application/vnd.jupyter.widget-view+json": {
       "model_id": "12823e25b55246f595c2da5b39cd8286",
       "version_major": 2,
       "version_minor": 0
      },
      "text/plain": [
       "HBox(children=(FloatProgress(value=0.0, max=2.0), HTML(value='')))"
      ]
     },
     "metadata": {},
     "output_type": "display_data"
    },
    {
     "name": "stdout",
     "output_type": "stream",
     "text": [
      "\n"
     ]
    },
    {
     "data": {
      "application/vnd.jupyter.widget-view+json": {
       "model_id": "d14bf896585f43ba89138b54a83df706",
       "version_major": 2,
       "version_minor": 0
      },
      "text/plain": [
       "HBox(children=(FloatProgress(value=0.0, max=2.0), HTML(value='')))"
      ]
     },
     "metadata": {},
     "output_type": "display_data"
    },
    {
     "name": "stdout",
     "output_type": "stream",
     "text": [
      "\n"
     ]
    },
    {
     "data": {
      "application/vnd.jupyter.widget-view+json": {
       "model_id": "40773057610340fcb345a05477e50b7b",
       "version_major": 2,
       "version_minor": 0
      },
      "text/plain": [
       "HBox(children=(FloatProgress(value=0.0, max=6.0), HTML(value='')))"
      ]
     },
     "metadata": {},
     "output_type": "display_data"
    },
    {
     "name": "stdout",
     "output_type": "stream",
     "text": [
      "\n"
     ]
    },
    {
     "data": {
      "application/vnd.jupyter.widget-view+json": {
       "model_id": "53b14827a9294d1398cfaaa52ac9ee14",
       "version_major": 2,
       "version_minor": 0
      },
      "text/plain": [
       "HBox(children=(FloatProgress(value=0.0, max=10.0), HTML(value='')))"
      ]
     },
     "metadata": {},
     "output_type": "display_data"
    },
    {
     "name": "stdout",
     "output_type": "stream",
     "text": [
      "\n"
     ]
    },
    {
     "data": {
      "application/vnd.jupyter.widget-view+json": {
       "model_id": "4d2d981243414589902c105dae8d868d",
       "version_major": 2,
       "version_minor": 0
      },
      "text/plain": [
       "HBox(children=(FloatProgress(value=0.0, max=5.0), HTML(value='')))"
      ]
     },
     "metadata": {},
     "output_type": "display_data"
    },
    {
     "name": "stdout",
     "output_type": "stream",
     "text": [
      "\n"
     ]
    },
    {
     "data": {
      "application/vnd.jupyter.widget-view+json": {
       "model_id": "60d7e2fd6dc24e86b55fc4d07f4de865",
       "version_major": 2,
       "version_minor": 0
      },
      "text/plain": [
       "HBox(children=(FloatProgress(value=0.0, max=20.0), HTML(value='')))"
      ]
     },
     "metadata": {},
     "output_type": "display_data"
    },
    {
     "name": "stdout",
     "output_type": "stream",
     "text": [
      "\n"
     ]
    }
   ],
   "source": [
    "clusters_to_texts_some = {}\n",
    "huge_clusters_to_text_some = {}\n",
    "\n",
    "# en - macbeth\n",
    "# es - arrastrarse\n",
    "# de - [draussen]\n",
    "\n",
    "for act in [draussen]:\n",
    "    for scene in act:\n",
    "        try:\n",
    "            parsed_text, clusters, huge_clusters, ngrams_text = final_cluster_text(scene, \n",
    "                                                                                   clust_model_kmeans,\n",
    "                                                                                   cluster_seq_emb,\n",
    "                                                                                   ngram_kmeans,\n",
    "                                                                                   cluster_names,\n",
    "                                                                                   sent_to_vector_dict={})\n",
    "            for clust, rep in list(zip(clusters, [list(p[1])[0] for p in parsed_text])):\n",
    "                if clust in clusters_to_texts_some:\n",
    "                    clusters_to_texts_some[clust] = clusters_to_texts_some[clust] + [rep]\n",
    "                else:\n",
    "                    clusters_to_texts_some[clust] = [rep]\n",
    "                    \n",
    "            for clust, reps in list(zip(huge_clusters, ngrams_text)):\n",
    "                if clust in huge_clusters_to_text_some:\n",
    "                    huge_clusters_to_text_some[clust] = huge_clusters_to_text_some[clust] + [reps]\n",
    "                else:\n",
    "                    huge_clusters_to_text_some[clust] = [reps]\n",
    "        except:\n",
    "            pass\n",
    "        \n",
    "clusters_to_texts_de = clusters_to_texts_some\n",
    "huge_clusters_to_text_de = huge_clusters_to_text_some"
   ]
  },
  {
   "cell_type": "code",
   "execution_count": 81,
   "metadata": {
    "scrolled": true
   },
   "outputs": [
    {
     "data": {
      "application/vnd.jupyter.widget-view+json": {
       "model_id": "5330155037244921ad8e5332ce84300e",
       "version_major": 2,
       "version_minor": 0
      },
      "text/plain": [
       "HBox(children=(FloatProgress(value=0.0, max=1.0), HTML(value='')))"
      ]
     },
     "metadata": {},
     "output_type": "display_data"
    },
    {
     "name": "stdout",
     "output_type": "stream",
     "text": [
      "\n"
     ]
    },
    {
     "data": {
      "application/vnd.jupyter.widget-view+json": {
       "model_id": "95a8a4f4cd114fcd877e6b113ca7c527",
       "version_major": 2,
       "version_minor": 0
      },
      "text/plain": [
       "HBox(children=(FloatProgress(value=0.0, max=11.0), HTML(value='')))"
      ]
     },
     "metadata": {},
     "output_type": "display_data"
    },
    {
     "name": "stdout",
     "output_type": "stream",
     "text": [
      "\n"
     ]
    },
    {
     "data": {
      "application/vnd.jupyter.widget-view+json": {
       "model_id": "8fcb37567c9848dd93dbbdc4774de58a",
       "version_major": 2,
       "version_minor": 0
      },
      "text/plain": [
       "HBox(children=(FloatProgress(value=0.0, max=1.0), HTML(value='')))"
      ]
     },
     "metadata": {},
     "output_type": "display_data"
    },
    {
     "name": "stdout",
     "output_type": "stream",
     "text": [
      "\n"
     ]
    },
    {
     "data": {
      "application/vnd.jupyter.widget-view+json": {
       "model_id": "cf00710b831740f29fd1867d496dbfdf",
       "version_major": 2,
       "version_minor": 0
      },
      "text/plain": [
       "HBox(children=(FloatProgress(value=0.0, max=24.0), HTML(value='')))"
      ]
     },
     "metadata": {},
     "output_type": "display_data"
    },
    {
     "name": "stdout",
     "output_type": "stream",
     "text": [
      "\n"
     ]
    },
    {
     "data": {
      "application/vnd.jupyter.widget-view+json": {
       "model_id": "72aec66b8d2344c981dd204ba511bec7",
       "version_major": 2,
       "version_minor": 0
      },
      "text/plain": [
       "HBox(children=(FloatProgress(value=0.0, max=1.0), HTML(value='')))"
      ]
     },
     "metadata": {},
     "output_type": "display_data"
    },
    {
     "name": "stdout",
     "output_type": "stream",
     "text": [
      "\n"
     ]
    },
    {
     "data": {
      "application/vnd.jupyter.widget-view+json": {
       "model_id": "39dd96d5bab64d2a9144f27deff7b9b1",
       "version_major": 2,
       "version_minor": 0
      },
      "text/plain": [
       "HBox(children=(FloatProgress(value=0.0, max=17.0), HTML(value='')))"
      ]
     },
     "metadata": {},
     "output_type": "display_data"
    },
    {
     "name": "stdout",
     "output_type": "stream",
     "text": [
      "\n"
     ]
    },
    {
     "data": {
      "application/vnd.jupyter.widget-view+json": {
       "model_id": "28525375e8ba4960b81647364c75da7b",
       "version_major": 2,
       "version_minor": 0
      },
      "text/plain": [
       "HBox(children=(FloatProgress(value=0.0, max=1.0), HTML(value='')))"
      ]
     },
     "metadata": {},
     "output_type": "display_data"
    },
    {
     "name": "stdout",
     "output_type": "stream",
     "text": [
      "\n"
     ]
    },
    {
     "data": {
      "application/vnd.jupyter.widget-view+json": {
       "model_id": "922469c8c2644c50a0fbc9091a2b5d1b",
       "version_major": 2,
       "version_minor": 0
      },
      "text/plain": [
       "HBox(children=(FloatProgress(value=0.0, max=12.0), HTML(value='')))"
      ]
     },
     "metadata": {},
     "output_type": "display_data"
    },
    {
     "name": "stdout",
     "output_type": "stream",
     "text": [
      "\n"
     ]
    },
    {
     "data": {
      "application/vnd.jupyter.widget-view+json": {
       "model_id": "d060cdfedd76477cad7398f1b47f8475",
       "version_major": 2,
       "version_minor": 0
      },
      "text/plain": [
       "HBox(children=(FloatProgress(value=0.0, max=1.0), HTML(value='')))"
      ]
     },
     "metadata": {},
     "output_type": "display_data"
    },
    {
     "name": "stdout",
     "output_type": "stream",
     "text": [
      "\n"
     ]
    },
    {
     "data": {
      "application/vnd.jupyter.widget-view+json": {
       "model_id": "26c972b9459a4613ae21fa025c93a6e7",
       "version_major": 2,
       "version_minor": 0
      },
      "text/plain": [
       "HBox(children=(FloatProgress(value=0.0, max=1.0), HTML(value='')))"
      ]
     },
     "metadata": {},
     "output_type": "display_data"
    },
    {
     "name": "stdout",
     "output_type": "stream",
     "text": [
      "\n"
     ]
    },
    {
     "data": {
      "application/vnd.jupyter.widget-view+json": {
       "model_id": "d99cd2dcac6f4ef7bca08f9c7962dfc4",
       "version_major": 2,
       "version_minor": 0
      },
      "text/plain": [
       "HBox(children=(FloatProgress(value=0.0, max=2.0), HTML(value='')))"
      ]
     },
     "metadata": {},
     "output_type": "display_data"
    },
    {
     "name": "stdout",
     "output_type": "stream",
     "text": [
      "\n"
     ]
    },
    {
     "data": {
      "application/vnd.jupyter.widget-view+json": {
       "model_id": "8003b6fb0b014693a95e5a8de0145ef3",
       "version_major": 2,
       "version_minor": 0
      },
      "text/plain": [
       "HBox(children=(FloatProgress(value=0.0, max=23.0), HTML(value='')))"
      ]
     },
     "metadata": {},
     "output_type": "display_data"
    },
    {
     "name": "stdout",
     "output_type": "stream",
     "text": [
      "\n"
     ]
    },
    {
     "data": {
      "application/vnd.jupyter.widget-view+json": {
       "model_id": "927174705e574722802f6c54961a31e3",
       "version_major": 2,
       "version_minor": 0
      },
      "text/plain": [
       "HBox(children=(FloatProgress(value=0.0, max=26.0), HTML(value='')))"
      ]
     },
     "metadata": {},
     "output_type": "display_data"
    },
    {
     "name": "stdout",
     "output_type": "stream",
     "text": [
      "\n"
     ]
    },
    {
     "data": {
      "application/vnd.jupyter.widget-view+json": {
       "model_id": "c23b4322697c4dc6acc6604f799f379c",
       "version_major": 2,
       "version_minor": 0
      },
      "text/plain": [
       "HBox(children=(FloatProgress(value=0.0, max=3.0), HTML(value='')))"
      ]
     },
     "metadata": {},
     "output_type": "display_data"
    },
    {
     "name": "stdout",
     "output_type": "stream",
     "text": [
      "\n"
     ]
    },
    {
     "data": {
      "application/vnd.jupyter.widget-view+json": {
       "model_id": "13fda3cbc1af4eacb73a5c0bf183eabe",
       "version_major": 2,
       "version_minor": 0
      },
      "text/plain": [
       "HBox(children=(FloatProgress(value=0.0, max=7.0), HTML(value='')))"
      ]
     },
     "metadata": {},
     "output_type": "display_data"
    },
    {
     "name": "stdout",
     "output_type": "stream",
     "text": [
      "\n"
     ]
    },
    {
     "data": {
      "application/vnd.jupyter.widget-view+json": {
       "model_id": "ea02b9be4130498dbc4ab8e63c53cbd1",
       "version_major": 2,
       "version_minor": 0
      },
      "text/plain": [
       "HBox(children=(FloatProgress(value=0.0, max=22.0), HTML(value='')))"
      ]
     },
     "metadata": {},
     "output_type": "display_data"
    },
    {
     "name": "stdout",
     "output_type": "stream",
     "text": [
      "\n"
     ]
    },
    {
     "data": {
      "application/vnd.jupyter.widget-view+json": {
       "model_id": "8a820167989c485b9daabf53bbdb09d2",
       "version_major": 2,
       "version_minor": 0
      },
      "text/plain": [
       "HBox(children=(FloatProgress(value=0.0, max=6.0), HTML(value='')))"
      ]
     },
     "metadata": {},
     "output_type": "display_data"
    },
    {
     "name": "stdout",
     "output_type": "stream",
     "text": [
      "\n"
     ]
    },
    {
     "data": {
      "application/vnd.jupyter.widget-view+json": {
       "model_id": "edf51bc921d7433690513b6d3c6f7284",
       "version_major": 2,
       "version_minor": 0
      },
      "text/plain": [
       "HBox(children=(FloatProgress(value=0.0, max=1.0), HTML(value='')))"
      ]
     },
     "metadata": {},
     "output_type": "display_data"
    },
    {
     "name": "stdout",
     "output_type": "stream",
     "text": [
      "\n"
     ]
    },
    {
     "data": {
      "application/vnd.jupyter.widget-view+json": {
       "model_id": "ae226edbc1c74f36bb2673b3db18a2e6",
       "version_major": 2,
       "version_minor": 0
      },
      "text/plain": [
       "HBox(children=(FloatProgress(value=0.0, max=19.0), HTML(value='')))"
      ]
     },
     "metadata": {},
     "output_type": "display_data"
    },
    {
     "name": "stdout",
     "output_type": "stream",
     "text": [
      "\n"
     ]
    },
    {
     "data": {
      "application/vnd.jupyter.widget-view+json": {
       "model_id": "8d9e0b545526403cb6820a9441033e83",
       "version_major": 2,
       "version_minor": 0
      },
      "text/plain": [
       "HBox(children=(FloatProgress(value=0.0, max=8.0), HTML(value='')))"
      ]
     },
     "metadata": {},
     "output_type": "display_data"
    },
    {
     "name": "stdout",
     "output_type": "stream",
     "text": [
      "\n"
     ]
    },
    {
     "data": {
      "application/vnd.jupyter.widget-view+json": {
       "model_id": "ec7eb9d4e783484682689f81f30e39f8",
       "version_major": 2,
       "version_minor": 0
      },
      "text/plain": [
       "HBox(children=(FloatProgress(value=0.0, max=1.0), HTML(value='')))"
      ]
     },
     "metadata": {},
     "output_type": "display_data"
    },
    {
     "name": "stdout",
     "output_type": "stream",
     "text": [
      "\n"
     ]
    },
    {
     "data": {
      "application/vnd.jupyter.widget-view+json": {
       "model_id": "a6e8d44822f24a6c9d1065d6da0dbfb9",
       "version_major": 2,
       "version_minor": 0
      },
      "text/plain": [
       "HBox(children=(FloatProgress(value=0.0, max=51.0), HTML(value='')))"
      ]
     },
     "metadata": {},
     "output_type": "display_data"
    },
    {
     "name": "stdout",
     "output_type": "stream",
     "text": [
      "\n"
     ]
    },
    {
     "data": {
      "application/vnd.jupyter.widget-view+json": {
       "model_id": "8ea06ed94a9a4ae884c5b463d72901f4",
       "version_major": 2,
       "version_minor": 0
      },
      "text/plain": [
       "HBox(children=(FloatProgress(value=0.0, max=6.0), HTML(value='')))"
      ]
     },
     "metadata": {},
     "output_type": "display_data"
    },
    {
     "name": "stdout",
     "output_type": "stream",
     "text": [
      "\n"
     ]
    },
    {
     "data": {
      "application/vnd.jupyter.widget-view+json": {
       "model_id": "76864bd77ed744fd91be60c047f261ba",
       "version_major": 2,
       "version_minor": 0
      },
      "text/plain": [
       "HBox(children=(FloatProgress(value=0.0, max=7.0), HTML(value='')))"
      ]
     },
     "metadata": {},
     "output_type": "display_data"
    },
    {
     "name": "stdout",
     "output_type": "stream",
     "text": [
      "\n"
     ]
    },
    {
     "data": {
      "application/vnd.jupyter.widget-view+json": {
       "model_id": "868a62bc768e41f6a4a8bac165355415",
       "version_major": 2,
       "version_minor": 0
      },
      "text/plain": [
       "HBox(children=(FloatProgress(value=0.0, max=27.0), HTML(value='')))"
      ]
     },
     "metadata": {},
     "output_type": "display_data"
    },
    {
     "name": "stdout",
     "output_type": "stream",
     "text": [
      "\n"
     ]
    },
    {
     "data": {
      "application/vnd.jupyter.widget-view+json": {
       "model_id": "e214b9f3c147480fbe0c26120e49257d",
       "version_major": 2,
       "version_minor": 0
      },
      "text/plain": [
       "HBox(children=(FloatProgress(value=0.0, max=5.0), HTML(value='')))"
      ]
     },
     "metadata": {},
     "output_type": "display_data"
    },
    {
     "name": "stdout",
     "output_type": "stream",
     "text": [
      "\n"
     ]
    },
    {
     "data": {
      "application/vnd.jupyter.widget-view+json": {
       "model_id": "853e97424f4a4f14a27ff9aaab87afd3",
       "version_major": 2,
       "version_minor": 0
      },
      "text/plain": [
       "HBox(children=(FloatProgress(value=0.0, max=10.0), HTML(value='')))"
      ]
     },
     "metadata": {},
     "output_type": "display_data"
    },
    {
     "name": "stdout",
     "output_type": "stream",
     "text": [
      "\n"
     ]
    },
    {
     "data": {
      "application/vnd.jupyter.widget-view+json": {
       "model_id": "615ebd8edd1c482aa92c92dbcb724ef1",
       "version_major": 2,
       "version_minor": 0
      },
      "text/plain": [
       "HBox(children=(FloatProgress(value=0.0, max=1.0), HTML(value='')))"
      ]
     },
     "metadata": {},
     "output_type": "display_data"
    },
    {
     "name": "stdout",
     "output_type": "stream",
     "text": [
      "\n"
     ]
    },
    {
     "data": {
      "application/vnd.jupyter.widget-view+json": {
       "model_id": "01cf140d879f4c89ba4df601352b2900",
       "version_major": 2,
       "version_minor": 0
      },
      "text/plain": [
       "HBox(children=(FloatProgress(value=0.0, max=33.0), HTML(value='')))"
      ]
     },
     "metadata": {},
     "output_type": "display_data"
    },
    {
     "name": "stdout",
     "output_type": "stream",
     "text": [
      "\n"
     ]
    },
    {
     "data": {
      "application/vnd.jupyter.widget-view+json": {
       "model_id": "d9c5433a5b774f72adeabf58cac7aad7",
       "version_major": 2,
       "version_minor": 0
      },
      "text/plain": [
       "HBox(children=(FloatProgress(value=0.0, max=14.0), HTML(value='')))"
      ]
     },
     "metadata": {},
     "output_type": "display_data"
    },
    {
     "name": "stdout",
     "output_type": "stream",
     "text": [
      "\n"
     ]
    },
    {
     "data": {
      "application/vnd.jupyter.widget-view+json": {
       "model_id": "0ffefb96b3c84a26b2b7bf31c1b36ba1",
       "version_major": 2,
       "version_minor": 0
      },
      "text/plain": [
       "HBox(children=(FloatProgress(value=0.0, max=3.0), HTML(value='')))"
      ]
     },
     "metadata": {},
     "output_type": "display_data"
    },
    {
     "name": "stdout",
     "output_type": "stream",
     "text": [
      "\n"
     ]
    },
    {
     "data": {
      "application/vnd.jupyter.widget-view+json": {
       "model_id": "06a8e12af791427685e5698e14494600",
       "version_major": 2,
       "version_minor": 0
      },
      "text/plain": [
       "HBox(children=(FloatProgress(value=0.0, max=6.0), HTML(value='')))"
      ]
     },
     "metadata": {},
     "output_type": "display_data"
    },
    {
     "name": "stdout",
     "output_type": "stream",
     "text": [
      "\n"
     ]
    },
    {
     "data": {
      "application/vnd.jupyter.widget-view+json": {
       "model_id": "ed58147f90984ca0a210747b68e4437f",
       "version_major": 2,
       "version_minor": 0
      },
      "text/plain": [
       "HBox(children=(FloatProgress(value=0.0, max=9.0), HTML(value='')))"
      ]
     },
     "metadata": {},
     "output_type": "display_data"
    },
    {
     "name": "stdout",
     "output_type": "stream",
     "text": [
      "\n"
     ]
    },
    {
     "data": {
      "application/vnd.jupyter.widget-view+json": {
       "model_id": "930ce9c5ee1f4fb6acfd615cc8b977cf",
       "version_major": 2,
       "version_minor": 0
      },
      "text/plain": [
       "HBox(children=(FloatProgress(value=0.0, max=18.0), HTML(value='')))"
      ]
     },
     "metadata": {},
     "output_type": "display_data"
    },
    {
     "name": "stdout",
     "output_type": "stream",
     "text": [
      "\n"
     ]
    },
    {
     "data": {
      "application/vnd.jupyter.widget-view+json": {
       "model_id": "e12b1ec3b95f45c391c9ac1b45822542",
       "version_major": 2,
       "version_minor": 0
      },
      "text/plain": [
       "HBox(children=(FloatProgress(value=0.0, max=223.0), HTML(value='')))"
      ]
     },
     "metadata": {},
     "output_type": "display_data"
    },
    {
     "name": "stdout",
     "output_type": "stream",
     "text": [
      "\n"
     ]
    },
    {
     "data": {
      "application/vnd.jupyter.widget-view+json": {
       "model_id": "fa2920da8d294ff6b6881464742e33ae",
       "version_major": 2,
       "version_minor": 0
      },
      "text/plain": [
       "HBox(children=(FloatProgress(value=0.0, max=224.0), HTML(value='')))"
      ]
     },
     "metadata": {},
     "output_type": "display_data"
    },
    {
     "name": "stdout",
     "output_type": "stream",
     "text": [
      "\n"
     ]
    },
    {
     "data": {
      "application/vnd.jupyter.widget-view+json": {
       "model_id": "7e35f90e563c43e3918649d4db8e8eaa",
       "version_major": 2,
       "version_minor": 0
      },
      "text/plain": [
       "HBox(children=(FloatProgress(value=0.0, max=132.0), HTML(value='')))"
      ]
     },
     "metadata": {},
     "output_type": "display_data"
    },
    {
     "name": "stdout",
     "output_type": "stream",
     "text": [
      "\n"
     ]
    },
    {
     "data": {
      "application/vnd.jupyter.widget-view+json": {
       "model_id": "0e28c8a0871f4830980ce29c2104e082",
       "version_major": 2,
       "version_minor": 0
      },
      "text/plain": [
       "HBox(children=(FloatProgress(value=0.0, max=179.0), HTML(value='')))"
      ]
     },
     "metadata": {},
     "output_type": "display_data"
    },
    {
     "name": "stdout",
     "output_type": "stream",
     "text": [
      "\n"
     ]
    },
    {
     "data": {
      "application/vnd.jupyter.widget-view+json": {
       "model_id": "df50523bd3ab46d1b3ee58baa92770a6",
       "version_major": 2,
       "version_minor": 0
      },
      "text/plain": [
       "HBox(children=(FloatProgress(value=0.0, max=7.0), HTML(value='')))"
      ]
     },
     "metadata": {},
     "output_type": "display_data"
    },
    {
     "name": "stdout",
     "output_type": "stream",
     "text": [
      "\n"
     ]
    },
    {
     "data": {
      "application/vnd.jupyter.widget-view+json": {
       "model_id": "218d270f463d42dab96f5a0fb89e3f6c",
       "version_major": 2,
       "version_minor": 0
      },
      "text/plain": [
       "HBox(children=(FloatProgress(value=0.0, max=27.0), HTML(value='')))"
      ]
     },
     "metadata": {},
     "output_type": "display_data"
    },
    {
     "name": "stdout",
     "output_type": "stream",
     "text": [
      "\n"
     ]
    },
    {
     "data": {
      "application/vnd.jupyter.widget-view+json": {
       "model_id": "b6c1f690eab24fd5b0bc27c2212fcd6d",
       "version_major": 2,
       "version_minor": 0
      },
      "text/plain": [
       "HBox(children=(FloatProgress(value=0.0, max=8.0), HTML(value='')))"
      ]
     },
     "metadata": {},
     "output_type": "display_data"
    },
    {
     "name": "stdout",
     "output_type": "stream",
     "text": [
      "\n"
     ]
    },
    {
     "data": {
      "application/vnd.jupyter.widget-view+json": {
       "model_id": "b8e1d45407ac4325b37c96fbd6115094",
       "version_major": 2,
       "version_minor": 0
      },
      "text/plain": [
       "HBox(children=(FloatProgress(value=0.0, max=30.0), HTML(value='')))"
      ]
     },
     "metadata": {},
     "output_type": "display_data"
    },
    {
     "name": "stdout",
     "output_type": "stream",
     "text": [
      "\n"
     ]
    },
    {
     "data": {
      "application/vnd.jupyter.widget-view+json": {
       "model_id": "de3f155aa69e40efadfb467fece00036",
       "version_major": 2,
       "version_minor": 0
      },
      "text/plain": [
       "HBox(children=(FloatProgress(value=0.0, max=17.0), HTML(value='')))"
      ]
     },
     "metadata": {},
     "output_type": "display_data"
    },
    {
     "name": "stdout",
     "output_type": "stream",
     "text": [
      "\n"
     ]
    },
    {
     "data": {
      "application/vnd.jupyter.widget-view+json": {
       "model_id": "6d9712b25a35463da9aa1dc955527803",
       "version_major": 2,
       "version_minor": 0
      },
      "text/plain": [
       "HBox(children=(FloatProgress(value=0.0, max=1.0), HTML(value='')))"
      ]
     },
     "metadata": {},
     "output_type": "display_data"
    },
    {
     "name": "stdout",
     "output_type": "stream",
     "text": [
      "\n"
     ]
    },
    {
     "data": {
      "application/vnd.jupyter.widget-view+json": {
       "model_id": "1c96c72c81f74c3f808a12a0c776b9dd",
       "version_major": 2,
       "version_minor": 0
      },
      "text/plain": [
       "HBox(children=(FloatProgress(value=0.0, max=25.0), HTML(value='')))"
      ]
     },
     "metadata": {},
     "output_type": "display_data"
    },
    {
     "name": "stdout",
     "output_type": "stream",
     "text": [
      "\n"
     ]
    },
    {
     "data": {
      "application/vnd.jupyter.widget-view+json": {
       "model_id": "f428ac5e81ff499e844e2baeb183d129",
       "version_major": 2,
       "version_minor": 0
      },
      "text/plain": [
       "HBox(children=(FloatProgress(value=0.0, max=3.0), HTML(value='')))"
      ]
     },
     "metadata": {},
     "output_type": "display_data"
    },
    {
     "name": "stdout",
     "output_type": "stream",
     "text": [
      "\n"
     ]
    },
    {
     "data": {
      "application/vnd.jupyter.widget-view+json": {
       "model_id": "fd87f18d5cd14b0fba2a366b7a7fc773",
       "version_major": 2,
       "version_minor": 0
      },
      "text/plain": [
       "HBox(children=(FloatProgress(value=0.0, max=12.0), HTML(value='')))"
      ]
     },
     "metadata": {},
     "output_type": "display_data"
    },
    {
     "name": "stdout",
     "output_type": "stream",
     "text": [
      "\n"
     ]
    },
    {
     "data": {
      "application/vnd.jupyter.widget-view+json": {
       "model_id": "2c50757ad2af494abb026c931f3396b9",
       "version_major": 2,
       "version_minor": 0
      },
      "text/plain": [
       "HBox(children=(FloatProgress(value=0.0, max=1.0), HTML(value='')))"
      ]
     },
     "metadata": {},
     "output_type": "display_data"
    },
    {
     "name": "stdout",
     "output_type": "stream",
     "text": [
      "\n"
     ]
    },
    {
     "data": {
      "application/vnd.jupyter.widget-view+json": {
       "model_id": "49fb230bd6b64348890283853754e5cd",
       "version_major": 2,
       "version_minor": 0
      },
      "text/plain": [
       "HBox(children=(FloatProgress(value=0.0, max=1.0), HTML(value='')))"
      ]
     },
     "metadata": {},
     "output_type": "display_data"
    },
    {
     "name": "stdout",
     "output_type": "stream",
     "text": [
      "\n"
     ]
    },
    {
     "data": {
      "application/vnd.jupyter.widget-view+json": {
       "model_id": "55fff806f85f458fb9a45767c18ff3ad",
       "version_major": 2,
       "version_minor": 0
      },
      "text/plain": [
       "HBox(children=(FloatProgress(value=0.0, max=37.0), HTML(value='')))"
      ]
     },
     "metadata": {},
     "output_type": "display_data"
    },
    {
     "name": "stdout",
     "output_type": "stream",
     "text": [
      "\n"
     ]
    },
    {
     "data": {
      "application/vnd.jupyter.widget-view+json": {
       "model_id": "8457241a470248afb501337f16c34fd3",
       "version_major": 2,
       "version_minor": 0
      },
      "text/plain": [
       "HBox(children=(FloatProgress(value=0.0, max=10.0), HTML(value='')))"
      ]
     },
     "metadata": {},
     "output_type": "display_data"
    },
    {
     "name": "stdout",
     "output_type": "stream",
     "text": [
      "\n"
     ]
    },
    {
     "data": {
      "application/vnd.jupyter.widget-view+json": {
       "model_id": "fe139a3ad4c84e47ae4777e630500f72",
       "version_major": 2,
       "version_minor": 0
      },
      "text/plain": [
       "HBox(children=(FloatProgress(value=0.0, max=1.0), HTML(value='')))"
      ]
     },
     "metadata": {},
     "output_type": "display_data"
    },
    {
     "name": "stdout",
     "output_type": "stream",
     "text": [
      "\n"
     ]
    },
    {
     "data": {
      "application/vnd.jupyter.widget-view+json": {
       "model_id": "c966f8149afd4f99b097c2b610d033f0",
       "version_major": 2,
       "version_minor": 0
      },
      "text/plain": [
       "HBox(children=(FloatProgress(value=0.0, max=33.0), HTML(value='')))"
      ]
     },
     "metadata": {},
     "output_type": "display_data"
    },
    {
     "name": "stdout",
     "output_type": "stream",
     "text": [
      "\n"
     ]
    },
    {
     "data": {
      "application/vnd.jupyter.widget-view+json": {
       "model_id": "6e72039c24234a2baef2231d50653928",
       "version_major": 2,
       "version_minor": 0
      },
      "text/plain": [
       "HBox(children=(FloatProgress(value=0.0, max=1.0), HTML(value='')))"
      ]
     },
     "metadata": {},
     "output_type": "display_data"
    },
    {
     "name": "stdout",
     "output_type": "stream",
     "text": [
      "\n"
     ]
    },
    {
     "data": {
      "application/vnd.jupyter.widget-view+json": {
       "model_id": "f6979421e9d544ac85dd0bc384bacff4",
       "version_major": 2,
       "version_minor": 0
      },
      "text/plain": [
       "HBox(children=(FloatProgress(value=0.0, max=9.0), HTML(value='')))"
      ]
     },
     "metadata": {},
     "output_type": "display_data"
    },
    {
     "name": "stdout",
     "output_type": "stream",
     "text": [
      "\n"
     ]
    },
    {
     "data": {
      "application/vnd.jupyter.widget-view+json": {
       "model_id": "9b4ffb4c77804a82a318996259493870",
       "version_major": 2,
       "version_minor": 0
      },
      "text/plain": [
       "HBox(children=(FloatProgress(value=0.0, max=20.0), HTML(value='')))"
      ]
     },
     "metadata": {},
     "output_type": "display_data"
    },
    {
     "name": "stdout",
     "output_type": "stream",
     "text": [
      "\n"
     ]
    },
    {
     "data": {
      "application/vnd.jupyter.widget-view+json": {
       "model_id": "36e02f4369df4bd3994313eb4429b6e2",
       "version_major": 2,
       "version_minor": 0
      },
      "text/plain": [
       "HBox(children=(FloatProgress(value=0.0, max=10.0), HTML(value='')))"
      ]
     },
     "metadata": {},
     "output_type": "display_data"
    },
    {
     "name": "stdout",
     "output_type": "stream",
     "text": [
      "\n"
     ]
    },
    {
     "data": {
      "application/vnd.jupyter.widget-view+json": {
       "model_id": "2d4f280c952643df815e8f6b1a8a5749",
       "version_major": 2,
       "version_minor": 0
      },
      "text/plain": [
       "HBox(children=(FloatProgress(value=0.0, max=6.0), HTML(value='')))"
      ]
     },
     "metadata": {},
     "output_type": "display_data"
    },
    {
     "name": "stdout",
     "output_type": "stream",
     "text": [
      "\n"
     ]
    },
    {
     "data": {
      "application/vnd.jupyter.widget-view+json": {
       "model_id": "b962fa892bdd45ddbb7b659cfcddfc26",
       "version_major": 2,
       "version_minor": 0
      },
      "text/plain": [
       "HBox(children=(FloatProgress(value=0.0, max=12.0), HTML(value='')))"
      ]
     },
     "metadata": {},
     "output_type": "display_data"
    },
    {
     "name": "stdout",
     "output_type": "stream",
     "text": [
      "\n"
     ]
    },
    {
     "data": {
      "application/vnd.jupyter.widget-view+json": {
       "model_id": "c6ff00309c01489cba6dc29151d50c76",
       "version_major": 2,
       "version_minor": 0
      },
      "text/plain": [
       "HBox(children=(FloatProgress(value=0.0, max=9.0), HTML(value='')))"
      ]
     },
     "metadata": {},
     "output_type": "display_data"
    },
    {
     "name": "stdout",
     "output_type": "stream",
     "text": [
      "\n"
     ]
    },
    {
     "data": {
      "application/vnd.jupyter.widget-view+json": {
       "model_id": "f75e8aa5a2e849148fda2d635e30b155",
       "version_major": 2,
       "version_minor": 0
      },
      "text/plain": [
       "HBox(children=(FloatProgress(value=0.0, max=2.0), HTML(value='')))"
      ]
     },
     "metadata": {},
     "output_type": "display_data"
    },
    {
     "name": "stdout",
     "output_type": "stream",
     "text": [
      "\n"
     ]
    },
    {
     "data": {
      "application/vnd.jupyter.widget-view+json": {
       "model_id": "429941432c2245849b8777e0c5a819e2",
       "version_major": 2,
       "version_minor": 0
      },
      "text/plain": [
       "HBox(children=(FloatProgress(value=0.0, max=29.0), HTML(value='')))"
      ]
     },
     "metadata": {},
     "output_type": "display_data"
    },
    {
     "name": "stdout",
     "output_type": "stream",
     "text": [
      "\n"
     ]
    },
    {
     "data": {
      "application/vnd.jupyter.widget-view+json": {
       "model_id": "7f2f140c6e8943a5a15c5ca30e190c49",
       "version_major": 2,
       "version_minor": 0
      },
      "text/plain": [
       "HBox(children=(FloatProgress(value=0.0, max=9.0), HTML(value='')))"
      ]
     },
     "metadata": {},
     "output_type": "display_data"
    },
    {
     "name": "stdout",
     "output_type": "stream",
     "text": [
      "\n"
     ]
    },
    {
     "data": {
      "application/vnd.jupyter.widget-view+json": {
       "model_id": "047d36d1121f4ccb81e4b12d8948b9c6",
       "version_major": 2,
       "version_minor": 0
      },
      "text/plain": [
       "HBox(children=(FloatProgress(value=0.0, max=45.0), HTML(value='')))"
      ]
     },
     "metadata": {},
     "output_type": "display_data"
    },
    {
     "name": "stdout",
     "output_type": "stream",
     "text": [
      "\n"
     ]
    },
    {
     "data": {
      "application/vnd.jupyter.widget-view+json": {
       "model_id": "a821c1750549416b919722e19984da16",
       "version_major": 2,
       "version_minor": 0
      },
      "text/plain": [
       "HBox(children=(FloatProgress(value=0.0, max=1.0), HTML(value='')))"
      ]
     },
     "metadata": {},
     "output_type": "display_data"
    },
    {
     "name": "stdout",
     "output_type": "stream",
     "text": [
      "\n"
     ]
    },
    {
     "data": {
      "application/vnd.jupyter.widget-view+json": {
       "model_id": "321f61e38064415399535baee8066d55",
       "version_major": 2,
       "version_minor": 0
      },
      "text/plain": [
       "HBox(children=(FloatProgress(value=0.0, max=13.0), HTML(value='')))"
      ]
     },
     "metadata": {},
     "output_type": "display_data"
    },
    {
     "name": "stdout",
     "output_type": "stream",
     "text": [
      "\n"
     ]
    },
    {
     "data": {
      "application/vnd.jupyter.widget-view+json": {
       "model_id": "950ca8c5eb2b4fd29097fe905745d90f",
       "version_major": 2,
       "version_minor": 0
      },
      "text/plain": [
       "HBox(children=(FloatProgress(value=0.0, max=29.0), HTML(value='')))"
      ]
     },
     "metadata": {},
     "output_type": "display_data"
    },
    {
     "name": "stdout",
     "output_type": "stream",
     "text": [
      "\n"
     ]
    },
    {
     "data": {
      "application/vnd.jupyter.widget-view+json": {
       "model_id": "d9ba83e18b5a47eea9a68b7ec19f4594",
       "version_major": 2,
       "version_minor": 0
      },
      "text/plain": [
       "HBox(children=(FloatProgress(value=0.0, max=24.0), HTML(value='')))"
      ]
     },
     "metadata": {},
     "output_type": "display_data"
    },
    {
     "name": "stdout",
     "output_type": "stream",
     "text": [
      "\n"
     ]
    },
    {
     "data": {
      "application/vnd.jupyter.widget-view+json": {
       "model_id": "0423c1264f744cb49aed6d96efbe1c5a",
       "version_major": 2,
       "version_minor": 0
      },
      "text/plain": [
       "HBox(children=(FloatProgress(value=0.0, max=8.0), HTML(value='')))"
      ]
     },
     "metadata": {},
     "output_type": "display_data"
    },
    {
     "name": "stdout",
     "output_type": "stream",
     "text": [
      "\n"
     ]
    },
    {
     "data": {
      "application/vnd.jupyter.widget-view+json": {
       "model_id": "d86978db0a984bba9a7d46e2e4f814b2",
       "version_major": 2,
       "version_minor": 0
      },
      "text/plain": [
       "HBox(children=(FloatProgress(value=0.0, max=10.0), HTML(value='')))"
      ]
     },
     "metadata": {},
     "output_type": "display_data"
    },
    {
     "name": "stdout",
     "output_type": "stream",
     "text": [
      "\n"
     ]
    },
    {
     "data": {
      "application/vnd.jupyter.widget-view+json": {
       "model_id": "8008d383d8154b41afc58e05d712cc84",
       "version_major": 2,
       "version_minor": 0
      },
      "text/plain": [
       "HBox(children=(FloatProgress(value=0.0, max=7.0), HTML(value='')))"
      ]
     },
     "metadata": {},
     "output_type": "display_data"
    },
    {
     "name": "stdout",
     "output_type": "stream",
     "text": [
      "\n"
     ]
    },
    {
     "data": {
      "application/vnd.jupyter.widget-view+json": {
       "model_id": "351c86f699a44b2288bf69f7c5869e11",
       "version_major": 2,
       "version_minor": 0
      },
      "text/plain": [
       "HBox(children=(FloatProgress(value=0.0, max=2.0), HTML(value='')))"
      ]
     },
     "metadata": {},
     "output_type": "display_data"
    },
    {
     "name": "stdout",
     "output_type": "stream",
     "text": [
      "\n"
     ]
    },
    {
     "data": {
      "application/vnd.jupyter.widget-view+json": {
       "model_id": "0e672c92cb98487da2bec28df92a082b",
       "version_major": 2,
       "version_minor": 0
      },
      "text/plain": [
       "HBox(children=(FloatProgress(value=0.0, max=11.0), HTML(value='')))"
      ]
     },
     "metadata": {},
     "output_type": "display_data"
    },
    {
     "name": "stdout",
     "output_type": "stream",
     "text": [
      "\n"
     ]
    },
    {
     "data": {
      "application/vnd.jupyter.widget-view+json": {
       "model_id": "1fb6739890b1406185de066706c36888",
       "version_major": 2,
       "version_minor": 0
      },
      "text/plain": [
       "HBox(children=(FloatProgress(value=0.0, max=5.0), HTML(value='')))"
      ]
     },
     "metadata": {},
     "output_type": "display_data"
    },
    {
     "name": "stdout",
     "output_type": "stream",
     "text": [
      "\n"
     ]
    },
    {
     "data": {
      "application/vnd.jupyter.widget-view+json": {
       "model_id": "78b7e744dde64052af491f8ef50b18b5",
       "version_major": 2,
       "version_minor": 0
      },
      "text/plain": [
       "HBox(children=(FloatProgress(value=0.0, max=11.0), HTML(value='')))"
      ]
     },
     "metadata": {},
     "output_type": "display_data"
    },
    {
     "name": "stdout",
     "output_type": "stream",
     "text": [
      "\n"
     ]
    },
    {
     "data": {
      "application/vnd.jupyter.widget-view+json": {
       "model_id": "ef80f400173040aca01e4074910a03f5",
       "version_major": 2,
       "version_minor": 0
      },
      "text/plain": [
       "HBox(children=(FloatProgress(value=0.0, max=9.0), HTML(value='')))"
      ]
     },
     "metadata": {},
     "output_type": "display_data"
    },
    {
     "name": "stdout",
     "output_type": "stream",
     "text": [
      "\n"
     ]
    },
    {
     "data": {
      "application/vnd.jupyter.widget-view+json": {
       "model_id": "a42b211e22ed4b22920efff80048fe94",
       "version_major": 2,
       "version_minor": 0
      },
      "text/plain": [
       "HBox(children=(FloatProgress(value=0.0, max=7.0), HTML(value='')))"
      ]
     },
     "metadata": {},
     "output_type": "display_data"
    },
    {
     "name": "stdout",
     "output_type": "stream",
     "text": [
      "\n"
     ]
    },
    {
     "data": {
      "application/vnd.jupyter.widget-view+json": {
       "model_id": "bc5ac1b7fe544835ac11a9685e028aa4",
       "version_major": 2,
       "version_minor": 0
      },
      "text/plain": [
       "HBox(children=(FloatProgress(value=0.0, max=8.0), HTML(value='')))"
      ]
     },
     "metadata": {},
     "output_type": "display_data"
    },
    {
     "name": "stdout",
     "output_type": "stream",
     "text": [
      "\n"
     ]
    },
    {
     "data": {
      "application/vnd.jupyter.widget-view+json": {
       "model_id": "8688841461284cdabf8bd01c1fd7a627",
       "version_major": 2,
       "version_minor": 0
      },
      "text/plain": [
       "HBox(children=(FloatProgress(value=0.0, max=3.0), HTML(value='')))"
      ]
     },
     "metadata": {},
     "output_type": "display_data"
    },
    {
     "name": "stdout",
     "output_type": "stream",
     "text": [
      "\n"
     ]
    },
    {
     "data": {
      "application/vnd.jupyter.widget-view+json": {
       "model_id": "bb7220c5a02e44cab0e3f960a3f3a8b4",
       "version_major": 2,
       "version_minor": 0
      },
      "text/plain": [
       "HBox(children=(FloatProgress(value=0.0, max=7.0), HTML(value='')))"
      ]
     },
     "metadata": {},
     "output_type": "display_data"
    },
    {
     "name": "stdout",
     "output_type": "stream",
     "text": [
      "\n"
     ]
    },
    {
     "data": {
      "application/vnd.jupyter.widget-view+json": {
       "model_id": "372c1b16551e4feaabff43fd85225ff0",
       "version_major": 2,
       "version_minor": 0
      },
      "text/plain": [
       "HBox(children=(FloatProgress(value=0.0, max=9.0), HTML(value='')))"
      ]
     },
     "metadata": {},
     "output_type": "display_data"
    },
    {
     "name": "stdout",
     "output_type": "stream",
     "text": [
      "\n"
     ]
    },
    {
     "data": {
      "application/vnd.jupyter.widget-view+json": {
       "model_id": "5bb57d820f4e4bebbcc7f59a9f7a2d39",
       "version_major": 2,
       "version_minor": 0
      },
      "text/plain": [
       "HBox(children=(FloatProgress(value=0.0, max=35.0), HTML(value='')))"
      ]
     },
     "metadata": {},
     "output_type": "display_data"
    },
    {
     "name": "stdout",
     "output_type": "stream",
     "text": [
      "\n"
     ]
    },
    {
     "data": {
      "application/vnd.jupyter.widget-view+json": {
       "model_id": "10429d05233f4eeca5cedaed1bf78b85",
       "version_major": 2,
       "version_minor": 0
      },
      "text/plain": [
       "HBox(children=(FloatProgress(value=0.0, max=10.0), HTML(value='')))"
      ]
     },
     "metadata": {},
     "output_type": "display_data"
    },
    {
     "name": "stdout",
     "output_type": "stream",
     "text": [
      "\n"
     ]
    },
    {
     "data": {
      "application/vnd.jupyter.widget-view+json": {
       "model_id": "536c140e5ad845e38538bf49c60501dd",
       "version_major": 2,
       "version_minor": 0
      },
      "text/plain": [
       "HBox(children=(FloatProgress(value=0.0, max=3.0), HTML(value='')))"
      ]
     },
     "metadata": {},
     "output_type": "display_data"
    },
    {
     "name": "stdout",
     "output_type": "stream",
     "text": [
      "\n"
     ]
    },
    {
     "data": {
      "application/vnd.jupyter.widget-view+json": {
       "model_id": "6f46e5e3f63c4b3daa89a0037ce536c3",
       "version_major": 2,
       "version_minor": 0
      },
      "text/plain": [
       "HBox(children=(FloatProgress(value=0.0, max=7.0), HTML(value='')))"
      ]
     },
     "metadata": {},
     "output_type": "display_data"
    },
    {
     "name": "stdout",
     "output_type": "stream",
     "text": [
      "\n"
     ]
    },
    {
     "data": {
      "application/vnd.jupyter.widget-view+json": {
       "model_id": "263062999d34412c9bddfb97d3726856",
       "version_major": 2,
       "version_minor": 0
      },
      "text/plain": [
       "HBox(children=(FloatProgress(value=0.0, max=3.0), HTML(value='')))"
      ]
     },
     "metadata": {},
     "output_type": "display_data"
    },
    {
     "name": "stdout",
     "output_type": "stream",
     "text": [
      "\n"
     ]
    },
    {
     "data": {
      "application/vnd.jupyter.widget-view+json": {
       "model_id": "d78a6d344e5a4080ae12a6e12770b8df",
       "version_major": 2,
       "version_minor": 0
      },
      "text/plain": [
       "HBox(children=(FloatProgress(value=0.0, max=27.0), HTML(value='')))"
      ]
     },
     "metadata": {},
     "output_type": "display_data"
    },
    {
     "name": "stdout",
     "output_type": "stream",
     "text": [
      "\n"
     ]
    },
    {
     "data": {
      "application/vnd.jupyter.widget-view+json": {
       "model_id": "326e7ea7422e454eb7bb825ce98f2754",
       "version_major": 2,
       "version_minor": 0
      },
      "text/plain": [
       "HBox(children=(FloatProgress(value=0.0, max=5.0), HTML(value='')))"
      ]
     },
     "metadata": {},
     "output_type": "display_data"
    },
    {
     "name": "stdout",
     "output_type": "stream",
     "text": [
      "\n"
     ]
    },
    {
     "data": {
      "application/vnd.jupyter.widget-view+json": {
       "model_id": "74241490960540d7a7e7d7b53bafe90c",
       "version_major": 2,
       "version_minor": 0
      },
      "text/plain": [
       "HBox(children=(FloatProgress(value=0.0, max=12.0), HTML(value='')))"
      ]
     },
     "metadata": {},
     "output_type": "display_data"
    },
    {
     "name": "stdout",
     "output_type": "stream",
     "text": [
      "\n"
     ]
    },
    {
     "data": {
      "application/vnd.jupyter.widget-view+json": {
       "model_id": "dccb89e10625414d9e0a333d150fa98b",
       "version_major": 2,
       "version_minor": 0
      },
      "text/plain": [
       "HBox(children=(FloatProgress(value=0.0, max=14.0), HTML(value='')))"
      ]
     },
     "metadata": {},
     "output_type": "display_data"
    },
    {
     "name": "stdout",
     "output_type": "stream",
     "text": [
      "\n"
     ]
    },
    {
     "data": {
      "application/vnd.jupyter.widget-view+json": {
       "model_id": "b1647ac901684a9b9f69e6bbb7a65f35",
       "version_major": 2,
       "version_minor": 0
      },
      "text/plain": [
       "HBox(children=(FloatProgress(value=0.0, max=2.0), HTML(value='')))"
      ]
     },
     "metadata": {},
     "output_type": "display_data"
    },
    {
     "name": "stdout",
     "output_type": "stream",
     "text": [
      "\n"
     ]
    },
    {
     "data": {
      "application/vnd.jupyter.widget-view+json": {
       "model_id": "217365f033334d168cf52bef28eeed34",
       "version_major": 2,
       "version_minor": 0
      },
      "text/plain": [
       "HBox(children=(FloatProgress(value=0.0, max=1.0), HTML(value='')))"
      ]
     },
     "metadata": {},
     "output_type": "display_data"
    },
    {
     "name": "stdout",
     "output_type": "stream",
     "text": [
      "\n"
     ]
    },
    {
     "data": {
      "application/vnd.jupyter.widget-view+json": {
       "model_id": "bdf016589077435eb6434e04c351c9b6",
       "version_major": 2,
       "version_minor": 0
      },
      "text/plain": [
       "HBox(children=(FloatProgress(value=0.0, max=5.0), HTML(value='')))"
      ]
     },
     "metadata": {},
     "output_type": "display_data"
    },
    {
     "name": "stdout",
     "output_type": "stream",
     "text": [
      "\n"
     ]
    },
    {
     "data": {
      "application/vnd.jupyter.widget-view+json": {
       "model_id": "9da49bf684b54cfe87451022ae1fdadb",
       "version_major": 2,
       "version_minor": 0
      },
      "text/plain": [
       "HBox(children=(FloatProgress(value=0.0, max=1.0), HTML(value='')))"
      ]
     },
     "metadata": {},
     "output_type": "display_data"
    },
    {
     "name": "stdout",
     "output_type": "stream",
     "text": [
      "\n"
     ]
    },
    {
     "data": {
      "application/vnd.jupyter.widget-view+json": {
       "model_id": "000e439582b848ba871acec33045c325",
       "version_major": 2,
       "version_minor": 0
      },
      "text/plain": [
       "HBox(children=(FloatProgress(value=0.0, max=33.0), HTML(value='')))"
      ]
     },
     "metadata": {},
     "output_type": "display_data"
    },
    {
     "name": "stdout",
     "output_type": "stream",
     "text": [
      "\n"
     ]
    },
    {
     "data": {
      "application/vnd.jupyter.widget-view+json": {
       "model_id": "cae7240137424981a145c149e7af2131",
       "version_major": 2,
       "version_minor": 0
      },
      "text/plain": [
       "HBox(children=(FloatProgress(value=0.0, max=3.0), HTML(value='')))"
      ]
     },
     "metadata": {},
     "output_type": "display_data"
    },
    {
     "name": "stdout",
     "output_type": "stream",
     "text": [
      "\n"
     ]
    },
    {
     "data": {
      "application/vnd.jupyter.widget-view+json": {
       "model_id": "50cd67157cf24269838647bb91ddffa7",
       "version_major": 2,
       "version_minor": 0
      },
      "text/plain": [
       "HBox(children=(FloatProgress(value=0.0, max=4.0), HTML(value='')))"
      ]
     },
     "metadata": {},
     "output_type": "display_data"
    },
    {
     "name": "stdout",
     "output_type": "stream",
     "text": [
      "\n"
     ]
    },
    {
     "data": {
      "application/vnd.jupyter.widget-view+json": {
       "model_id": "a1c42c33740f432ebf1a8a4ec3472a40",
       "version_major": 2,
       "version_minor": 0
      },
      "text/plain": [
       "HBox(children=(FloatProgress(value=0.0, max=1.0), HTML(value='')))"
      ]
     },
     "metadata": {},
     "output_type": "display_data"
    },
    {
     "name": "stdout",
     "output_type": "stream",
     "text": [
      "\n"
     ]
    },
    {
     "data": {
      "application/vnd.jupyter.widget-view+json": {
       "model_id": "7a45b54fa8474a9cbb7e9f0c0638e6cb",
       "version_major": 2,
       "version_minor": 0
      },
      "text/plain": [
       "HBox(children=(FloatProgress(value=0.0, max=1.0), HTML(value='')))"
      ]
     },
     "metadata": {},
     "output_type": "display_data"
    },
    {
     "name": "stdout",
     "output_type": "stream",
     "text": [
      "\n"
     ]
    },
    {
     "data": {
      "application/vnd.jupyter.widget-view+json": {
       "model_id": "fe32393b6c684495811e78936fd83acb",
       "version_major": 2,
       "version_minor": 0
      },
      "text/plain": [
       "HBox(children=(FloatProgress(value=0.0, max=40.0), HTML(value='')))"
      ]
     },
     "metadata": {},
     "output_type": "display_data"
    },
    {
     "name": "stdout",
     "output_type": "stream",
     "text": [
      "\n"
     ]
    },
    {
     "data": {
      "application/vnd.jupyter.widget-view+json": {
       "model_id": "afcd0ba360294f76ad017807bcd3da9e",
       "version_major": 2,
       "version_minor": 0
      },
      "text/plain": [
       "HBox(children=(FloatProgress(value=0.0, max=42.0), HTML(value='')))"
      ]
     },
     "metadata": {},
     "output_type": "display_data"
    },
    {
     "name": "stdout",
     "output_type": "stream",
     "text": [
      "\n"
     ]
    },
    {
     "data": {
      "application/vnd.jupyter.widget-view+json": {
       "model_id": "4fc558ab3a3e4a97a62413bd25a77353",
       "version_major": 2,
       "version_minor": 0
      },
      "text/plain": [
       "HBox(children=(FloatProgress(value=0.0, max=33.0), HTML(value='')))"
      ]
     },
     "metadata": {},
     "output_type": "display_data"
    },
    {
     "name": "stdout",
     "output_type": "stream",
     "text": [
      "\n"
     ]
    },
    {
     "data": {
      "application/vnd.jupyter.widget-view+json": {
       "model_id": "40a9762d57b7427b9413131c6122a5ea",
       "version_major": 2,
       "version_minor": 0
      },
      "text/plain": [
       "HBox(children=(FloatProgress(value=0.0, max=64.0), HTML(value='')))"
      ]
     },
     "metadata": {},
     "output_type": "display_data"
    },
    {
     "name": "stdout",
     "output_type": "stream",
     "text": [
      "\n"
     ]
    },
    {
     "data": {
      "application/vnd.jupyter.widget-view+json": {
       "model_id": "3d6b4c79b93b48598d7ceddf6c369be9",
       "version_major": 2,
       "version_minor": 0
      },
      "text/plain": [
       "HBox(children=(FloatProgress(value=0.0, max=72.0), HTML(value='')))"
      ]
     },
     "metadata": {},
     "output_type": "display_data"
    },
    {
     "name": "stdout",
     "output_type": "stream",
     "text": [
      "\n"
     ]
    },
    {
     "data": {
      "application/vnd.jupyter.widget-view+json": {
       "model_id": "36c1b970e0304dd68556df41d5c3c78f",
       "version_major": 2,
       "version_minor": 0
      },
      "text/plain": [
       "HBox(children=(FloatProgress(value=0.0, max=7.0), HTML(value='')))"
      ]
     },
     "metadata": {},
     "output_type": "display_data"
    },
    {
     "name": "stdout",
     "output_type": "stream",
     "text": [
      "\n"
     ]
    },
    {
     "data": {
      "application/vnd.jupyter.widget-view+json": {
       "model_id": "103270eb01f14111ac89b287fc60128e",
       "version_major": 2,
       "version_minor": 0
      },
      "text/plain": [
       "HBox(children=(FloatProgress(value=0.0, max=1.0), HTML(value='')))"
      ]
     },
     "metadata": {},
     "output_type": "display_data"
    },
    {
     "name": "stdout",
     "output_type": "stream",
     "text": [
      "\n"
     ]
    },
    {
     "data": {
      "application/vnd.jupyter.widget-view+json": {
       "model_id": "6ae47e0457ed41bfa2064bdd6c36377f",
       "version_major": 2,
       "version_minor": 0
      },
      "text/plain": [
       "HBox(children=(FloatProgress(value=0.0, max=89.0), HTML(value='')))"
      ]
     },
     "metadata": {},
     "output_type": "display_data"
    },
    {
     "name": "stdout",
     "output_type": "stream",
     "text": [
      "\n"
     ]
    },
    {
     "data": {
      "application/vnd.jupyter.widget-view+json": {
       "model_id": "d473abe4f1aa4c8f997582b4c6f7ea5c",
       "version_major": 2,
       "version_minor": 0
      },
      "text/plain": [
       "HBox(children=(FloatProgress(value=0.0, max=84.0), HTML(value='')))"
      ]
     },
     "metadata": {},
     "output_type": "display_data"
    },
    {
     "name": "stdout",
     "output_type": "stream",
     "text": [
      "\n"
     ]
    },
    {
     "data": {
      "application/vnd.jupyter.widget-view+json": {
       "model_id": "a08a8d8d608d4b749f8bd961a3a882a5",
       "version_major": 2,
       "version_minor": 0
      },
      "text/plain": [
       "HBox(children=(FloatProgress(value=0.0, max=27.0), HTML(value='')))"
      ]
     },
     "metadata": {},
     "output_type": "display_data"
    },
    {
     "name": "stdout",
     "output_type": "stream",
     "text": [
      "\n"
     ]
    },
    {
     "data": {
      "application/vnd.jupyter.widget-view+json": {
       "model_id": "154355c5ea8848159871ce7c834ffd2b",
       "version_major": 2,
       "version_minor": 0
      },
      "text/plain": [
       "HBox(children=(FloatProgress(value=0.0, max=78.0), HTML(value='')))"
      ]
     },
     "metadata": {},
     "output_type": "display_data"
    },
    {
     "name": "stdout",
     "output_type": "stream",
     "text": [
      "\n"
     ]
    },
    {
     "data": {
      "application/vnd.jupyter.widget-view+json": {
       "model_id": "df25c8fded8b42b49ef94acf544f1631",
       "version_major": 2,
       "version_minor": 0
      },
      "text/plain": [
       "HBox(children=(FloatProgress(value=0.0, max=12.0), HTML(value='')))"
      ]
     },
     "metadata": {},
     "output_type": "display_data"
    },
    {
     "name": "stdout",
     "output_type": "stream",
     "text": [
      "\n"
     ]
    },
    {
     "data": {
      "application/vnd.jupyter.widget-view+json": {
       "model_id": "a4ee50b133e347d5a5f11acdf699bd25",
       "version_major": 2,
       "version_minor": 0
      },
      "text/plain": [
       "HBox(children=(FloatProgress(value=0.0, max=20.0), HTML(value='')))"
      ]
     },
     "metadata": {},
     "output_type": "display_data"
    },
    {
     "name": "stdout",
     "output_type": "stream",
     "text": [
      "\n"
     ]
    },
    {
     "data": {
      "application/vnd.jupyter.widget-view+json": {
       "model_id": "93db87a9eacf456c935e1344bb244e08",
       "version_major": 2,
       "version_minor": 0
      },
      "text/plain": [
       "HBox(children=(FloatProgress(value=0.0, max=2.0), HTML(value='')))"
      ]
     },
     "metadata": {},
     "output_type": "display_data"
    },
    {
     "name": "stdout",
     "output_type": "stream",
     "text": [
      "\n"
     ]
    },
    {
     "data": {
      "application/vnd.jupyter.widget-view+json": {
       "model_id": "de6826b656d74a0bb31fb41526cd49ec",
       "version_major": 2,
       "version_minor": 0
      },
      "text/plain": [
       "HBox(children=(FloatProgress(value=0.0, max=1.0), HTML(value='')))"
      ]
     },
     "metadata": {},
     "output_type": "display_data"
    },
    {
     "name": "stdout",
     "output_type": "stream",
     "text": [
      "\n"
     ]
    },
    {
     "data": {
      "application/vnd.jupyter.widget-view+json": {
       "model_id": "d52c2cbdceb043b0ae8d5f5437a63c00",
       "version_major": 2,
       "version_minor": 0
      },
      "text/plain": [
       "HBox(children=(FloatProgress(value=0.0, max=30.0), HTML(value='')))"
      ]
     },
     "metadata": {},
     "output_type": "display_data"
    },
    {
     "name": "stdout",
     "output_type": "stream",
     "text": [
      "\n"
     ]
    },
    {
     "data": {
      "application/vnd.jupyter.widget-view+json": {
       "model_id": "dbe8069017e04bc28bf0d35afdc7a139",
       "version_major": 2,
       "version_minor": 0
      },
      "text/plain": [
       "HBox(children=(FloatProgress(value=0.0, max=43.0), HTML(value='')))"
      ]
     },
     "metadata": {},
     "output_type": "display_data"
    },
    {
     "name": "stdout",
     "output_type": "stream",
     "text": [
      "\n"
     ]
    },
    {
     "data": {
      "application/vnd.jupyter.widget-view+json": {
       "model_id": "df3c6c3618f4465c867d92caa6cdb6f3",
       "version_major": 2,
       "version_minor": 0
      },
      "text/plain": [
       "HBox(children=(FloatProgress(value=0.0, max=10.0), HTML(value='')))"
      ]
     },
     "metadata": {},
     "output_type": "display_data"
    },
    {
     "name": "stdout",
     "output_type": "stream",
     "text": [
      "\n"
     ]
    },
    {
     "data": {
      "application/vnd.jupyter.widget-view+json": {
       "model_id": "f1b53900538c4dccae2ae181025e0a56",
       "version_major": 2,
       "version_minor": 0
      },
      "text/plain": [
       "HBox(children=(FloatProgress(value=0.0, max=32.0), HTML(value='')))"
      ]
     },
     "metadata": {},
     "output_type": "display_data"
    },
    {
     "name": "stdout",
     "output_type": "stream",
     "text": [
      "\n"
     ]
    },
    {
     "data": {
      "application/vnd.jupyter.widget-view+json": {
       "model_id": "2c5d91daacbd430aad4fcc1cde59676f",
       "version_major": 2,
       "version_minor": 0
      },
      "text/plain": [
       "HBox(children=(FloatProgress(value=0.0, max=16.0), HTML(value='')))"
      ]
     },
     "metadata": {},
     "output_type": "display_data"
    },
    {
     "name": "stdout",
     "output_type": "stream",
     "text": [
      "\n"
     ]
    },
    {
     "data": {
      "application/vnd.jupyter.widget-view+json": {
       "model_id": "1797be8da3d742c4adb915a48e316aaf",
       "version_major": 2,
       "version_minor": 0
      },
      "text/plain": [
       "HBox(children=(FloatProgress(value=0.0, max=5.0), HTML(value='')))"
      ]
     },
     "metadata": {},
     "output_type": "display_data"
    },
    {
     "name": "stdout",
     "output_type": "stream",
     "text": [
      "\n"
     ]
    },
    {
     "data": {
      "application/vnd.jupyter.widget-view+json": {
       "model_id": "d89615a72d264c2ab0f927334d295854",
       "version_major": 2,
       "version_minor": 0
      },
      "text/plain": [
       "HBox(children=(FloatProgress(value=0.0, max=1.0), HTML(value='')))"
      ]
     },
     "metadata": {},
     "output_type": "display_data"
    },
    {
     "name": "stdout",
     "output_type": "stream",
     "text": [
      "\n"
     ]
    },
    {
     "data": {
      "application/vnd.jupyter.widget-view+json": {
       "model_id": "0cb61007bcfa4cef946f7bcf2f4bf596",
       "version_major": 2,
       "version_minor": 0
      },
      "text/plain": [
       "HBox(children=(FloatProgress(value=0.0, max=16.0), HTML(value='')))"
      ]
     },
     "metadata": {},
     "output_type": "display_data"
    },
    {
     "name": "stdout",
     "output_type": "stream",
     "text": [
      "\n"
     ]
    },
    {
     "data": {
      "application/vnd.jupyter.widget-view+json": {
       "model_id": "e8730c0153f741a9b0821884e665ae82",
       "version_major": 2,
       "version_minor": 0
      },
      "text/plain": [
       "HBox(children=(FloatProgress(value=0.0, max=1.0), HTML(value='')))"
      ]
     },
     "metadata": {},
     "output_type": "display_data"
    },
    {
     "name": "stdout",
     "output_type": "stream",
     "text": [
      "\n"
     ]
    },
    {
     "data": {
      "application/vnd.jupyter.widget-view+json": {
       "model_id": "8eb9683517454928a69ba58cd22a9510",
       "version_major": 2,
       "version_minor": 0
      },
      "text/plain": [
       "HBox(children=(FloatProgress(value=0.0, max=3.0), HTML(value='')))"
      ]
     },
     "metadata": {},
     "output_type": "display_data"
    },
    {
     "name": "stdout",
     "output_type": "stream",
     "text": [
      "\n"
     ]
    },
    {
     "data": {
      "application/vnd.jupyter.widget-view+json": {
       "model_id": "105c4d652bfe48e0bf30ddb0e65b6384",
       "version_major": 2,
       "version_minor": 0
      },
      "text/plain": [
       "HBox(children=(FloatProgress(value=0.0, max=30.0), HTML(value='')))"
      ]
     },
     "metadata": {},
     "output_type": "display_data"
    },
    {
     "name": "stdout",
     "output_type": "stream",
     "text": [
      "\n"
     ]
    },
    {
     "data": {
      "application/vnd.jupyter.widget-view+json": {
       "model_id": "9e338a2122fd47558ad88f9a84f759c1",
       "version_major": 2,
       "version_minor": 0
      },
      "text/plain": [
       "HBox(children=(FloatProgress(value=0.0, max=5.0), HTML(value='')))"
      ]
     },
     "metadata": {},
     "output_type": "display_data"
    },
    {
     "name": "stdout",
     "output_type": "stream",
     "text": [
      "\n"
     ]
    },
    {
     "data": {
      "application/vnd.jupyter.widget-view+json": {
       "model_id": "287a2e03c45645cba7d54fd86545812b",
       "version_major": 2,
       "version_minor": 0
      },
      "text/plain": [
       "HBox(children=(FloatProgress(value=0.0, max=40.0), HTML(value='')))"
      ]
     },
     "metadata": {},
     "output_type": "display_data"
    },
    {
     "name": "stdout",
     "output_type": "stream",
     "text": [
      "\n"
     ]
    },
    {
     "data": {
      "application/vnd.jupyter.widget-view+json": {
       "model_id": "943e2a2dcbc646e9ad858653c260af7b",
       "version_major": 2,
       "version_minor": 0
      },
      "text/plain": [
       "HBox(children=(FloatProgress(value=0.0, max=23.0), HTML(value='')))"
      ]
     },
     "metadata": {},
     "output_type": "display_data"
    },
    {
     "name": "stdout",
     "output_type": "stream",
     "text": [
      "\n"
     ]
    },
    {
     "data": {
      "application/vnd.jupyter.widget-view+json": {
       "model_id": "cde36f3d1b2a42349cfe671bb9eca0ff",
       "version_major": 2,
       "version_minor": 0
      },
      "text/plain": [
       "HBox(children=(FloatProgress(value=0.0, max=22.0), HTML(value='')))"
      ]
     },
     "metadata": {},
     "output_type": "display_data"
    },
    {
     "name": "stdout",
     "output_type": "stream",
     "text": [
      "\n"
     ]
    },
    {
     "data": {
      "application/vnd.jupyter.widget-view+json": {
       "model_id": "dff1b8cd3b9744a9bed0f3e1df4d84b6",
       "version_major": 2,
       "version_minor": 0
      },
      "text/plain": [
       "HBox(children=(FloatProgress(value=0.0, max=22.0), HTML(value='')))"
      ]
     },
     "metadata": {},
     "output_type": "display_data"
    },
    {
     "name": "stdout",
     "output_type": "stream",
     "text": [
      "\n"
     ]
    },
    {
     "data": {
      "application/vnd.jupyter.widget-view+json": {
       "model_id": "81ebf103db72479e89776c510771119c",
       "version_major": 2,
       "version_minor": 0
      },
      "text/plain": [
       "HBox(children=(FloatProgress(value=0.0, max=26.0), HTML(value='')))"
      ]
     },
     "metadata": {},
     "output_type": "display_data"
    },
    {
     "name": "stdout",
     "output_type": "stream",
     "text": [
      "\n"
     ]
    },
    {
     "data": {
      "application/vnd.jupyter.widget-view+json": {
       "model_id": "799239ee55b5422780993d0b8b11b1f5",
       "version_major": 2,
       "version_minor": 0
      },
      "text/plain": [
       "HBox(children=(FloatProgress(value=0.0, max=15.0), HTML(value='')))"
      ]
     },
     "metadata": {},
     "output_type": "display_data"
    },
    {
     "name": "stdout",
     "output_type": "stream",
     "text": [
      "\n"
     ]
    },
    {
     "data": {
      "application/vnd.jupyter.widget-view+json": {
       "model_id": "2b64d87203524c79b05114a07d90c209",
       "version_major": 2,
       "version_minor": 0
      },
      "text/plain": [
       "HBox(children=(FloatProgress(value=0.0, max=22.0), HTML(value='')))"
      ]
     },
     "metadata": {},
     "output_type": "display_data"
    },
    {
     "name": "stdout",
     "output_type": "stream",
     "text": [
      "\n"
     ]
    },
    {
     "data": {
      "application/vnd.jupyter.widget-view+json": {
       "model_id": "485c83e4c0df423c8596b0065e52b41b",
       "version_major": 2,
       "version_minor": 0
      },
      "text/plain": [
       "HBox(children=(FloatProgress(value=0.0, max=50.0), HTML(value='')))"
      ]
     },
     "metadata": {},
     "output_type": "display_data"
    },
    {
     "name": "stdout",
     "output_type": "stream",
     "text": [
      "\n"
     ]
    },
    {
     "data": {
      "application/vnd.jupyter.widget-view+json": {
       "model_id": "3452c963aeaa476cb468bfaa9c94b6ee",
       "version_major": 2,
       "version_minor": 0
      },
      "text/plain": [
       "HBox(children=(FloatProgress(value=0.0, max=10.0), HTML(value='')))"
      ]
     },
     "metadata": {},
     "output_type": "display_data"
    },
    {
     "name": "stdout",
     "output_type": "stream",
     "text": [
      "\n"
     ]
    },
    {
     "data": {
      "application/vnd.jupyter.widget-view+json": {
       "model_id": "d3a52ce9591d471b96e448b5b71d6dfa",
       "version_major": 2,
       "version_minor": 0
      },
      "text/plain": [
       "HBox(children=(FloatProgress(value=0.0, max=10.0), HTML(value='')))"
      ]
     },
     "metadata": {},
     "output_type": "display_data"
    },
    {
     "name": "stdout",
     "output_type": "stream",
     "text": [
      "\n"
     ]
    },
    {
     "data": {
      "application/vnd.jupyter.widget-view+json": {
       "model_id": "ecd893b3f6114b789c0137f5e5395e02",
       "version_major": 2,
       "version_minor": 0
      },
      "text/plain": [
       "HBox(children=(FloatProgress(value=0.0, max=9.0), HTML(value='')))"
      ]
     },
     "metadata": {},
     "output_type": "display_data"
    },
    {
     "name": "stdout",
     "output_type": "stream",
     "text": [
      "\n"
     ]
    },
    {
     "data": {
      "application/vnd.jupyter.widget-view+json": {
       "model_id": "60cb52e2ecfa487480d989765f3ecb37",
       "version_major": 2,
       "version_minor": 0
      },
      "text/plain": [
       "HBox(children=(FloatProgress(value=0.0, max=35.0), HTML(value='')))"
      ]
     },
     "metadata": {},
     "output_type": "display_data"
    },
    {
     "name": "stdout",
     "output_type": "stream",
     "text": [
      "\n"
     ]
    },
    {
     "data": {
      "application/vnd.jupyter.widget-view+json": {
       "model_id": "e913b556f0c94035bde3ed99563c88be",
       "version_major": 2,
       "version_minor": 0
      },
      "text/plain": [
       "HBox(children=(FloatProgress(value=0.0, max=28.0), HTML(value='')))"
      ]
     },
     "metadata": {},
     "output_type": "display_data"
    },
    {
     "name": "stdout",
     "output_type": "stream",
     "text": [
      "\n"
     ]
    },
    {
     "data": {
      "application/vnd.jupyter.widget-view+json": {
       "model_id": "5cf624ca845c4a94ac468ce8162a11e7",
       "version_major": 2,
       "version_minor": 0
      },
      "text/plain": [
       "HBox(children=(FloatProgress(value=0.0, max=12.0), HTML(value='')))"
      ]
     },
     "metadata": {},
     "output_type": "display_data"
    },
    {
     "name": "stdout",
     "output_type": "stream",
     "text": [
      "\n"
     ]
    },
    {
     "data": {
      "application/vnd.jupyter.widget-view+json": {
       "model_id": "6e003715dbe94b91b8d62e4f621618cd",
       "version_major": 2,
       "version_minor": 0
      },
      "text/plain": [
       "HBox(children=(FloatProgress(value=0.0, max=2.0), HTML(value='')))"
      ]
     },
     "metadata": {},
     "output_type": "display_data"
    },
    {
     "name": "stdout",
     "output_type": "stream",
     "text": [
      "\n"
     ]
    },
    {
     "data": {
      "application/vnd.jupyter.widget-view+json": {
       "model_id": "0648571569e74ea09dde0aa3efe5410a",
       "version_major": 2,
       "version_minor": 0
      },
      "text/plain": [
       "HBox(children=(FloatProgress(value=0.0, max=19.0), HTML(value='')))"
      ]
     },
     "metadata": {},
     "output_type": "display_data"
    },
    {
     "name": "stdout",
     "output_type": "stream",
     "text": [
      "\n"
     ]
    },
    {
     "data": {
      "application/vnd.jupyter.widget-view+json": {
       "model_id": "e6a0380a1dd94f698d870f9614e0c34c",
       "version_major": 2,
       "version_minor": 0
      },
      "text/plain": [
       "HBox(children=(FloatProgress(value=1.0, bar_style='info', max=1.0), HTML(value='')))"
      ]
     },
     "metadata": {},
     "output_type": "display_data"
    },
    {
     "name": "stdout",
     "output_type": "stream",
     "text": [
      "\n"
     ]
    },
    {
     "data": {
      "application/vnd.jupyter.widget-view+json": {
       "model_id": "d36a04f9b6cc45d593f1b297b2991e1c",
       "version_major": 2,
       "version_minor": 0
      },
      "text/plain": [
       "HBox(children=(FloatProgress(value=0.0, max=2.0), HTML(value='')))"
      ]
     },
     "metadata": {},
     "output_type": "display_data"
    },
    {
     "name": "stdout",
     "output_type": "stream",
     "text": [
      "\n"
     ]
    },
    {
     "data": {
      "application/vnd.jupyter.widget-view+json": {
       "model_id": "1a60c4a0358840f1b6fbcdec93012029",
       "version_major": 2,
       "version_minor": 0
      },
      "text/plain": [
       "HBox(children=(FloatProgress(value=0.0, max=1.0), HTML(value='')))"
      ]
     },
     "metadata": {},
     "output_type": "display_data"
    },
    {
     "name": "stdout",
     "output_type": "stream",
     "text": [
      "\n"
     ]
    },
    {
     "data": {
      "application/vnd.jupyter.widget-view+json": {
       "model_id": "867c08f9f7ba417ba029c90a7eec1322",
       "version_major": 2,
       "version_minor": 0
      },
      "text/plain": [
       "HBox(children=(FloatProgress(value=0.0, max=14.0), HTML(value='')))"
      ]
     },
     "metadata": {},
     "output_type": "display_data"
    },
    {
     "name": "stdout",
     "output_type": "stream",
     "text": [
      "\n"
     ]
    },
    {
     "data": {
      "application/vnd.jupyter.widget-view+json": {
       "model_id": "b52e46fefd404bc89ddac8caf581022c",
       "version_major": 2,
       "version_minor": 0
      },
      "text/plain": [
       "HBox(children=(FloatProgress(value=0.0, max=4.0), HTML(value='')))"
      ]
     },
     "metadata": {},
     "output_type": "display_data"
    },
    {
     "name": "stdout",
     "output_type": "stream",
     "text": [
      "\n"
     ]
    },
    {
     "data": {
      "application/vnd.jupyter.widget-view+json": {
       "model_id": "0f19e8d258464f4b97df78d846c3776e",
       "version_major": 2,
       "version_minor": 0
      },
      "text/plain": [
       "HBox(children=(FloatProgress(value=0.0, max=25.0), HTML(value='')))"
      ]
     },
     "metadata": {},
     "output_type": "display_data"
    },
    {
     "name": "stdout",
     "output_type": "stream",
     "text": [
      "\n"
     ]
    },
    {
     "data": {
      "application/vnd.jupyter.widget-view+json": {
       "model_id": "424e3e5d478e458eac3e93be5a43adc5",
       "version_major": 2,
       "version_minor": 0
      },
      "text/plain": [
       "HBox(children=(FloatProgress(value=0.0, max=2.0), HTML(value='')))"
      ]
     },
     "metadata": {},
     "output_type": "display_data"
    },
    {
     "name": "stdout",
     "output_type": "stream",
     "text": [
      "\n"
     ]
    },
    {
     "data": {
      "application/vnd.jupyter.widget-view+json": {
       "model_id": "ce519742d16f49deb50c7563bffc474a",
       "version_major": 2,
       "version_minor": 0
      },
      "text/plain": [
       "HBox(children=(FloatProgress(value=0.0, max=19.0), HTML(value='')))"
      ]
     },
     "metadata": {},
     "output_type": "display_data"
    },
    {
     "name": "stdout",
     "output_type": "stream",
     "text": [
      "\n"
     ]
    },
    {
     "data": {
      "application/vnd.jupyter.widget-view+json": {
       "model_id": "dba84bc1a88a4414a5d8d9623048fd35",
       "version_major": 2,
       "version_minor": 0
      },
      "text/plain": [
       "HBox(children=(FloatProgress(value=0.0, max=2.0), HTML(value='')))"
      ]
     },
     "metadata": {},
     "output_type": "display_data"
    },
    {
     "name": "stdout",
     "output_type": "stream",
     "text": [
      "\n"
     ]
    },
    {
     "data": {
      "application/vnd.jupyter.widget-view+json": {
       "model_id": "21756a9980304d5780ced34306d4e473",
       "version_major": 2,
       "version_minor": 0
      },
      "text/plain": [
       "HBox(children=(FloatProgress(value=0.0, max=13.0), HTML(value='')))"
      ]
     },
     "metadata": {},
     "output_type": "display_data"
    },
    {
     "name": "stdout",
     "output_type": "stream",
     "text": [
      "\n"
     ]
    },
    {
     "data": {
      "application/vnd.jupyter.widget-view+json": {
       "model_id": "9b3da0d9a0904131ba7687af57e631be",
       "version_major": 2,
       "version_minor": 0
      },
      "text/plain": [
       "HBox(children=(FloatProgress(value=0.0, max=57.0), HTML(value='')))"
      ]
     },
     "metadata": {},
     "output_type": "display_data"
    },
    {
     "name": "stdout",
     "output_type": "stream",
     "text": [
      "\n"
     ]
    },
    {
     "data": {
      "application/vnd.jupyter.widget-view+json": {
       "model_id": "f99bbc597ec84c09a4fe7afa039dfb8f",
       "version_major": 2,
       "version_minor": 0
      },
      "text/plain": [
       "HBox(children=(FloatProgress(value=0.0, max=1.0), HTML(value='')))"
      ]
     },
     "metadata": {},
     "output_type": "display_data"
    },
    {
     "name": "stdout",
     "output_type": "stream",
     "text": [
      "\n"
     ]
    },
    {
     "data": {
      "application/vnd.jupyter.widget-view+json": {
       "model_id": "7ae719bd1373482da54cd75e49ec8d70",
       "version_major": 2,
       "version_minor": 0
      },
      "text/plain": [
       "HBox(children=(FloatProgress(value=0.0, max=51.0), HTML(value='')))"
      ]
     },
     "metadata": {},
     "output_type": "display_data"
    },
    {
     "name": "stdout",
     "output_type": "stream",
     "text": [
      "\n"
     ]
    },
    {
     "data": {
      "application/vnd.jupyter.widget-view+json": {
       "model_id": "c71e2b9209c94a669141d0cd8bfcf5ff",
       "version_major": 2,
       "version_minor": 0
      },
      "text/plain": [
       "HBox(children=(FloatProgress(value=0.0, max=1.0), HTML(value='')))"
      ]
     },
     "metadata": {},
     "output_type": "display_data"
    },
    {
     "name": "stdout",
     "output_type": "stream",
     "text": [
      "\n"
     ]
    },
    {
     "data": {
      "application/vnd.jupyter.widget-view+json": {
       "model_id": "b1c469fa60914d06876e55cca41c84ab",
       "version_major": 2,
       "version_minor": 0
      },
      "text/plain": [
       "HBox(children=(FloatProgress(value=0.0, max=21.0), HTML(value='')))"
      ]
     },
     "metadata": {},
     "output_type": "display_data"
    },
    {
     "name": "stdout",
     "output_type": "stream",
     "text": [
      "\n"
     ]
    },
    {
     "data": {
      "application/vnd.jupyter.widget-view+json": {
       "model_id": "9196920833e1434aa33444874152b7f7",
       "version_major": 2,
       "version_minor": 0
      },
      "text/plain": [
       "HBox(children=(FloatProgress(value=0.0, max=13.0), HTML(value='')))"
      ]
     },
     "metadata": {},
     "output_type": "display_data"
    },
    {
     "name": "stdout",
     "output_type": "stream",
     "text": [
      "\n"
     ]
    },
    {
     "data": {
      "application/vnd.jupyter.widget-view+json": {
       "model_id": "ba58e767dee849a2917aa6e1bc6fb928",
       "version_major": 2,
       "version_minor": 0
      },
      "text/plain": [
       "HBox(children=(FloatProgress(value=0.0, max=27.0), HTML(value='')))"
      ]
     },
     "metadata": {},
     "output_type": "display_data"
    },
    {
     "name": "stdout",
     "output_type": "stream",
     "text": [
      "\n"
     ]
    },
    {
     "data": {
      "application/vnd.jupyter.widget-view+json": {
       "model_id": "d4945f8d65764adf9d29fb00915b1334",
       "version_major": 2,
       "version_minor": 0
      },
      "text/plain": [
       "HBox(children=(FloatProgress(value=0.0, max=85.0), HTML(value='')))"
      ]
     },
     "metadata": {},
     "output_type": "display_data"
    },
    {
     "name": "stdout",
     "output_type": "stream",
     "text": [
      "\n"
     ]
    },
    {
     "data": {
      "application/vnd.jupyter.widget-view+json": {
       "model_id": "010e248e9f864855b6efa0d42f3e1d9e",
       "version_major": 2,
       "version_minor": 0
      },
      "text/plain": [
       "HBox(children=(FloatProgress(value=0.0, max=12.0), HTML(value='')))"
      ]
     },
     "metadata": {},
     "output_type": "display_data"
    },
    {
     "name": "stdout",
     "output_type": "stream",
     "text": [
      "\n"
     ]
    },
    {
     "data": {
      "application/vnd.jupyter.widget-view+json": {
       "model_id": "619e117886124086a75608f640f05e9b",
       "version_major": 2,
       "version_minor": 0
      },
      "text/plain": [
       "HBox(children=(FloatProgress(value=0.0, max=34.0), HTML(value='')))"
      ]
     },
     "metadata": {},
     "output_type": "display_data"
    },
    {
     "name": "stdout",
     "output_type": "stream",
     "text": [
      "\n"
     ]
    },
    {
     "data": {
      "application/vnd.jupyter.widget-view+json": {
       "model_id": "03e13336d9234b059ad1759d39661716",
       "version_major": 2,
       "version_minor": 0
      },
      "text/plain": [
       "HBox(children=(FloatProgress(value=0.0, max=54.0), HTML(value='')))"
      ]
     },
     "metadata": {},
     "output_type": "display_data"
    },
    {
     "name": "stdout",
     "output_type": "stream",
     "text": [
      "\n"
     ]
    },
    {
     "data": {
      "application/vnd.jupyter.widget-view+json": {
       "model_id": "f38fed1743a34d4b91a3d5078d41bfb1",
       "version_major": 2,
       "version_minor": 0
      },
      "text/plain": [
       "HBox(children=(FloatProgress(value=0.0, max=20.0), HTML(value='')))"
      ]
     },
     "metadata": {},
     "output_type": "display_data"
    },
    {
     "name": "stdout",
     "output_type": "stream",
     "text": [
      "\n"
     ]
    },
    {
     "data": {
      "application/vnd.jupyter.widget-view+json": {
       "model_id": "82866390963d4eabb1c5cefc98a7e855",
       "version_major": 2,
       "version_minor": 0
      },
      "text/plain": [
       "HBox(children=(FloatProgress(value=0.0, max=5.0), HTML(value='')))"
      ]
     },
     "metadata": {},
     "output_type": "display_data"
    },
    {
     "name": "stdout",
     "output_type": "stream",
     "text": [
      "\n"
     ]
    },
    {
     "data": {
      "application/vnd.jupyter.widget-view+json": {
       "model_id": "c940def9c9d0440f9334964cd5e25c57",
       "version_major": 2,
       "version_minor": 0
      },
      "text/plain": [
       "HBox(children=(FloatProgress(value=0.0, max=19.0), HTML(value='')))"
      ]
     },
     "metadata": {},
     "output_type": "display_data"
    },
    {
     "name": "stdout",
     "output_type": "stream",
     "text": [
      "\n"
     ]
    },
    {
     "data": {
      "application/vnd.jupyter.widget-view+json": {
       "model_id": "a129feac095c4c888dbd906c6f9efe5e",
       "version_major": 2,
       "version_minor": 0
      },
      "text/plain": [
       "HBox(children=(FloatProgress(value=0.0, max=36.0), HTML(value='')))"
      ]
     },
     "metadata": {},
     "output_type": "display_data"
    },
    {
     "name": "stdout",
     "output_type": "stream",
     "text": [
      "\n"
     ]
    },
    {
     "data": {
      "application/vnd.jupyter.widget-view+json": {
       "model_id": "377a3fbfd5bc416b886257a9194aea3e",
       "version_major": 2,
       "version_minor": 0
      },
      "text/plain": [
       "HBox(children=(FloatProgress(value=0.0, max=19.0), HTML(value='')))"
      ]
     },
     "metadata": {},
     "output_type": "display_data"
    },
    {
     "name": "stdout",
     "output_type": "stream",
     "text": [
      "\n"
     ]
    },
    {
     "data": {
      "application/vnd.jupyter.widget-view+json": {
       "model_id": "784b33271d36443a81dd370ce8c774df",
       "version_major": 2,
       "version_minor": 0
      },
      "text/plain": [
       "HBox(children=(FloatProgress(value=0.0, max=18.0), HTML(value='')))"
      ]
     },
     "metadata": {},
     "output_type": "display_data"
    },
    {
     "name": "stdout",
     "output_type": "stream",
     "text": [
      "\n"
     ]
    },
    {
     "data": {
      "application/vnd.jupyter.widget-view+json": {
       "model_id": "d102daf45d4343ec816eee0ff8dead19",
       "version_major": 2,
       "version_minor": 0
      },
      "text/plain": [
       "HBox(children=(FloatProgress(value=0.0, max=27.0), HTML(value='')))"
      ]
     },
     "metadata": {},
     "output_type": "display_data"
    },
    {
     "name": "stdout",
     "output_type": "stream",
     "text": [
      "\n"
     ]
    },
    {
     "data": {
      "application/vnd.jupyter.widget-view+json": {
       "model_id": "9d47227bfd914d6fa464651c2919fa74",
       "version_major": 2,
       "version_minor": 0
      },
      "text/plain": [
       "HBox(children=(FloatProgress(value=0.0, max=33.0), HTML(value='')))"
      ]
     },
     "metadata": {},
     "output_type": "display_data"
    },
    {
     "name": "stdout",
     "output_type": "stream",
     "text": [
      "\n"
     ]
    },
    {
     "data": {
      "application/vnd.jupyter.widget-view+json": {
       "model_id": "0c6602b4e43c4e6d865784948a3493af",
       "version_major": 2,
       "version_minor": 0
      },
      "text/plain": [
       "HBox(children=(FloatProgress(value=0.0, max=21.0), HTML(value='')))"
      ]
     },
     "metadata": {},
     "output_type": "display_data"
    },
    {
     "name": "stdout",
     "output_type": "stream",
     "text": [
      "\n"
     ]
    },
    {
     "data": {
      "application/vnd.jupyter.widget-view+json": {
       "model_id": "750ce75560134493a3a95d3da6c87d41",
       "version_major": 2,
       "version_minor": 0
      },
      "text/plain": [
       "HBox(children=(FloatProgress(value=0.0, max=43.0), HTML(value='')))"
      ]
     },
     "metadata": {},
     "output_type": "display_data"
    },
    {
     "name": "stdout",
     "output_type": "stream",
     "text": [
      "\n"
     ]
    },
    {
     "data": {
      "application/vnd.jupyter.widget-view+json": {
       "model_id": "2a29d26fe44e45129c525495af597053",
       "version_major": 2,
       "version_minor": 0
      },
      "text/plain": [
       "HBox(children=(FloatProgress(value=0.0, max=120.0), HTML(value='')))"
      ]
     },
     "metadata": {},
     "output_type": "display_data"
    },
    {
     "name": "stdout",
     "output_type": "stream",
     "text": [
      "\n"
     ]
    },
    {
     "data": {
      "application/vnd.jupyter.widget-view+json": {
       "model_id": "3f41a11b0c194a639fb8809c1b4d1f60",
       "version_major": 2,
       "version_minor": 0
      },
      "text/plain": [
       "HBox(children=(FloatProgress(value=0.0, max=99.0), HTML(value='')))"
      ]
     },
     "metadata": {},
     "output_type": "display_data"
    },
    {
     "name": "stdout",
     "output_type": "stream",
     "text": [
      "\n"
     ]
    },
    {
     "data": {
      "application/vnd.jupyter.widget-view+json": {
       "model_id": "8000cea2bc8a4876aa51d2f420da26b7",
       "version_major": 2,
       "version_minor": 0
      },
      "text/plain": [
       "HBox(children=(FloatProgress(value=0.0, max=26.0), HTML(value='')))"
      ]
     },
     "metadata": {},
     "output_type": "display_data"
    },
    {
     "name": "stdout",
     "output_type": "stream",
     "text": [
      "\n"
     ]
    },
    {
     "data": {
      "application/vnd.jupyter.widget-view+json": {
       "model_id": "1fb654ca87144c0caa7469dd2ecc7ee8",
       "version_major": 2,
       "version_minor": 0
      },
      "text/plain": [
       "HBox(children=(FloatProgress(value=0.0, max=7.0), HTML(value='')))"
      ]
     },
     "metadata": {},
     "output_type": "display_data"
    },
    {
     "name": "stdout",
     "output_type": "stream",
     "text": [
      "\n"
     ]
    },
    {
     "data": {
      "application/vnd.jupyter.widget-view+json": {
       "model_id": "d8223995cb0e458cb0807df47bdcc215",
       "version_major": 2,
       "version_minor": 0
      },
      "text/plain": [
       "HBox(children=(FloatProgress(value=0.0, max=1.0), HTML(value='')))"
      ]
     },
     "metadata": {},
     "output_type": "display_data"
    },
    {
     "name": "stdout",
     "output_type": "stream",
     "text": [
      "\n"
     ]
    },
    {
     "data": {
      "application/vnd.jupyter.widget-view+json": {
       "model_id": "9673038389bd4ddabec8a9e109ba7099",
       "version_major": 2,
       "version_minor": 0
      },
      "text/plain": [
       "HBox(children=(FloatProgress(value=0.0, max=11.0), HTML(value='')))"
      ]
     },
     "metadata": {},
     "output_type": "display_data"
    },
    {
     "name": "stdout",
     "output_type": "stream",
     "text": [
      "\n"
     ]
    },
    {
     "data": {
      "application/vnd.jupyter.widget-view+json": {
       "model_id": "a9e01f87a03445918f88d96966c6b34d",
       "version_major": 2,
       "version_minor": 0
      },
      "text/plain": [
       "HBox(children=(FloatProgress(value=0.0, max=2.0), HTML(value='')))"
      ]
     },
     "metadata": {},
     "output_type": "display_data"
    },
    {
     "name": "stdout",
     "output_type": "stream",
     "text": [
      "\n"
     ]
    },
    {
     "data": {
      "application/vnd.jupyter.widget-view+json": {
       "model_id": "744c870ec7c84870b50303ddd9ba7e67",
       "version_major": 2,
       "version_minor": 0
      },
      "text/plain": [
       "HBox(children=(FloatProgress(value=0.0, max=2.0), HTML(value='')))"
      ]
     },
     "metadata": {},
     "output_type": "display_data"
    },
    {
     "name": "stdout",
     "output_type": "stream",
     "text": [
      "\n"
     ]
    },
    {
     "data": {
      "application/vnd.jupyter.widget-view+json": {
       "model_id": "dd1818fb0d4b4fc6b79e6182252cee39",
       "version_major": 2,
       "version_minor": 0
      },
      "text/plain": [
       "HBox(children=(FloatProgress(value=0.0, max=2.0), HTML(value='')))"
      ]
     },
     "metadata": {},
     "output_type": "display_data"
    },
    {
     "name": "stdout",
     "output_type": "stream",
     "text": [
      "\n"
     ]
    },
    {
     "data": {
      "application/vnd.jupyter.widget-view+json": {
       "model_id": "64d6248a83d346aaaac2970af2fe9563",
       "version_major": 2,
       "version_minor": 0
      },
      "text/plain": [
       "HBox(children=(FloatProgress(value=0.0, max=4.0), HTML(value='')))"
      ]
     },
     "metadata": {},
     "output_type": "display_data"
    },
    {
     "name": "stdout",
     "output_type": "stream",
     "text": [
      "\n"
     ]
    },
    {
     "data": {
      "application/vnd.jupyter.widget-view+json": {
       "model_id": "2d1fe301010d4dd19b0d8ceebb6a7c99",
       "version_major": 2,
       "version_minor": 0
      },
      "text/plain": [
       "HBox(children=(FloatProgress(value=0.0, max=5.0), HTML(value='')))"
      ]
     },
     "metadata": {},
     "output_type": "display_data"
    },
    {
     "name": "stdout",
     "output_type": "stream",
     "text": [
      "\n"
     ]
    },
    {
     "data": {
      "application/vnd.jupyter.widget-view+json": {
       "model_id": "c0d7a1ab6a55430dbf15a236bb67d8e8",
       "version_major": 2,
       "version_minor": 0
      },
      "text/plain": [
       "HBox(children=(FloatProgress(value=0.0, max=5.0), HTML(value='')))"
      ]
     },
     "metadata": {},
     "output_type": "display_data"
    },
    {
     "name": "stdout",
     "output_type": "stream",
     "text": [
      "\n"
     ]
    },
    {
     "data": {
      "application/vnd.jupyter.widget-view+json": {
       "model_id": "3ec2c54bd1bb48f98286f7b56767ca1f",
       "version_major": 2,
       "version_minor": 0
      },
      "text/plain": [
       "HBox(children=(FloatProgress(value=0.0, max=2.0), HTML(value='')))"
      ]
     },
     "metadata": {},
     "output_type": "display_data"
    },
    {
     "name": "stdout",
     "output_type": "stream",
     "text": [
      "\n"
     ]
    },
    {
     "data": {
      "application/vnd.jupyter.widget-view+json": {
       "model_id": "1cab9d77b25946b4b841f26eea65fee9",
       "version_major": 2,
       "version_minor": 0
      },
      "text/plain": [
       "HBox(children=(FloatProgress(value=0.0, max=13.0), HTML(value='')))"
      ]
     },
     "metadata": {},
     "output_type": "display_data"
    },
    {
     "name": "stdout",
     "output_type": "stream",
     "text": [
      "\n"
     ]
    },
    {
     "data": {
      "application/vnd.jupyter.widget-view+json": {
       "model_id": "df4f4a452c7d4679bbf206cb04a7155b",
       "version_major": 2,
       "version_minor": 0
      },
      "text/plain": [
       "HBox(children=(FloatProgress(value=0.0, max=7.0), HTML(value='')))"
      ]
     },
     "metadata": {},
     "output_type": "display_data"
    },
    {
     "name": "stdout",
     "output_type": "stream",
     "text": [
      "\n"
     ]
    },
    {
     "data": {
      "application/vnd.jupyter.widget-view+json": {
       "model_id": "bbbabb0ed93b46ef8ec00a89908d625e",
       "version_major": 2,
       "version_minor": 0
      },
      "text/plain": [
       "HBox(children=(FloatProgress(value=0.0, max=6.0), HTML(value='')))"
      ]
     },
     "metadata": {},
     "output_type": "display_data"
    },
    {
     "name": "stdout",
     "output_type": "stream",
     "text": [
      "\n"
     ]
    },
    {
     "data": {
      "application/vnd.jupyter.widget-view+json": {
       "model_id": "73c172b0a9be44b4bf0b1c8b0b7897de",
       "version_major": 2,
       "version_minor": 0
      },
      "text/plain": [
       "HBox(children=(FloatProgress(value=0.0, max=1.0), HTML(value='')))"
      ]
     },
     "metadata": {},
     "output_type": "display_data"
    },
    {
     "name": "stdout",
     "output_type": "stream",
     "text": [
      "\n"
     ]
    },
    {
     "data": {
      "application/vnd.jupyter.widget-view+json": {
       "model_id": "90afcd5e1e2244719e9bfe15e08c187d",
       "version_major": 2,
       "version_minor": 0
      },
      "text/plain": [
       "HBox(children=(FloatProgress(value=0.0, max=17.0), HTML(value='')))"
      ]
     },
     "metadata": {},
     "output_type": "display_data"
    },
    {
     "name": "stdout",
     "output_type": "stream",
     "text": [
      "\n"
     ]
    },
    {
     "data": {
      "application/vnd.jupyter.widget-view+json": {
       "model_id": "ab9e4142a573457a862b4544132a6681",
       "version_major": 2,
       "version_minor": 0
      },
      "text/plain": [
       "HBox(children=(FloatProgress(value=0.0, max=13.0), HTML(value='')))"
      ]
     },
     "metadata": {},
     "output_type": "display_data"
    },
    {
     "name": "stdout",
     "output_type": "stream",
     "text": [
      "\n"
     ]
    },
    {
     "data": {
      "application/vnd.jupyter.widget-view+json": {
       "model_id": "53f521a3a9fe4bf8967d6a963a1a6798",
       "version_major": 2,
       "version_minor": 0
      },
      "text/plain": [
       "HBox(children=(FloatProgress(value=0.0, max=1.0), HTML(value='')))"
      ]
     },
     "metadata": {},
     "output_type": "display_data"
    },
    {
     "name": "stdout",
     "output_type": "stream",
     "text": [
      "\n"
     ]
    },
    {
     "data": {
      "application/vnd.jupyter.widget-view+json": {
       "model_id": "194d3b73e6c1427a87ae189139a6e849",
       "version_major": 2,
       "version_minor": 0
      },
      "text/plain": [
       "HBox(children=(FloatProgress(value=0.0, max=1.0), HTML(value='')))"
      ]
     },
     "metadata": {},
     "output_type": "display_data"
    },
    {
     "name": "stdout",
     "output_type": "stream",
     "text": [
      "\n"
     ]
    },
    {
     "data": {
      "application/vnd.jupyter.widget-view+json": {
       "model_id": "1aa18e418a3e4915aa5cab7eed58419a",
       "version_major": 2,
       "version_minor": 0
      },
      "text/plain": [
       "HBox(children=(FloatProgress(value=0.0, max=7.0), HTML(value='')))"
      ]
     },
     "metadata": {},
     "output_type": "display_data"
    },
    {
     "name": "stdout",
     "output_type": "stream",
     "text": [
      "\n"
     ]
    },
    {
     "data": {
      "application/vnd.jupyter.widget-view+json": {
       "model_id": "7c44631f06d3406690bd5a6e5433dcfa",
       "version_major": 2,
       "version_minor": 0
      },
      "text/plain": [
       "HBox(children=(FloatProgress(value=0.0, max=1.0), HTML(value='')))"
      ]
     },
     "metadata": {},
     "output_type": "display_data"
    },
    {
     "name": "stdout",
     "output_type": "stream",
     "text": [
      "\n"
     ]
    },
    {
     "data": {
      "application/vnd.jupyter.widget-view+json": {
       "model_id": "aa4ca664b7bf46dea4ca102b48f1a648",
       "version_major": 2,
       "version_minor": 0
      },
      "text/plain": [
       "HBox(children=(FloatProgress(value=0.0, max=14.0), HTML(value='')))"
      ]
     },
     "metadata": {},
     "output_type": "display_data"
    },
    {
     "name": "stdout",
     "output_type": "stream",
     "text": [
      "\n"
     ]
    },
    {
     "data": {
      "application/vnd.jupyter.widget-view+json": {
       "model_id": "d9e407ed6f0a41d2a17d09beb32b0393",
       "version_major": 2,
       "version_minor": 0
      },
      "text/plain": [
       "HBox(children=(FloatProgress(value=0.0, max=3.0), HTML(value='')))"
      ]
     },
     "metadata": {},
     "output_type": "display_data"
    },
    {
     "name": "stdout",
     "output_type": "stream",
     "text": [
      "\n"
     ]
    },
    {
     "data": {
      "application/vnd.jupyter.widget-view+json": {
       "model_id": "c88f98ecd7994bad9c101c76cda3cdac",
       "version_major": 2,
       "version_minor": 0
      },
      "text/plain": [
       "HBox(children=(FloatProgress(value=0.0, max=9.0), HTML(value='')))"
      ]
     },
     "metadata": {},
     "output_type": "display_data"
    },
    {
     "name": "stdout",
     "output_type": "stream",
     "text": [
      "\n"
     ]
    },
    {
     "data": {
      "application/vnd.jupyter.widget-view+json": {
       "model_id": "cf10e7ea42404735a291b7664f2cc3a5",
       "version_major": 2,
       "version_minor": 0
      },
      "text/plain": [
       "HBox(children=(FloatProgress(value=0.0, max=5.0), HTML(value='')))"
      ]
     },
     "metadata": {},
     "output_type": "display_data"
    },
    {
     "name": "stdout",
     "output_type": "stream",
     "text": [
      "\n"
     ]
    },
    {
     "data": {
      "application/vnd.jupyter.widget-view+json": {
       "model_id": "bf44f839e21048358e76aff431facb5c",
       "version_major": 2,
       "version_minor": 0
      },
      "text/plain": [
       "HBox(children=(FloatProgress(value=0.0, max=6.0), HTML(value='')))"
      ]
     },
     "metadata": {},
     "output_type": "display_data"
    },
    {
     "name": "stdout",
     "output_type": "stream",
     "text": [
      "\n"
     ]
    },
    {
     "data": {
      "application/vnd.jupyter.widget-view+json": {
       "model_id": "d49a062fa55244a4b71a876d9f61c6c6",
       "version_major": 2,
       "version_minor": 0
      },
      "text/plain": [
       "HBox(children=(FloatProgress(value=0.0, max=12.0), HTML(value='')))"
      ]
     },
     "metadata": {},
     "output_type": "display_data"
    },
    {
     "name": "stdout",
     "output_type": "stream",
     "text": [
      "\n"
     ]
    }
   ],
   "source": [
    "clusters_to_texts = {}\n",
    "huge_clusters_to_text = {}\n",
    "\n",
    "for drama in rudramas_texts[100: 110]:\n",
    "    for scene in drama:\n",
    "        try:\n",
    "            parsed_text, clusters, huge_clusters, ngrams_text = final_cluster_text(scene, \n",
    "                                                               clust_model_kmeans,\n",
    "                                                               cluster_seq_emb,\n",
    "                                                               ngram_kmeans,\n",
    "                                                               cluster_names,\n",
    "                                                               sent_to_vector_dict={})\n",
    "            for clust, rep in list(zip(clusters, [list(p[1])[0] for p in parsed_text])):\n",
    "                if clust in clusters_to_texts:\n",
    "                    clusters_to_texts[clust] = clusters_to_texts[clust] + [rep]\n",
    "                else:\n",
    "                    clusters_to_texts[clust] = [rep]\n",
    "                    \n",
    "            for clust, reps in list(zip(huge_clusters, ngrams_text)):\n",
    "                if clust in huge_clusters_to_text:\n",
    "                    huge_clusters_to_text[clust] = huge_clusters_to_text[clust] + [reps]\n",
    "                else:\n",
    "                    huge_clusters_to_text[clust] = [reps]\n",
    "        except:\n",
    "            pass"
   ]
  },
  {
   "cell_type": "code",
   "execution_count": 107,
   "metadata": {
    "scrolled": false
   },
   "outputs": [
    {
     "name": "stdout",
     "output_type": "stream",
     "text": [
      "Комбинация коротких вопросов и ответов\n",
      "\n",
      "Так не соизволите ли, ваше высокорейсграфское превосходительство, хотя рюмочку\n",
      "              рейнского или церковного?\n",
      "Нет, сударыня, благодарствую.\n",
      "Ин медку или бражки?\n",
      "====================\n",
      "====================\n",
      "====================\n",
      "\n",
      "Ин медку или бражки?\n",
      "Нет, сударыня.\n",
      "Так чем же такого дорогого гостя потчевать?\n",
      "====================\n",
      "====================\n",
      "====================\n",
      "\n",
      "Как же без этого?\n",
      "Милости просим, высокосиятельнейший граф, отведать нашей хлеба-соли.\n",
      "Выметена ли у нас горница?\n",
      "====================\n",
      "====================\n",
      "====================\n",
      "\n",
      "Хавронья, так ли это?\n",
      "Што я табе, красное мое солнышко, верна, это правда, а што граф берет ее за себя, это\n",
      "              я и сама теперь только слышу. Дай Бог ей счастие! А она этого достойна.\n",
      "Достойно и праведно.\n",
      "====================\n",
      "====================\n",
      "====================\n",
      "\n",
      "Он старый?\n",
      "Нет, ничего. Самое большее, лет сорок, сорок пять. По-видимому, славный малый. Неглуп, это – несомненно. Только говорит много.\n",
      "Интересный человек?\n",
      "====================\n",
      "====================\n",
      "====================\n",
      "\n",
      "Ты ведешь себя на три с минусом.\n",
      "А наливка вкусная. На чем это настоено?\n",
      "На тараканах.\n",
      "====================\n",
      "====================\n",
      "====================\n",
      "\n",
      "А наливка вкусная. На чем это настоено?\n",
      "На тараканах.\n",
      "Фу! Фу! Какое отвращение!..\n",
      "====================\n",
      "====================\n",
      "====================\n",
      "\n",
      "Ты что, Наташа?\n",
      "Смотрю, огня нет ли... Теперь масленица, прислуга сама не своя, гляди да и гляди,\n",
      "              чтоб чего не вышло. Вчера в полночь прохожу через столовую, а там свеча горит. Кто\n",
      "              зажег, так и не добилась толку. Который час?\n",
      "Девятого четверть.\n",
      "====================\n",
      "====================\n",
      "====================\n",
      "\n",
      "Да.\n",
      "Отдохнуть. Устала.\n",
      "Когда вы приходите с должности, то кажетесь такой маленькой, несчастненькой...\n",
      "====================\n",
      "====================\n",
      "====================\n",
      "\n",
      "Нет.\n",
      "Очевидно, мы не понимаем друг друга. Ну, как мне убедить вас? Смейтесь! Не то что через двести или триста, но и через миллион лет жизнь останется такою же,\n",
      "              как и была; она не меняется, остается постоянною, следуя своим собственным законам, до\n",
      "              которых вам нет дела или, по крайней мере, которых вы никогда не узнаете. Перелетные\n",
      "              птицы, журавли, например, летят и летят, и какие бы мысли, высокие или малые, ни\n",
      "              бродили в их головах, все же будут лететь и не знать, зачем и куда. Они летят и будут\n",
      "              лететь, какие бы философы ни завелись среди них; и пускай философствуют, как хотят,\n",
      "              лишь бы летели...\n",
      "Все-таки смысл?\n",
      "====================\n",
      "====================\n",
      "====================\n",
      "\n",
      "Где же конфекты?\n",
      "Соленый съел.\n",
      "Все?\n",
      "====================\n",
      "====================\n",
      "====================\n",
      "\n",
      "Соленый съел.\n",
      "Все?\n",
      "Вам письмо, батюшка.\n",
      "====================\n",
      "====================\n",
      "====================\n",
      "\n",
      "Трам-там-там...\n",
      "Трам-там...\n",
      "Тра-ра-ра?\n",
      "====================\n",
      "====================\n",
      "====================\n",
      "\n",
      "Трам-там...\n",
      "Тра-ра-ра?\n",
      "Тра-та-та.\n",
      "====================\n",
      "====================\n",
      "====================\n",
      "\n",
      "Тра-ра-ра?\n",
      "Тра-та-та.\n",
      "Погорел, погорел! Весь дочиста!\n",
      "====================\n",
      "====================\n",
      "====================\n",
      "\n",
      "Ты спишь, Федор?\n",
      "А?\n",
      "Шел бы домой.\n",
      "====================\n",
      "====================\n",
      "====================\n",
      "\n",
      "Ничего... Вы любили мою мать?\n",
      "Очень.\n",
      "А она вас?\n",
      "====================\n",
      "====================\n",
      "====================\n",
      "\n",
      "Очень.\n",
      "А она вас?\n",
      "Этого я уже не помню.\n",
      "====================\n",
      "====================\n",
      "====================\n",
      "\n",
      "У кого?\n",
      "У Соленого.\n",
      "А у барона?\n",
      "====================\n",
      "====================\n",
      "====================\n",
      "\n",
      "У Соленого.\n",
      "А у барона?\n",
      "Что у барона?\n",
      "====================\n",
      "====================\n",
      "====================\n",
      "\n"
     ]
    }
   ],
   "source": [
    "clust = 1\n",
    "print(ngram_clusters_names[clust] + '\\n')\n",
    "for dialog in huge_clusters_to_text[clust][:20]:\n",
    "    print('\\n'.join(dialog))\n",
    "    print('====================\\n'*3)"
   ]
  },
  {
   "cell_type": "code",
   "execution_count": 82,
   "metadata": {},
   "outputs": [
    {
     "data": {
      "text/plain": [
       "{2: 'Рассуждения на общественные темы',\n",
       " 4: 'Комбинация из коротких вопросов и ответов',\n",
       " 6: 'Длинные рассуждения о чувствах/религии/мифологии',\n",
       " 40: 'Быстрый диалог с короткими ответами',\n",
       " 16: 'Активное действие',\n",
       " 22: 'Короткие фразы, высказывания о себе/других людях',\n",
       " 29: 'Кто-то говорит о себе'}"
      ]
     },
     "execution_count": 82,
     "metadata": {},
     "output_type": "execute_result"
    }
   ],
   "source": [
    "{clust: ngram_clusters_names[clust] for clust in\n",
    "set(huge_clusters_to_text_en).intersection(set(huge_clusters_to_text_es)).intersection(set(huge_clusters_to_text_de))}"
   ]
  },
  {
   "cell_type": "code",
   "execution_count": 223,
   "metadata": {
    "scrolled": false
   },
   "outputs": [
    {
     "name": "stdout",
     "output_type": "stream",
     "text": [
      "en\n",
      "Hold, take my sword. There's husbandry in heaven;\n",
      "Their candles are all out. Take thee that too.\n",
      "A heavy summons lies like lead upon me,\n",
      "And yet I would not sleep: merciful powers,\n",
      "Restrain in me the cursed thoughts that nature\n",
      "Gives way to in repose! \n",
      "              \n",
      "              Give me my sword.\n",
      "Who's there?\n",
      "That which hath made them drunk hath made me bold;\n",
      "What hath quenched them hath given me fire.\n",
      "Hark! Peace!\n",
      "It was the owl that shrieked, the fatal bellman,\n",
      "Which gives the stern'st good-night. He is about it:\n",
      "The doors are open; and the surfeited grooms\n",
      "Do mock their charge with snores: I have drugged their possets,\n",
      "That death and nature do contend about them,\n",
      "Whether they live or die.\n",
      "One cried “God bless us!” and “Amen” the other;\n",
      "As they had seen me with these hangman's hands.\n",
      "Listening their fear, I could not say “Amen,”\n",
      "When they did say “God bless us!”\n",
      "Methought I heard a voice cry “Sleep no more!\n",
      "Macbeth does murder sleep,” the innocent sleep,\n",
      "Sleep that knits up the ravelled sleave of care,\n",
      "The death of each day's life, sore labour's bath,\n",
      "Balm of hurt minds, great nature's second course,\n",
      "Chief nourisher in life's feast —\n",
      "Who was it that thus cried? Why, worthy thane,\n",
      "You do unbend your noble strength, to think\n",
      "So brainsickly of things. Go get some water,\n",
      "And wash this filthy witness from your hand.\n",
      "Why did you bring these daggers from the place?\n",
      "They must lie there: go carry them; and smear\n",
      "The sleepy grooms with blood.\n",
      "Infirm of purpose!\n",
      "Give me the daggers: the sleeping and the dead\n",
      "Are but as pictures: 'tis the eye of childhood\n",
      "That fears a painted devil. If he do bleed,\n",
      "I'll gild the faces of the grooms withal;\n",
      "For it must seem their guilt.\n",
      "Whence is that knocking?\n",
      "How is't with me, when every noise appalls me?\n",
      "What hands are here? ha! they pluck out mine eyes.\n",
      "Will all great Neptune's ocean wash this blood\n",
      "Clean from my hand? No, this my hand will rather\n",
      "The multitudinous seas incarnadine,\n",
      "Making the green one red.\n",
      "My hands are of your colour; but I shame\n",
      "To wear a heart so white. \n",
      "              \n",
      "              I hear a knocking\n",
      "At the south entry: retire we to our chamber:\n",
      "A little water clears us of this deed:\n",
      "How easy is it, then! Your constancy\n",
      "Hath left you unattended.\n",
      "Hark! more knocking.\n",
      "Get on your nightgown, lest occasion call us,\n",
      "And show us to be watchers. Be not lost\n",
      "So poorly in your thoughts.\n",
      "That it did, sir, i' the very throat on me: but\n",
      "I requited him for his lie; and, I think, being\n",
      "too strong for him, though he took up my legs\n",
      "sometime, yet I made a shift to cast him.\n",
      "The night has been unruly: where we lay,\n",
      "Our chimneys were blown down; and, as they say,\n",
      "Lamentings heard i' the air; strange screams of death,\n",
      "And prophesying with accents terrible\n",
      "Of dire combustion and confused events\n",
      "New hatched to the woeful time: the obscure bird\n",
      "Clamoured the livelong night: some say, the earth\n",
      "Was feverous and did shake.\n"
     ]
    }
   ],
   "source": [
    "clust = 11\n",
    "# print('ru')\n",
    "# for rep in clusters_to_texts[clust][:10]:\n",
    "#     print(rep)\n",
    "\n",
    "# print('es')\n",
    "# for rep in clusters_to_texts_es[clust][:10]:\n",
    "#     print(rep)\n",
    "    \n",
    "# print('de')\n",
    "# for rep in clusters_to_texts_de[clust][:10]:\n",
    "#     print(rep)\n",
    "    \n",
    "print('en')\n",
    "for rep in clusters_to_texts_en[clust][:10]:\n",
    "    print(rep)"
   ]
  },
  {
   "cell_type": "code",
   "execution_count": 126,
   "metadata": {},
   "outputs": [
    {
     "data": {
      "text/plain": [
       "50"
      ]
     },
     "execution_count": 126,
     "metadata": {},
     "output_type": "execute_result"
    }
   ],
   "source": [
    "len(huge_clusters_to_text)"
   ]
  },
  {
   "cell_type": "code",
   "execution_count": 119,
   "metadata": {},
   "outputs": [
    {
     "name": "stdout",
     "output_type": "stream",
     "text": [
      "ru\n",
      "\n",
      "Решетчаты-е!\n",
      "\n",
      "Черт возьми, давайте выпьем. Андрюша, давайте выпьем на ты. И я с тобой, Андрюша, в\n",
      "              Москву, в университет.\n",
      "\n",
      "В какой? В Москве два университета.\n",
      "\n",
      "=================================\n",
      "\n",
      "es\n",
      "\n",
      "¡Su nombre!\n",
      "\n",
      "tío Lesmes\n",
      "¡El !\n",
      "\n",
      "tío Lesmes\n",
      "tío Lesmes\n",
      "¡El ! ¿Ha estado aquí el ?... ¿Pero dónde está, dónde?\n",
      "\n",
      "=================================\n",
      "\n",
      "de\n"
     ]
    },
    {
     "ename": "KeyError",
     "evalue": "49",
     "output_type": "error",
     "traceback": [
      "\u001b[0;31m---------------------------------------------------------------------------\u001b[0m",
      "\u001b[0;31mKeyError\u001b[0m                                  Traceback (most recent call last)",
      "\u001b[0;32m<ipython-input-119-c4142a287f60>\u001b[0m in \u001b[0;36m<module>\u001b[0;34m\u001b[0m\n\u001b[1;32m      9\u001b[0m \u001b[0mprint\u001b[0m\u001b[0;34m(\u001b[0m\u001b[0;34m'\\n=================================\\n'\u001b[0m\u001b[0;34m)\u001b[0m\u001b[0;34m\u001b[0m\u001b[0;34m\u001b[0m\u001b[0m\n\u001b[1;32m     10\u001b[0m \u001b[0mprint\u001b[0m\u001b[0;34m(\u001b[0m\u001b[0;34m'de'\u001b[0m\u001b[0;34m)\u001b[0m\u001b[0;34m\u001b[0m\u001b[0;34m\u001b[0m\u001b[0m\n\u001b[0;32m---> 11\u001b[0;31m \u001b[0;32mfor\u001b[0m \u001b[0mrep\u001b[0m \u001b[0;32min\u001b[0m \u001b[0mhuge_clusters_to_text_de\u001b[0m\u001b[0;34m[\u001b[0m\u001b[0mclust\u001b[0m\u001b[0;34m]\u001b[0m\u001b[0;34m[\u001b[0m\u001b[0;36m0\u001b[0m\u001b[0;34m]\u001b[0m\u001b[0;34m:\u001b[0m\u001b[0;34m\u001b[0m\u001b[0;34m\u001b[0m\u001b[0m\n\u001b[0m\u001b[1;32m     12\u001b[0m     \u001b[0mprint\u001b[0m\u001b[0;34m(\u001b[0m\u001b[0;34m'\\n'\u001b[0m \u001b[0;34m+\u001b[0m \u001b[0mrep\u001b[0m\u001b[0;34m)\u001b[0m\u001b[0;34m\u001b[0m\u001b[0;34m\u001b[0m\u001b[0m\n\u001b[1;32m     13\u001b[0m \u001b[0mprint\u001b[0m\u001b[0;34m(\u001b[0m\u001b[0;34m'\\n=================================\\n'\u001b[0m\u001b[0;34m)\u001b[0m\u001b[0;34m\u001b[0m\u001b[0;34m\u001b[0m\u001b[0m\n",
      "\u001b[0;31mKeyError\u001b[0m: 49"
     ]
    }
   ],
   "source": [
    "clust = 49\n",
    "print('ru')\n",
    "for rep in huge_clusters_to_text[clust][0]:\n",
    "    print('\\n' + rep)\n",
    "print('\\n=================================\\n')\n",
    "print('es')\n",
    "for rep in huge_clusters_to_text_es[clust][1]:\n",
    "    print('\\n' + rep)\n",
    "print('\\n=================================\\n')    \n",
    "print('de')\n",
    "for rep in huge_clusters_to_text_de[clust][0]:\n",
    "    print('\\n' + rep)\n",
    "print('\\n=================================\\n')    \n",
    "print('en')\n",
    "for rep in huge_clusters_to_text_en[clust][0]:\n",
    "    print('\\n' + rep)"
   ]
  },
  {
   "cell_type": "code",
   "execution_count": 245,
   "metadata": {
    "scrolled": true
   },
   "outputs": [
    {
     "data": {
      "application/vnd.jupyter.widget-view+json": {
       "model_id": "8b07ba526bc64b36ab9e74c0edabe506",
       "version_major": 2,
       "version_minor": 0
      },
      "text/plain": [
       "HBox(children=(FloatProgress(value=0.0, max=60.0), HTML(value='')))"
      ]
     },
     "metadata": {},
     "output_type": "display_data"
    },
    {
     "name": "stdout",
     "output_type": "stream",
     "text": [
      "\n"
     ]
    },
    {
     "data": {
      "application/vnd.jupyter.widget-view+json": {
       "model_id": "ef329ba2a1374088af5ce6206ad1f83a",
       "version_major": 2,
       "version_minor": 0
      },
      "text/plain": [
       "HBox(children=(FloatProgress(value=0.0, max=23.0), HTML(value='')))"
      ]
     },
     "metadata": {},
     "output_type": "display_data"
    },
    {
     "name": "stdout",
     "output_type": "stream",
     "text": [
      "\n"
     ]
    },
    {
     "data": {
      "application/vnd.jupyter.widget-view+json": {
       "model_id": "ae116ca2ed7d4ffb84d60752b8c99f87",
       "version_major": 2,
       "version_minor": 0
      },
      "text/plain": [
       "HBox(children=(FloatProgress(value=0.0, max=38.0), HTML(value='')))"
      ]
     },
     "metadata": {},
     "output_type": "display_data"
    },
    {
     "name": "stdout",
     "output_type": "stream",
     "text": [
      "\n"
     ]
    },
    {
     "data": {
      "application/vnd.jupyter.widget-view+json": {
       "model_id": "ef16f89493e94d08b81e372a016f690d",
       "version_major": 2,
       "version_minor": 0
      },
      "text/plain": [
       "HBox(children=(FloatProgress(value=0.0, max=8.0), HTML(value='')))"
      ]
     },
     "metadata": {},
     "output_type": "display_data"
    },
    {
     "name": "stdout",
     "output_type": "stream",
     "text": [
      "\n"
     ]
    },
    {
     "data": {
      "application/vnd.jupyter.widget-view+json": {
       "model_id": "a2bc884af9fe485ca1833a435a586690",
       "version_major": 2,
       "version_minor": 0
      },
      "text/plain": [
       "HBox(children=(FloatProgress(value=0.0, max=68.0), HTML(value='')))"
      ]
     },
     "metadata": {},
     "output_type": "display_data"
    },
    {
     "name": "stdout",
     "output_type": "stream",
     "text": [
      "\n"
     ]
    },
    {
     "data": {
      "application/vnd.jupyter.widget-view+json": {
       "model_id": "d3f4deb2f6cb4b6a818b454ebb8eb5a0",
       "version_major": 2,
       "version_minor": 0
      },
      "text/plain": [
       "HBox(children=(FloatProgress(value=0.0, max=33.0), HTML(value='')))"
      ]
     },
     "metadata": {},
     "output_type": "display_data"
    },
    {
     "name": "stdout",
     "output_type": "stream",
     "text": [
      "\n"
     ]
    },
    {
     "data": {
      "application/vnd.jupyter.widget-view+json": {
       "model_id": "f025f69a96f048ddbd53ffab531d5afd",
       "version_major": 2,
       "version_minor": 0
      },
      "text/plain": [
       "HBox(children=(FloatProgress(value=0.0, max=18.0), HTML(value='')))"
      ]
     },
     "metadata": {},
     "output_type": "display_data"
    },
    {
     "name": "stdout",
     "output_type": "stream",
     "text": [
      "\n"
     ]
    },
    {
     "data": {
      "application/vnd.jupyter.widget-view+json": {
       "model_id": "249ca83d4b0949848ba41fe62ffcd037",
       "version_major": 2,
       "version_minor": 0
      },
      "text/plain": [
       "HBox(children=(FloatProgress(value=0.0, max=5.0), HTML(value='')))"
      ]
     },
     "metadata": {},
     "output_type": "display_data"
    },
    {
     "name": "stdout",
     "output_type": "stream",
     "text": [
      "\n"
     ]
    },
    {
     "data": {
      "application/vnd.jupyter.widget-view+json": {
       "model_id": "4dfc5ef39712454cbd6dc44f94c4c008",
       "version_major": 2,
       "version_minor": 0
      },
      "text/plain": [
       "HBox(children=(FloatProgress(value=0.0, max=11.0), HTML(value='')))"
      ]
     },
     "metadata": {},
     "output_type": "display_data"
    },
    {
     "name": "stdout",
     "output_type": "stream",
     "text": [
      "\n"
     ]
    },
    {
     "data": {
      "application/vnd.jupyter.widget-view+json": {
       "model_id": "ee327d7d79bf4869a1e311129f365822",
       "version_major": 2,
       "version_minor": 0
      },
      "text/plain": [
       "HBox(children=(FloatProgress(value=0.0, max=48.0), HTML(value='')))"
      ]
     },
     "metadata": {},
     "output_type": "display_data"
    },
    {
     "name": "stdout",
     "output_type": "stream",
     "text": [
      "\n"
     ]
    },
    {
     "data": {
      "application/vnd.jupyter.widget-view+json": {
       "model_id": "89951d82f2ab4d8eb24496108bac9bc7",
       "version_major": 2,
       "version_minor": 0
      },
      "text/plain": [
       "HBox(children=(FloatProgress(value=0.0, max=15.0), HTML(value='')))"
      ]
     },
     "metadata": {},
     "output_type": "display_data"
    },
    {
     "name": "stdout",
     "output_type": "stream",
     "text": [
      "\n"
     ]
    },
    {
     "data": {
      "application/vnd.jupyter.widget-view+json": {
       "model_id": "5984a7b957d046a3bf081ea4b468cab5",
       "version_major": 2,
       "version_minor": 0
      },
      "text/plain": [
       "HBox(children=(FloatProgress(value=0.0, max=8.0), HTML(value='')))"
      ]
     },
     "metadata": {},
     "output_type": "display_data"
    },
    {
     "name": "stdout",
     "output_type": "stream",
     "text": [
      "\n"
     ]
    },
    {
     "data": {
      "application/vnd.jupyter.widget-view+json": {
       "model_id": "ca992ddd60b44ca3928a9cd2209b4109",
       "version_major": 2,
       "version_minor": 0
      },
      "text/plain": [
       "HBox(children=(FloatProgress(value=0.0, max=65.0), HTML(value='')))"
      ]
     },
     "metadata": {},
     "output_type": "display_data"
    },
    {
     "name": "stdout",
     "output_type": "stream",
     "text": [
      "\n"
     ]
    }
   ],
   "source": [
    "romeo_pic = []\n",
    "\n",
    "for act in romeo:\n",
    "    for scene in act:\n",
    "        try:\n",
    "            parsed_text, clusters, huge_clusters, ngrams_text = final_cluster_text(scene, \n",
    "                                                                                   clust_model_kmeans,\n",
    "                                                                                   cluster_seq_emb,\n",
    "                                                                                   ngram_kmeans,\n",
    "                                                                                   cluster_names,\n",
    "                                                                                   sent_to_vector_dict={})\n",
    "            if len(clusters) > 0:\n",
    "                part_vec = list(np.sum([to_categorical(cl, 50) for cl in clusters], axis=0))\n",
    "                romeo_pic.append(list(normalize([part_vec])[0]))\n",
    "        except:\n",
    "            pass\n",
    "    \n",
    "romeo_pic = resize(np.array(romeo_pic), (5, 50))"
   ]
  },
  {
   "cell_type": "code",
   "execution_count": 252,
   "metadata": {},
   "outputs": [],
   "source": [
    "r_m_pic = list(romeo_pic) + [([0.0] * 50)] + list(macbeth_pic)"
   ]
  },
  {
   "cell_type": "code",
   "execution_count": 258,
   "metadata": {},
   "outputs": [
    {
     "data": {
      "text/plain": [
       "{0: 'Вопрос',\n",
       " 1: 'Эмоциональное высказывание',\n",
       " 2: 'Действие/призыв к действию',\n",
       " 3: 'Брат/сестра',\n",
       " 4: 'Высказывание о себе или других людях',\n",
       " 5: 'Короткий ответ',\n",
       " 6: 'Хозяйство/еда/время',\n",
       " 7: 'Шутки/смех/обида',\n",
       " 8: 'Вера/обещание/прощение',\n",
       " 9: 'Вопрос(может эмоциональный)',\n",
       " 10: 'Молчание/разговор',\n",
       " 11: 'Чувство/религия/мифология',\n",
       " 12: '\"Вижу\"(описание/вопрос)',\n",
       " 13: 'Эмоциональное восклицание',\n",
       " 14: 'Короткий ответ',\n",
       " 15: 'Короткий ответ с отрицательной частицей',\n",
       " 16: 'Эмоциональное высказывние/вопрос',\n",
       " 17: 'Фраза с троеточием(эмоция)',\n",
       " 18: 'Благодарность/радость/поздравление',\n",
       " 19: 'Короткий вопрос',\n",
       " 20: 'Обращение по имени отчеству',\n",
       " 21: 'Быт/передвижения',\n",
       " 22: 'Князь/царь/король/власть',\n",
       " 23: 'Мнение/действие',\n",
       " 24: 'Семейный отношения(Бог как отец)',\n",
       " 25: 'Короткая фраза с троеточием',\n",
       " 26: 'О знании ;',\n",
       " 27: 'О женщине',\n",
       " 28: 'О действии',\n",
       " 29: 'О передвижении',\n",
       " 30: 'Свадьба/жених/невеста',\n",
       " 31: 'К матери/о матери',\n",
       " 32: 'Эмоциональное высказывание',\n",
       " 33: 'О деньгах',\n",
       " 34: 'Мнение о человеке/людях/группе лиц',\n",
       " 35: 'Короткое восклицание/ ответ (слово вот)',\n",
       " 36: 'Отрицательный ответ/восклицание',\n",
       " 37: 'Прощание/просьба прощения/стыд',\n",
       " 38: 'Вопрос-уточнение',\n",
       " 39: 'Вопрос территориальный ',\n",
       " 40: 'Обращение/восклицание',\n",
       " 41: 'О любви',\n",
       " 42: 'О себе (действие)',\n",
       " 43: 'Короткая фраза/вопрос с отрицанием',\n",
       " 44: 'О себе',\n",
       " 45: 'Короткий утвердительный ответ/ короткий вопрос',\n",
       " 46: 'Общественно-бытовая тема',\n",
       " 47: 'Длинное рассуждение (о высоких темах)',\n",
       " 48: 'Мнение о собеседнике',\n",
       " 49: 'О жене/муже/отношениях'}"
      ]
     },
     "execution_count": 258,
     "metadata": {},
     "output_type": "execute_result"
    }
   ],
   "source": [
    "cluster_names[36] = 'Отрицательный ответ/восклицание'\n",
    "cluster_names\n"
   ]
  },
  {
   "cell_type": "code",
   "execution_count": 273,
   "metadata": {},
   "outputs": [
    {
     "name": "stdout",
     "output_type": "stream",
     "text": [
      "Чувство/религия/мифология\n",
      "Чувство/религия/мифология\n",
      "Чувство/религия/мифология\n",
      "Чувство/религия/мифология\n",
      "Чувство/религия/мифология\n"
     ]
    },
    {
     "data": {
      "image/png": "[encoded data removed]",
      "text/plain": [
       "<Figure size 360x576 with 4 Axes>"
      ]
     },
     "metadata": {},
     "output_type": "display_data"
    },
    {
     "data": {
      "text/plain": [
       "<Figure size 432x288 with 0 Axes>"
      ]
     },
     "metadata": {},
     "output_type": "display_data"
    }
   ],
   "source": [
    "drama_pic_to_draw = romeo_pic\n",
    "sns.set(font_scale=1.5)\n",
    "for theme in [cluster_names[np.argmax(line)] for line in drama_pic_to_draw]:\n",
    "    print(theme)\n",
    "fig, axes = plt.subplots(1, 2)\n",
    "fig.set_size_inches(5, 8)\n",
    "cl_names_list = [v for _, v in sorted(cluster_names.items(), key=lambda item: item[0])]\n",
    "max_value = np.max(normalize(drama_pic_to_draw))\n",
    "hm = sns.heatmap(np.transpose(normalize(drama_pic_to_draw))[:25],\n",
    "            yticklabels=cl_names_list[:25],\n",
    "            xticklabels=['Начало', '', 'Середина', '' , 'Конец'], ax=axes[0], \n",
    "            vmin=.0, vmax=max_value, cbar_kws = dict(use_gridspec=False,location=\"top\"))\n",
    "hm.set_xticklabels(hm.get_xticklabels(), rotation=270, horizontalalignment='left')\n",
    "hm.set_yticklabels(hm.get_yticklabels(), rotation=0, horizontalalignment='right')\n",
    "\n",
    "hm = sns.heatmap(np.transpose(normalize(drama_pic_to_draw))[25:],\n",
    "            yticklabels=cl_names_list[25:],\n",
    "            xticklabels=['Начало', '', 'Середина', '' , 'Конец'], ax=axes[1],\n",
    "            vmin=.0, vmax=max_value, cbar_kws = dict(use_gridspec=False,location=\"top\"))\n",
    "hm.set_xticklabels(hm.get_xticklabels(), rotation=270, horizontalalignment='center')\n",
    "hm.set_yticklabels(hm.get_yticklabels(), rotation=0, horizontalalignment='left')\n",
    "hm.yaxis.tick_right()\n",
    "plt.show()\n",
    "plt.clf()"
   ]
  },
  {
   "cell_type": "code",
   "execution_count": 271,
   "metadata": {},
   "outputs": [],
   "source": [
    "cluster_names[45] = 'Короткий утвердительный ответ/вопрос'"
   ]
  },
  {
   "cell_type": "code",
   "execution_count": 195,
   "metadata": {},
   "outputs": [
    {
     "name": "stdout",
     "output_type": "stream",
     "text": [
      "-- Ряженые! \\\\\n",
      "-- Скажи, нянечка, дома нет никого. Пусть извинят. \\\\\n",
      "-- Никого нет... А где же все? \\\\\n"
     ]
    }
   ],
   "source": [
    "for rep in huge_clusters_to_text[49][1]:\n",
    "        print('-- {} \\\\\\\\'.format(rep))"
   ]
  },
  {
   "cell_type": "code",
   "execution_count": 191,
   "metadata": {},
   "outputs": [
    {
     "data": {
      "text/plain": [
       "{19: 'Диалог о семье/любви/свадьбе',\n",
       " 33: 'Диалог из вопросов и ответов (в основном вопрос-ответ-вопрос)',\n",
       " 7: 'Один из персонажей говорит, а второй немного вмешивается в диалог',\n",
       " 11: 'Обмен информации, запрос на информацию (о знании)',\n",
       " 21: 'Разговор о матери/с матью',\n",
       " 18: 'Разговор о том что можно/нельзя или возможно/невозможно',\n",
       " 42: 'О свадьбе',\n",
       " 16: 'Активное действие',\n",
       " 13: 'Один/оба говорят о себе, своем положении/действиях',\n",
       " 6: 'Длинные рассуждения о чувствах/религии/мифологии',\n",
       " 14: 'Комбинации из коротких вопросов и ответов',\n",
       " 30: 'Шутки/смех/обида',\n",
       " 44: 'Комбинации из коротких вопросов и ответов',\n",
       " 0: 'Про передвижение в пространстве (в основном короткие фразы)',\n",
       " 8: 'Комбинации из коротких вопросов и ответов',\n",
       " 4: 'Комбинация из коротких вопросов и ответов',\n",
       " 27: 'Длинные диалоги про общество/страну/общественное положение/работу/быт',\n",
       " 48: 'Описания',\n",
       " 36: 'Быстрое действие (короткие и эмоциональные фразы)',\n",
       " 25: 'Рассказ о себе/других людях',\n",
       " 26: 'Диалог, где один из персонажей говорит о себе',\n",
       " 28: 'Фразы с троеточиями',\n",
       " 23: 'Действие, короткие эмоциональные фразы',\n",
       " 43: 'Быт и деньги',\n",
       " 22: 'Короткие фразы, высказывания о себе/других людях',\n",
       " 12: 'О движении/местонахождени',\n",
       " 45: 'Короткие вопросы/ответы на тему передвижений',\n",
       " 46: 'Активное действие (призывы к действию)',\n",
       " 2: 'Рассуждения на общественные темы',\n",
       " 17: 'Длинные рассуждения на разные темы',\n",
       " 15: 'Активное действие',\n",
       " 35: 'О любви',\n",
       " 20: 'Женщины/быт/дом',\n",
       " 39: 'Высказывание различных мнений о людях',\n",
       " 29: 'Кто-то говорит о себе',\n",
       " 31: 'Вера/обещание/прощение',\n",
       " 5: 'Диалоги из коротких вопросов и ответов',\n",
       " 41: 'Диалог с короткими эмоциональными фразами',\n",
       " 37: 'Короткие вопросы и ответы',\n",
       " 40: 'Быстрый диалог с короткими ответами',\n",
       " 47: 'Быстрый диалог с короткими эмоциональными фразами',\n",
       " 38: 'Разговор о прошлом/будущем/нынешнем разговоре',\n",
       " 24: 'Обмен личными мнениями о ситуации',\n",
       " 32: 'Фразы с троеточиями, которые обрамляют/прерывают более длинные рассуждения',\n",
       " 3: 'Длинные рассуждения на высокие темы',\n",
       " 10: 'Разговор с обращениями друг к другу по имени/отчеству',\n",
       " 34: 'О власти/служении',\n",
       " 9: 'Диалог, который заканчивается короткой фразой. Зачастую бытовой',\n",
       " 1: 'Комбинация коротких вопросов и ответов',\n",
       " 49: 'Диалоги с территориальными вопросами (о движении/местонахождении)'}"
      ]
     },
     "execution_count": 191,
     "metadata": {},
     "output_type": "execute_result"
    }
   ],
   "source": [
    "ngram_clusters_names"
   ]
  },
  {
   "cell_type": "code",
   "execution_count": null,
   "metadata": {},
   "outputs": [],
   "source": []
  },
  {
   "cell_type": "code",
   "execution_count": null,
   "metadata": {},
   "outputs": [],
   "source": []
  },
  {
   "cell_type": "code",
   "execution_count": null,
   "metadata": {},
   "outputs": [],
   "source": []
  },
  {
   "cell_type": "code",
   "execution_count": 136,
   "metadata": {
    "scrolled": false
   },
   "outputs": [
    {
     "name": "stdout",
     "output_type": "stream",
     "text": [
      "0\n",
      "Название кластера: Про передвижение в пространстве (в основном короткие фразы)\\\\\n",
      "Пример: \\\\\n",
      "-- На Старой Басманной. \\\\\n",
      "-- И мы там тоже... \\\\\n",
      "-- Одно время я жил на Немецкой улице. С Немецкой улицы я хаживал в Красные казармы. Там\n",
      "              по пути угрюмый мост, под мостом вода шумит. Одинокому становится грустно на душе. А Здесь какая широкая, какая богатая река! Чудесная река! \\\\\n",
      "\n",
      "\n",
      "\n",
      "1\n",
      "Название кластера: Комбинация коротких вопросов и ответов\\\\\n",
      "Пример: \\\\\n",
      "-- Так не соизволите ли, ваше высокорейсграфское превосходительство, хотя рюмочку\n",
      "              рейнского или церковного? \\\\\n",
      "-- Нет, сударыня, благодарствую. \\\\\n",
      "-- Ин медку или бражки? \\\\\n",
      "\n",
      "\n",
      "\n",
      "2\n",
      "Название кластера: Рассуждения на общественные темы\\\\\n",
      "Пример: \\\\\n",
      "-- Фу, матка, какая любопытная. \\\\\n",
      "-- Конечно, ты балагур? \\\\\n",
      "-- А ты, душенька, так хороша, что я едаких хорошеньких мало видал. Знаешь ли ты,\n",
      "              девушка, что я в тебя смертно влюбился. \\\\\n",
      "\n",
      "\n",
      "\n",
      "3\n",
      "Название кластера: Длинные рассуждения на высокие темы\\\\\n",
      "Пример: \\\\\n",
      "-- Да я его высокой милости, покуль душа в теле, не позабуду. И коли бы он такую мне\n",
      "              многогрешной показал отеческую милость и велел бы маляру красками написать персону\n",
      "              свою, я бы ее у себя поставила пред кроватью и не спустила бы с нее глаз. \\\\\n",
      "-- Как будто слышало это мое сердце! Да почему ты знаешь его и какую сделал он тебе\n",
      "              милость? \\\\\n",
      "-- А вот, сердечушко, я тебе донесу. Как я нынешнею зимою была без тебя в Москве, так\n",
      "              расхвалили мне какую-то интермецию и уговорили меня туда съездить. Бывает и на старуху\n",
      "              проруха. Поехала, вошла я в залу, заиграли и на скрипицах, и на гобоях, и на\n",
      "              клевикортах; вышли какие-то и почали всякую всячину говорить, и уж махали, махали\n",
      "              руками, как самые куклы; потом вышел какой-то, а к нему какую-то на цепи привели\n",
      "              женщину, у которой он просил не знаю какого письма, а она отвечала, что она его\n",
      "              изодрала; вышла, ему подали золоченый кубок, а с каким напитком, этого я не знаю; этот\n",
      "              кубок отослал он к ней, и все было хорошо; потом какой-то еще пришел, поговорили\n",
      "              немного, и что-то на него нашло; как он, батька, закричит, шапка с него полетела, а он\n",
      "              и почал метаться, как угорелая кошка, да выняв нож, как прыснул себя, так я и обмерла.\n",
      "              А граф этот, сидя тогда со мною в одном чулане и разговорився прежде еще интермедии,\n",
      "              что я его соседка, меня тогда мунгальской водкой, как я от страха обмерла, от смерти\n",
      "              избавил. \\\\\n",
      "\n",
      "\n",
      "\n",
      "4\n",
      "Название кластера: Комбинация из коротких вопросов и ответов\\\\\n",
      "Пример: \\\\\n",
      "-- Какого это енарала адъютант у нас был? \\\\\n",
      "-- Не адъютант, егерь был. По-нашему, слуга, который стреляет ходя птиц. \\\\\n",
      "-- Какой слуга; весь в прозументах. \\\\\n",
      "\n",
      "\n",
      "\n",
      "5\n",
      "Название кластера: Диалоги из коротких вопросов и ответов\\\\\n",
      "Пример: \\\\\n",
      "-- Нет, сударыня, благодарствую. \\\\\n",
      "-- Ин медку или бражки? \\\\\n",
      "-- Нет, сударыня. \\\\\n",
      "\n",
      "\n",
      "\n",
      "6\n",
      "Название кластера: Длинные рассуждения о чувствах/религии/мифологии\\\\\n",
      "Пример: \\\\\n",
      "-- Хорошо, друг мой, я ей этот поклон отнесу. \\\\\n",
      "-- Вы, сударь, человек не молодой, так вам надобно спины поберегать. Я думаю, что вы\n",
      "              ненастье чувствуете? \\\\\n",
      "-- Говори, друг мой, то, зачем ты прислан, покороче. \\\\\n",
      "\n",
      "\n",
      "\n",
      "7\n",
      "Название кластера: Один из персонажей говорит, а второй немного вмешивается в диалог\\\\\n",
      "Пример: \\\\\n",
      "-- В горшечке, да в муравленом, и покройте его веницейскою тарелкой; с морковью пироги,\n",
      "              пирожки с солеными груздями, левашники с сушеною малиной, фрукасе из свинины с\n",
      "              черносливом, французский пирог из подрукавной муки, а начинка из брусничной пастилы.\n",
      "              Да есть ли у нас калужское тесто? \\\\\n",
      "-- Имеется. \\\\\n",
      "-- А сверх того сам прикажи, что варить, жарить, печь, только бы всего было довольно.\n",
      "              Салат подай не с конопляным, да с ореховым маслом. \\\\\n",
      "\n",
      "\n",
      "\n",
      "8\n",
      "Название кластера: Комбинации из коротких вопросов и ответов\\\\\n",
      "Пример: \\\\\n",
      "-- Как будто слышало это мое сердце! Да почему ты знаешь его и какую сделал он тебе\n",
      "              милость? \\\\\n",
      "-- А вот, сердечушко, я тебе донесу. Как я нынешнею зимою была без тебя в Москве, так\n",
      "              расхвалили мне какую-то интермецию и уговорили меня туда съездить. Бывает и на старуху\n",
      "              проруха. Поехала, вошла я в залу, заиграли и на скрипицах, и на гобоях, и на\n",
      "              клевикортах; вышли какие-то и почали всякую всячину говорить, и уж махали, махали\n",
      "              руками, как самые куклы; потом вышел какой-то, а к нему какую-то на цепи привели\n",
      "              женщину, у которой он просил не знаю какого письма, а она отвечала, что она его\n",
      "              изодрала; вышла, ему подали золоченый кубок, а с каким напитком, этого я не знаю; этот\n",
      "              кубок отослал он к ней, и все было хорошо; потом какой-то еще пришел, поговорили\n",
      "              немного, и что-то на него нашло; как он, батька, закричит, шапка с него полетела, а он\n",
      "              и почал метаться, как угорелая кошка, да выняв нож, как прыснул себя, так я и обмерла.\n",
      "              А граф этот, сидя тогда со мною в одном чулане и разговорився прежде еще интермедии,\n",
      "              что я его соседка, меня тогда мунгальской водкой, как я от страха обмерла, от смерти\n",
      "              избавил. \\\\\n",
      "-- А хорош граф-ат? \\\\\n",
      "\n",
      "\n",
      "\n",
      "9\n",
      "Название кластера: Диалог, который заканчивается короткой фразой. Зачастую бытовой\\\\\n",
      "Пример: \\\\\n",
      "-- Его сиятельство! \\\\\n",
      "-- А что? Разве он тебе знаком? \\\\\n",
      "-- Да я его высокой милости, покуль душа в теле, не позабуду. И коли бы он такую мне\n",
      "              многогрешной показал отеческую милость и велел бы маляру красками написать персону\n",
      "              свою, я бы ее у себя поставила пред кроватью и не спустила бы с нее глаз. \\\\\n",
      "\n",
      "\n",
      "\n",
      "10\n",
      "Название кластера: Разговор с обращениями друг к другу по имени/отчеству\\\\\n",
      "Пример: \\\\\n",
      "-- Одной рукой я поднимаю только полтора пуда, а двумя пять, даже шесть пудов. Из этого\n",
      "              я заключаю, что два человека сильнее одного не вдвое, а втрое, даже больше... \\\\\n",
      "-- При выпадении волос... два золотника нафталина на полбутылки спирта... растворить и\n",
      "              употреблять ежедневно... Запишем-с! Так вот, я говорю вам, пробочка втыкается в бутылочку, и сквозь нее проходит\n",
      "              стеклянная трубочка... Потом вы берете щепоточку самых простых, обыкновеннейших\n",
      "              квасцов... \\\\\n",
      "-- Иван Романыч, милый Иван Романыч! \\\\\n",
      "\n",
      "\n",
      "\n",
      "11\n",
      "Название кластера: Обмен информации, запрос на информацию (о знании)\\\\\n",
      "Пример: \\\\\n",
      "-- Да он ее и не знает. \\\\\n",
      "-- Он сосед ваш, так ему известно имя вашей сожите... супру... ну как ни есть. \\\\\n",
      "-- Почему известно? \\\\\n",
      "\n",
      "\n",
      "\n",
      "12\n",
      "Название кластера: О движении/местонахождени\\\\\n",
      "Пример: \\\\\n",
      "-- Да, это ужасно. Он всегда делает глупости. \\\\\n",
      "-- У лукоморья дуб зеленый, златая цепь на дубе том... Златая цепь на дубе том... \\\\\n",
      "-- Ты сегодня невеселая, Маша. Куда ты? \\\\\n",
      "\n",
      "\n",
      "\n",
      "13\n",
      "Название кластера: Один/оба говорят о себе, своем положении/действиях\\\\\n",
      "Пример: \\\\\n",
      "-- Это уж очень низко. \\\\\n",
      "-- Нижайшего поклона ничего нет ниже. А что всенижайший поклон, этого я уже и не\n",
      "              понимаю. \\\\\n",
      "-- Что тебе еще приказано? \\\\\n",
      "\n",
      "\n",
      "\n",
      "14\n",
      "Название кластера: Комбинации из коротких вопросов и ответов\\\\\n",
      "Пример: \\\\\n",
      "-- Уже студеное на стол, сударь, поставили. \\\\\n",
      "-- Я тебе этого не приказывала. \\\\\n",
      "-- Как же без этого? \\\\\n",
      "\n",
      "\n",
      "\n",
      "15\n",
      "Название кластера: Активное действие\\\\\n",
      "Пример: \\\\\n",
      "-- Он еще в постеле. Да от кого ты прислан и зачем? \\\\\n",
      "-- К кому я прислан, тому я и скажу, от кого я прислан и зачем. \\\\\n",
      "-- Фу, батька, какой спесивый! \\\\\n",
      "\n",
      "\n",
      "\n",
      "16\n",
      "Название кластера: Активное действие\\\\\n",
      "Пример: \\\\\n",
      "-- А ты, душенька, так хороша, что я едаких хорошеньких мало видал. Знаешь ли ты,\n",
      "              девушка, что я в тебя смертно влюбился. \\\\\n",
      "-- Перестань же балагурить-то. \\\\\n",
      "-- Какое балагурство! Ежели это ложь, так ты повесь меня. \\\\\n",
      "\n",
      "\n",
      "\n",
      "17\n",
      "Название кластера: Длинные рассуждения на разные темы\\\\\n",
      "Пример: \\\\\n",
      "-- У себя ли, девушка, господин ваш? \\\\\n",
      "-- Он еще в постеле. Да от кого ты прислан и зачем? \\\\\n",
      "-- К кому я прислан, тому я и скажу, от кого я прислан и зачем. \\\\\n",
      "\n",
      "\n",
      "\n",
      "18\n",
      "Название кластера: Разговор о том что можно/нельзя или возможно/невозможно\\\\\n",
      "Пример: \\\\\n",
      "-- А севодни ты отменно печальна. \\\\\n",
      "-- Когда другие веселятся или ко приятному препровождению времени изготовляются, тогда я\n",
      "              обыкновенно печальнее, воображая себе, что меня судьбина к бедности и к унынию\n",
      "              произвела на свет. \\\\\n",
      "-- Может быти, что твоя жизнь и пременится когда-нибудь. \\\\\n",
      "\n",
      "\n",
      "\n",
      "19\n",
      "Название кластера: Диалог о семье/любви/свадьбе\\\\\n",
      "Пример: \\\\\n",
      "-- Не к тому клонится. \\\\\n",
      "-- Еще ты молода; так может быть, выйдешь за такого мужа, который все твои нынешние\n",
      "              грусти превратит в веселость. \\\\\n",
      "-- Достойного жениха скудной или, лучше сказать, неимущей девке трудно иметь: скудный и\n",
      "              достойный меня не возьмет, а за недостойного богача я не пойду. \\\\\n",
      "\n",
      "\n",
      "\n",
      "20\n",
      "Название кластера: Женщины/быт/дом\\\\\n",
      "Пример: \\\\\n",
      "-- Нет, братец, помещик я, а не она. А ей принадлежит только седьмая часть из\n",
      "              недвижимого моего имения. И то еще тогда достанется ей, ежели она меня переживет. \\\\\n",
      "-- Мне приказано и ей отдать нижайший поклон. \\\\\n",
      "-- Хорошо, друг мой, я ей этот поклон отнесу. \\\\\n",
      "\n",
      "\n",
      "\n",
      "21\n",
      "Название кластера: Разговор о матери/с матью\\\\\n",
      "Пример: \\\\\n",
      "-- К кому я прислан, тому я и скажу, от кого я прислан и зачем. \\\\\n",
      "-- Фу, батька, какой спесивый! \\\\\n",
      "-- Фу, матка, какая любопытная. \\\\\n",
      "\n",
      "\n",
      "\n",
      "22\n",
      "Название кластера: Короткие фразы, высказывания о себе/других людях\\\\\n",
      "Пример: \\\\\n",
      "-- Хотя и не богатый... Да зачем и от кого ты прислан? \\\\\n",
      "-- Я прислан от графа Касандра к вашему здоровью. Граф приказал вам нижайший отдать\n",
      "              поклон. \\\\\n",
      "-- Это уж очень низко. \\\\\n",
      "\n",
      "\n",
      "\n",
      "23\n",
      "Название кластера: Действие, короткие эмоциональные фразы\\\\\n",
      "Пример: \\\\\n",
      "-- Какой слуга; весь в прозументах. \\\\\n",
      "-- Ныне у господ такой манер. Это был егерь от графа Касандра: его сиятельство к нам\n",
      "              заехать изволит. \\\\\n",
      "-- Его сиятельство! \\\\\n",
      "\n",
      "\n",
      "\n",
      "24\n",
      "Название кластера: Обмен длинными рассуждениями\\\\\n",
      "Пример: \\\\\n",
      "-- Жена, кто говорит о ревности. \\\\\n",
      "-- Что это меня прорвало! Да полно, конь о четырех ногах, да и тот спотыкается, а я баба\n",
      "              безграмотная, так как не промолвиться. \\\\\n",
      "-- Да ты не в слове, да в деле промолвилася. \\\\\n",
      "\n",
      "\n",
      "\n",
      "25\n",
      "Название кластера: Рассказ о себе/других людях\\\\\n",
      "Пример: \\\\\n",
      "-- Титулуй как хочешь. Да что графу до моей жены? \\\\\n",
      "-- То дело, чтобы засвидетельствовать ей свое почтение. \\\\\n",
      "-- Да он ее и не знает. \\\\\n",
      "\n",
      "\n",
      "\n",
      "26\n",
      "Название кластера: Диалог, где один из персонажей говорит о себе\\\\\n",
      "Пример: \\\\\n",
      "-- Жена, держи это про себя. \\\\\n",
      "-- Чаво про себя? Это стыд да сором. \\\\\n",
      "-- Не болтай же, мое сокровище, алмазной мой камышек. \\\\\n",
      "\n",
      "\n",
      "\n",
      "27\n",
      "Название кластера: Длинные диалоги про общество/страну/общественное положение/работу/быт\\\\\n",
      "Пример: \\\\\n",
      "-- Я прислан от графа Касандра к вашему сия... к вашему превосхо... к вашему высоко...\n",
      "              Какого, сударь, вы чина? \\\\\n",
      "-- Что тебе, братец, до моего чина? Какого ни есть. \\\\\n",
      "-- Я прислан от графа Касандра к вашему высокоблаго... Вить вы, сударь, имеете майорский\n",
      "              чин? \\\\\n",
      "\n",
      "\n",
      "\n",
      "28\n",
      "Название кластера: Фразы с троеточиями\\\\\n",
      "Пример: \\\\\n",
      "-- Что, девочка моя, радость моя? \\\\\n",
      "-- Скажите мне, отчего я сегодня так счастлива? Точно я на парусах, надо мной широкое\n",
      "              голубое небо и носятся большие белые птицы. Отчего это? Отчего? \\\\\n",
      "-- Птица моя белая... \\\\\n",
      "\n",
      "\n",
      "\n",
      "29\n",
      "Название кластера: Кто-то говорит о себе\\\\\n",
      "Пример: \\\\\n",
      "-- Он сосед ваш, так ему известно имя вашей сожите... супру... ну как ни есть. \\\\\n",
      "-- Почему известно? \\\\\n",
      "-- Потому что она здешняя помещица. \\\\\n",
      "\n",
      "\n",
      "\n",
      "30\n",
      "Название кластера: Шутки/смех/обида\\\\\n",
      "Пример: \\\\\n",
      "-- Да опять медведю в лапы попади. \\\\\n",
      "-- Ты мне страшнее медведя. Я с ним оправиться умею, а твоего сердца ни дробью, ни пулей\n",
      "              не добудешь. \\\\\n",
      "-- Лих ты шутить. \\\\\n",
      "\n",
      "\n",
      "\n",
      "31\n",
      "Название кластера: Вера/обещание/прощение\\\\\n",
      "Пример: \\\\\n",
      "-- Да я ничем особливого вашего снисхождения не заслужила. \\\\\n",
      "-- Я бы желал того, чтобы и вы такое усердие ко мне получили, какое я к вам в это\n",
      "              получил короткое время. \\\\\n",
      "-- Мы и сердца наши закрыты! Я вам верю, да поверьте и мне, что и я не меньше к вам\n",
      "              усердия имею. \\\\\n",
      "\n",
      "\n",
      "\n",
      "32\n",
      "Название кластера: Фразы с троеточиями, которые обрамляют/прерывают более длинные рассуждения\\\\\n",
      "Пример: \\\\\n",
      "-- Не забудь и нас, сиятельнейшая графиня! \\\\\n",
      "-- Я еще не графиня, а вашей дружбы никогда не забуду. \\\\\n",
      "-- Высокосиятельнейшая графиня! Не оставь нас, ежели какая нужда... \\\\\n",
      "\n",
      "\n",
      "\n",
      "33\n",
      "Название кластера: Диалог из вопросов и ответов (в основном вопрос-ответ-вопрос)\\\\\n",
      "Пример: \\\\\n",
      "-- Да есть пословица, что гром-ат гремит не всегда из небесной тучи, да иногда и из\n",
      "              навозной кучи. \\\\\n",
      "-- Типун бы табе на язык; какая навозная у табя я куча? \\\\\n",
      "-- Что это, сударыня, такое? \\\\\n",
      "\n",
      "\n",
      "\n",
      "34\n",
      "Название кластера: О власти/служении\\\\\n",
      "Пример: \\\\\n",
      "-- Я прислан от графа Касандра к вашему благоро... Да вить вы, сударь, дворянин? \\\\\n",
      "-- Хотя и не богатый... Да зачем и от кого ты прислан? \\\\\n",
      "-- Я прислан от графа Касандра к вашему здоровью. Граф приказал вам нижайший отдать\n",
      "              поклон. \\\\\n",
      "\n",
      "\n",
      "\n",
      "35\n",
      "Название кластера: О любви\\\\\n",
      "Пример: \\\\\n",
      "-- А что? Разве он тебе знаком? \\\\\n",
      "-- Да я его высокой милости, покуль душа в теле, не позабуду. И коли бы он такую мне\n",
      "              многогрешной показал отеческую милость и велел бы маляру красками написать персону\n",
      "              свою, я бы ее у себя поставила пред кроватью и не спустила бы с нее глаз. \\\\\n",
      "-- Как будто слышало это мое сердце! Да почему ты знаешь его и какую сделал он тебе\n",
      "              милость? \\\\\n",
      "\n",
      "\n",
      "\n",
      "36\n",
      "Название кластера: Быстрое действие (короткие и эмоциональные фразы)\\\\\n",
      "Пример: \\\\\n",
      "-- Полно, дурища. \\\\\n",
      "-- Полно табе, дурачища. \\\\\n",
      "-- Постыдитеся. \\\\\n",
      "\n",
      "\n",
      "\n",
      "37\n",
      "Название кластера: Короткие вопросы и ответы\\\\\n",
      "Пример: \\\\\n",
      "-- Простите меня, милостивый государь. \\\\\n",
      "-- Да что этому причина, что ты не поехал? \\\\\n",
      "-- Любовь. \\\\\n",
      "\n",
      "\n",
      "\n",
      "38\n",
      "Название кластера: Разговор о прошлом/будущем/нынешнем разговоре\\\\\n",
      "Пример: \\\\\n",
      "-- Перестань же балагурить-то. \\\\\n",
      "-- Какое балагурство! Ежели это ложь, так ты повесь меня. \\\\\n",
      "-- Пора мне идти к барам, скоро барыня встанет. Так что же мне о тебе сказать? \\\\\n",
      "\n",
      "\n",
      "\n",
      "39\n",
      "Название кластера: Высказывание различных мнений о людях\\\\\n",
      "Пример: \\\\\n",
      "-- Конечно, ты балагур? \\\\\n",
      "-- А ты, душенька, так хороша, что я едаких хорошеньких мало видал. Знаешь ли ты,\n",
      "              девушка, что я в тебя смертно влюбился. \\\\\n",
      "-- Перестань же балагурить-то. \\\\\n",
      "\n",
      "\n",
      "\n",
      "40\n",
      "Название кластера: Быстрый диалог с короткими ответами\\\\\n",
      "Пример: \\\\\n",
      "-- В горшке прикажешь, барыня-государыня, или на блюде? \\\\\n",
      "-- В горшечке, да в муравленом, и покройте его веницейскою тарелкой; с морковью пироги,\n",
      "              пирожки с солеными груздями, левашники с сушеною малиной, фрукасе из свинины с\n",
      "              черносливом, французский пирог из подрукавной муки, а начинка из брусничной пастилы.\n",
      "              Да есть ли у нас калужское тесто? \\\\\n",
      "-- Имеется. \\\\\n",
      "\n",
      "\n",
      "\n",
      "41\n",
      "Название кластера: Диалог с короткими эмоциональными фразами\\\\\n",
      "Пример: \\\\\n",
      "-- Нисколько! \\\\\n",
      "-- А я хочу тебя назвать: влюбленный скрипач! \\\\\n",
      "-- Или влюбленный профессор!.. \\\\\n",
      "\n",
      "\n",
      "\n",
      "42\n",
      "Название кластера: О свадьбе\\\\\n",
      "Пример: \\\\\n",
      "-- Я готов раз пять обвенчаться с тобою. \\\\\n",
      "-- И пять раз изменить. \\\\\n",
      "-- Многие бы мужья и жены постоянными еще называлися, ежели бы только друг другу по пяти\n",
      "              раз изменяли. \\\\\n",
      "\n",
      "\n",
      "\n",
      "43\n",
      "Название кластера: Быт и деньги\\\\\n",
      "Пример: \\\\\n",
      "-- У тебя, Ниса, ушки смеются. \\\\\n",
      "-- Не таюся, правда ваша. \\\\\n",
      "-- А как гости-то поедут, так ушки твои плакать станут. \\\\\n",
      "\n",
      "\n",
      "\n",
      "44\n",
      "Название кластера: Комбинации из коротких вопросов и ответов\\\\\n",
      "Пример: \\\\\n",
      "-- Я не приглашала. \\\\\n",
      "-- И прекрасно. \\\\\n",
      "-- Самовар! Это ужасно! \\\\\n",
      "\n",
      "\n",
      "\n",
      "45\n",
      "Название кластера: Короткие вопросы/ответы на тему передвижений\\\\\n",
      "Пример: \\\\\n",
      "-- У лукоморья дуб зеленый, златая цепь на дубе том... Златая цепь на дубе том... \\\\\n",
      "-- Ты сегодня невеселая, Маша. Куда ты? \\\\\n",
      "-- Домой. \\\\\n",
      "\n",
      "\n",
      "\n",
      "46\n",
      "Название кластера: Активное действие (призывы к действию)\\\\\n",
      "Пример: \\\\\n",
      "-- Птица моя белая... \\\\\n",
      "-- Когда я сегодня проснулась, встала и умылась, то мне вдруг стало казаться, что для\n",
      "              меня все ясно на этом свете, и я знаю, как надо жить. Милый Иван Романыч, я знаю все.\n",
      "              Человек должен трудиться, работать в поте лица, кто бы он ни был, и в этом одном\n",
      "              заключается смысл и цель его жизни, его счастье, его восторги. Как хорошо быть\n",
      "              рабочим, который встает чуть свет и бьет на улице камни, или пастухом, или учителем,\n",
      "              который учит детей, или машинистом на железной дороге... Боже мой, не то что\n",
      "              человеком, лучше быть волом, лучше быть простою лошадью, только бы работать, чем\n",
      "              молодой женщиной, которая встает в двенадцать часов дня, потом пьет в постели кофе,\n",
      "              потом два часа одевается... о, как это ужасно! В жаркую погоду так иногда хочется\n",
      "              пить, как мне захотелось работать. И если я не буду рано вставать и трудиться, то\n",
      "              откажите мне в вашей дружбе, Иван Романыч. \\\\\n",
      "-- Откажу, откажу... \\\\\n",
      "\n",
      "\n",
      "\n",
      "47\n",
      "Название кластера: Быстрый диалог с короткими эмоциональными фразами\\\\\n",
      "Пример: \\\\\n",
      "-- Ну, что ж! Очень рада. \\\\\n",
      "-- Он старый? \\\\\n",
      "-- Нет, ничего. Самое большее, лет сорок, сорок пять. По-видимому, славный малый. Неглуп, это – несомненно. Только говорит много. \\\\\n",
      "\n",
      "\n",
      "\n",
      "48\n",
      "Название кластера: Описания\\\\\n",
      "Пример: \\\\\n",
      "-- Что ты так весела, Ниса? \\\\\n",
      "-- А ты, матушка, что так печальна? \\\\\n",
      "-- Коли ты меня веселою видишь? \\\\\n",
      "\n",
      "\n",
      "\n",
      "49\n",
      "Название кластера: Диалоги с территориальными вопросами (о движении/местонахождении)\\\\\n",
      "Пример: \\\\\n",
      "-- Решетчаты-е! \\\\\n",
      "-- Черт возьми, давайте выпьем. Андрюша, давайте выпьем на ты. И я с тобой, Андрюша, в\n",
      "              Москву, в университет. \\\\\n",
      "-- В какой? В Москве два университета. \\\\\n",
      "\n",
      "\n",
      "\n"
     ]
    }
   ],
   "source": [
    "for clust in range(50):\n",
    "    print(clust)\n",
    "    print('Название кластера: {}\\\\\\\\'.format(ngram_clusters_names[clust]))\n",
    "    print('Пример: \\\\\\\\' )\n",
    "    for rep in huge_clusters_to_text[clust][0]:\n",
    "        print('-- {} \\\\\\\\'.format(rep))\n",
    "    print('\\n\\n')"
   ]
  },
  {
   "cell_type": "code",
   "execution_count": 125,
   "metadata": {},
   "outputs": [
    {
     "name": "stdout",
     "output_type": "stream",
     "text": [
      "Вопрос&Я прислан от графа Касандра к вашему сия... к вашему превосхо... к вашему высоко...               Какого, сударь, вы чина?\\\\ \\hline\n",
      "Эмоциональное высказывание&Говори, друг мой, то, зачем ты прислан, покороче.\\\\ \\hline\n",
      "Действие/призыв к действию&Откажу, откажу...\\\\ \\hline\n",
      "Брат/сестра&Что тебе, братец, до моего чина? Какого ни есть.\\\\ \\hline\n",
      "Высказывание о себе или других людях&А ты, душенька, так хороша, что я едаких хорошеньких мало видал. Знаешь ли ты,               девушка, что я в тебя смертно влюбился.\\\\ \\hline\n",
      "Короткий ответ&Имеется.\\\\ \\hline\n",
      "Хозяйство/еда/время&Да водочка та, ваша высокорейсграфская светлость, самая знатная и богатая.\\\\ \\hline\n",
      "Шутки/смех/обида&У тебя, Ниса, ушки смеются.\\\\ \\hline\n",
      "Вера/обещание/прощение&Мы и сердца наши закрыты! Я вам верю, да поверьте и мне, что и я не меньше к вам               усердия имею.\\\\ \\hline\n",
      "Вопрос(может эмоциональный)&Что ты, друг мой?\\\\ \\hline\n",
      "Молчание/разговор&Пора мне идти к барам, скоро барыня встанет. Так что же мне о тебе сказать?\\\\ \\hline\n",
      "Чувство/религия/мифология&Да я его высокой милости, покуль душа в теле, не позабуду. И коли бы он такую мне               многогрешной показал отеческую милость и велел бы маляру красками написать персону               свою, я бы ее у себя поставила пред кроватью и не спустила бы с нее глаз.\\\\ \\hline\n",
      "\"Вижу\"(описание/вопрос)&Коли ты меня веселою видишь?\\\\ \\hline\n",
      "Эмоциональное восклицание&О, льстивая надежда! О, несчастная Ниса!\\\\ \\hline\n",
      "Короткий ответ&Это уж очень низко.\\\\ \\hline\n",
      "Короткий ответ с отрицательной частицей&Не к тому клонится.\\\\ \\hline\n",
      "Эмоциональное высказывние/вопрос&Какого это енарала адъютант у нас был?\\\\ \\hline\n",
      "Фраза с троеточием(эмоция)&А бедного моего егеря он с лошади...\\\\ \\hline\n",
      "Благодарность/радость/поздравление&Покорно благодарствую, матушка, жарко и без водки.\\\\ \\hline\n",
      "Короткий вопрос&Как же без этого?\\\\ \\hline\n",
      "Обращение по имени отчеству&Иван Романыч, милый Иван Романыч!\\\\ \\hline\n",
      "Быт/передвижения&Перестань же балагурить-то.\\\\ \\hline\n",
      "Князь/царь/король/власть&Я прислан от графа Касандра к вашему благоро... Да вить вы, сударь, дворянин?\\\\ \\hline\n",
      "Мнение/действие&Он еще в постеле. Да от кого ты прислан и зачем?\\\\ \\hline\n",
      "Семейный отношения(Бог как отец)&Что же делать, сударь, и поневоле живешь, когда этого переменить нельзя. Я осталася в               сиротстве и в бедности, и только одна после отца пришла мне в наследство               деревенька.\\\\ \\hline\n",
      "Короткая фраза с троеточием&Птица моя белая...\\\\ \\hline\n",
      "О знании ;&Да он ее и не знает.\\\\ \\hline\n",
      "О женщине&Потому что она здешняя помещица.\\\\ \\hline\n",
      "О действии&Какое балагурство! Ежели это ложь, так ты повесь меня.\\\\ \\hline\n",
      "О передвижении&Так скоро ты возвратился! Да отселе до Москвы с лишком сто верст.\\\\ \\hline\n",
      "Свадьба/жених/невеста&Достойного жениха скудной или, лучше сказать, неимущей девке трудно иметь: скудный и               достойный меня не возьмет, а за недостойного богача я не пойду.\\\\ \\hline\n",
      "К матери/о матери&Фу, матка, какая любопытная.\\\\ \\hline\n",
      "Эмоциональное высказывание&Его сиятельство!\\\\ \\hline\n",
      "О деньгах&Хотя и не богатый... Да зачем и от кого ты прислан?\\\\ \\hline\n",
      "Мнение о человеке/людях/группе лиц&Не адъютант, егерь был. По-нашему, слуга, который стреляет ходя птиц.\\\\ \\hline\n",
      "Короткое восклицание/ ответ (слово вот)&И мы там тоже...\\\\ \\hline\n",
      "Отрицательный ответ/восклицание (нет/нельзя/невозможно)&Может быти, что твоя жизнь и пременится когда-нибудь.\\\\ \\hline\n",
      "Прощание/просьба прощения/стыд&Да как же нас, дураков, не учить? Мы перед вашим сиятельством и без вины               виноваты.\\\\ \\hline\n",
      "Вопрос-уточнение&А хорош граф-ат?\\\\ \\hline\n",
      "Вопрос территориальный &Ты сегодня невеселая, Маша. Куда ты?\\\\ \\hline\n",
      "Обращение/восклицание&У себя ли, девушка, господин ваш?\\\\ \\hline\n",
      "О любви&Как будто слышало это мое сердце! Да почему ты знаешь его и какую сделал он тебе               милость?\\\\ \\hline\n",
      "О себе (действие)&Странно мне это.\\\\ \\hline\n",
      "Короткая фраза/вопрос с отрицанием&Нет, ничего. Самое большее, лет сорок, сорок пять. По-видимому, славный малый. Неглуп, это – несомненно. Только говорит много.\\\\ \\hline\n",
      "О себе&К кому я прислан, тому я и скажу, от кого я прислан и зачем.\\\\ \\hline\n",
      "Короткий утвердительный ответ/ короткий вопрос&Очень хорошо.\\\\ \\hline\n",
      "Длинная фраза про общество/страну/общественное положение/работу/быт&Ныне у господ такой манер. Это был егерь от графа Касандра: его сиятельство к нам               заехать изволит.\\\\ \\hline\n",
      "Длинное рассуждение (о высоких темах)&А вот, сердечушко, я тебе донесу. Как я нынешнею зимою была без тебя в Москве, так               расхвалили мне какую-то интермецию и уговорили меня туда съездить. Бывает и на старуху               проруха. Поехала, вошла я в залу, заиграли и на скрипицах, и на гобоях, и на               клевикортах\\\\ \\hline\n",
      "Мнение о собеседнике&Конечно, ты балагур?\\\\ \\hline\n",
      "О жене/муже/отношениях&Титулуй как хочешь. Да что графу до моей жены?\\\\ \\hline\n"
     ]
    }
   ],
   "source": [
    "for clust in range(50):\n",
    "    text = ' '.join(clusters_to_texts[clust][0].split('\\n'))\n",
    "    print('{}&{}\\\\\\\\ \\\\hline'.format(cluster_names[clust], text[:300]))"
   ]
  },
  {
   "cell_type": "code",
   "execution_count": 91,
   "metadata": {},
   "outputs": [],
   "source": [
    "es_clust = '''¿Y cómo te lo dijo?\n",
    "¡Lo que digo!\n",
    "¿Hay que decir las cosas dos veces? ¡Echadlo que se revuelque en los montones de paja!  Pues encerrad las potras en la cuadra, pero dejadlo libre, no sea que nos eche abajo las paredes.  ¡Ay, qué vida!\n",
    "yo no quiero hablar porque temo tus intenciones. Pero no estés segura.\n",
    "Hay quien cree que habló muchas noches con .\n",
    "Ha llegado el momento de que yo hable. Esto no puede seguir así.\n",
    "¿Ha oído usted contar?  No recuerdo...  No hablemos de eso: cosas de la juventud. (Pues no sé a qué podrá referirse.)\n",
    "Dice  que deseaba usted hablarme.\n",
    "Es verdad; todavía no he dicho lo que tenía que decir.\n",
    "Haz lo que quieras, pero silencio.'''\n",
    "\n",
    "en_clust = '''I heard the owl scream and the crickets cry.\n",
    "Did not you speak?\n",
    "Well, let's away, and say how much is done.\n",
    "Say, if th' hadst rather hear it from our mouths,\n",
    "Or from our masters?\n",
    "He knows thy thought:\n",
    "Hear his speech, but say thou nought.\n",
    "Listen, but speak not to't.\n",
    "With what I get, I mean; and so do they.\n",
    "If such a one be fit to govern, speak:\n",
    "I am as I have spoken.\n",
    "Be not a niggard of your speech: how goes't?'''\n",
    "\n",
    "de_clust = '''Na muaß i d' wahrheit drauß'n hör'n.'''\n",
    "\n",
    "ru_clust = '''Покойной, вам легко сказать!\n",
    "Но скажите мне, скажите, что вы не в состоянии оскорбить женщину.\n",
    "И ни слова мне не скажете?\n",
    "Вы меня не увидите более… Я вам говорю — я не переживу этой ночи.\n",
    "Скажи, правду, умоляю тебя, скажи мне правду…\n",
    "Пора мне идти к барам, скоро барыня встанет. Так что же мне о тебе сказать?\n",
    "Да ты не в слове, да в деле промолвилася.\n",
    "Дело больше, а слово меньше.\n",
    "Ваше сиятельство, вы темно говорите и делаете не знаю какие намеки, которых я не понимаю.\n",
    "Позволите ли мне яснее выговорить.'''"
   ]
  },
  {
   "cell_type": "code",
   "execution_count": 92,
   "metadata": {},
   "outputs": [
    {
     "name": "stdout",
     "output_type": "stream",
     "text": [
      "\\hline\n",
      "Русский&Испанский&Немецкий&Анкглийский\\\\ \\hline\n",
      "Покойной, вам легко сказать!\n",
      "Но скажите мне, скажите, что вы не в состоянии оскорбить женщину.\n",
      "И ни слова мне не скажете?\n",
      "Вы меня не увидите более… Я вам говорю — я не переживу этой ночи.\n",
      "Скажи, правду, умоляю тебя, скажи мне правду…\n",
      "Пора мне идти к барам, скоро барыня встанет. Так что же мне о тебе сказать?\n",
      "Да ты не в слове, да в деле промолвилася.\n",
      "Дело больше, а слово меньше.\n",
      "Ваше сиятельство, вы темно говорите и делаете не знаю какие намеки, которых я не понимаю.\n",
      "Позволите ли мне яснее выговорить.&¿Y cómo te lo dijo?\n",
      "¡Lo que digo!\n",
      "¿Hay que decir las cosas dos veces? ¡Echadlo que se revuelque en los montones de paja!  Pues encerrad las potras en la cuadra, pero dejadlo libre, no sea que nos eche abajo las paredes.  ¡Ay, qué vida!\n",
      "yo no quiero hablar porque temo tus intenciones. Pero no estés segura.\n",
      "Hay quien cree que habló muchas noches con .\n",
      "Ha llegado el momento de que yo hable. Esto no puede seguir así.\n",
      "¿Ha oído usted contar?  No recuerdo...  No hablemos de eso: cosas de la juventud. (Pues no sé a qué podrá referirse.)\n",
      "Dice  que deseaba usted hablarme.\n",
      "Es verdad; todavía no he dicho lo que tenía que decir.\n",
      "Haz lo que quieras, pero silencio.&Na muaß i d' wahrheit drauß'n hör'n.&I heard the owl scream and the crickets cry.\n",
      "Did not you speak?\n",
      "Well, let's away, and say how much is done.\n",
      "Say, if th' hadst rather hear it from our mouths,\n",
      "Or from our masters?\n",
      "He knows thy thought:\n",
      "Hear his speech, but say thou nought.\n",
      "Listen, but speak not to't.\n",
      "With what I get, I mean; and so do they.\n",
      "If such a one be fit to govern, speak:\n",
      "I am as I have spoken.\n",
      "Be not a niggard of your speech: how goes't?\\\\\n",
      "\\hline\n"
     ]
    }
   ],
   "source": [
    "print('\\\\hline')\n",
    "print('{}&{}&{}&{}\\\\\\\\ \\\\hline'.format('Русский', 'Испанский', 'Немецкий', 'Анкглийский'))\n",
    "for i in range(1):\n",
    "    ru = ru_clust if len(ru_clust) > i else ''\n",
    "    es = es_clust if len(es_clust) > i else ''\n",
    "    de = de_clust if len(de_clust) > i else ''\n",
    "    en = en_clust if len(en_clust) > i else ''\n",
    "    print('{}&{}&{}&{}\\\\\\\\'.format(ru, es, de, en))\n",
    "print('\\\\hline')"
   ]
  },
  {
   "cell_type": "code",
   "execution_count": null,
   "metadata": {},
   "outputs": [],
   "source": []
  }
 ],
 "metadata": {
  "kernelspec": {
   "display_name": "Python 3",
   "language": "python",
   "name": "python3"
  },
  "language_info": {
   "codemirror_mode": {
    "name": "ipython",
    "version": 3
   },
   "file_extension": ".py",
   "mimetype": "text/x-python",
   "name": "python",
   "nbconvert_exporter": "python",
   "pygments_lexer": "ipython3",
   "version": "3.7.6"
  }
 },
 "nbformat": 4,
 "nbformat_minor": 4
}
